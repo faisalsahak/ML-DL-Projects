{
 "cells": [
  {
   "cell_type": "markdown",
   "metadata": {},
   "source": [
    "## POS tagging using modified Viterbi"
   ]
  },
  {
   "cell_type": "markdown",
   "metadata": {},
   "source": [
    "### Data Preparation"
   ]
  },
  {
   "cell_type": "code",
   "execution_count": 164,
   "metadata": {},
   "outputs": [],
   "source": [
    "#Importing libraries\n",
    "import nltk\n",
    "import numpy as np\n",
    "import matplotlib.pyplot as plt\n",
    "import pandas as pd\n",
    "import seaborn as sns\n",
    "from sklearn.model_selection import train_test_split"
   ]
  },
  {
   "cell_type": "code",
   "execution_count": 165,
   "metadata": {},
   "outputs": [
    {
     "name": "stderr",
     "output_type": "stream",
     "text": [
      "[nltk_data] Downloading package universal_tagset to\n",
      "[nltk_data]     /Users/faisal/nltk_data...\n",
      "[nltk_data]   Package universal_tagset is already up-to-date!\n",
      "[nltk_data] Downloading package treebank to /Users/faisal/nltk_data...\n",
      "[nltk_data]   Package treebank is already up-to-date!\n"
     ]
    }
   ],
   "source": [
    "# reading the Treebank tagged sentences\n",
    "nltk.download('universal_tagset')\n",
    "nltk.download('treebank')\n",
    "nltk_data = list(nltk.corpus.treebank.tagged_sents(tagset='universal'))"
   ]
  },
  {
   "cell_type": "code",
   "execution_count": 166,
   "metadata": {},
   "outputs": [
    {
     "data": {
      "text/plain": [
       "3914"
      ]
     },
     "execution_count": 166,
     "metadata": {},
     "output_type": "execute_result"
    }
   ],
   "source": [
    "len(nltk_data)"
   ]
  },
  {
   "cell_type": "code",
   "execution_count": 167,
   "metadata": {},
   "outputs": [
    {
     "name": "stdout",
     "output_type": "stream",
     "text": [
      "[[('Pierre', 'NOUN'), ('Vinken', 'NOUN'), (',', '.'), ('61', 'NUM'), ('years', 'NOUN'), ('old', 'ADJ'), (',', '.'), ('will', 'VERB'), ('join', 'VERB'), ('the', 'DET'), ('board', 'NOUN'), ('as', 'ADP'), ('a', 'DET'), ('nonexecutive', 'ADJ'), ('director', 'NOUN'), ('Nov.', 'NOUN'), ('29', 'NUM'), ('.', '.')], [('Mr.', 'NOUN'), ('Vinken', 'NOUN'), ('is', 'VERB'), ('chairman', 'NOUN'), ('of', 'ADP'), ('Elsevier', 'NOUN'), ('N.V.', 'NOUN'), (',', '.'), ('the', 'DET'), ('Dutch', 'NOUN'), ('publishing', 'VERB'), ('group', 'NOUN'), ('.', '.')], [('Rudolph', 'NOUN'), ('Agnew', 'NOUN'), (',', '.'), ('55', 'NUM'), ('years', 'NOUN'), ('old', 'ADJ'), ('and', 'CONJ'), ('former', 'ADJ'), ('chairman', 'NOUN'), ('of', 'ADP'), ('Consolidated', 'NOUN'), ('Gold', 'NOUN'), ('Fields', 'NOUN'), ('PLC', 'NOUN'), (',', '.'), ('was', 'VERB'), ('named', 'VERB'), ('*-1', 'X'), ('a', 'DET'), ('nonexecutive', 'ADJ'), ('director', 'NOUN'), ('of', 'ADP'), ('this', 'DET'), ('British', 'ADJ'), ('industrial', 'ADJ'), ('conglomerate', 'NOUN'), ('.', '.')], [('A', 'DET'), ('form', 'NOUN'), ('of', 'ADP'), ('asbestos', 'NOUN'), ('once', 'ADV'), ('used', 'VERB'), ('*', 'X'), ('*', 'X'), ('to', 'PRT'), ('make', 'VERB'), ('Kent', 'NOUN'), ('cigarette', 'NOUN'), ('filters', 'NOUN'), ('has', 'VERB'), ('caused', 'VERB'), ('a', 'DET'), ('high', 'ADJ'), ('percentage', 'NOUN'), ('of', 'ADP'), ('cancer', 'NOUN'), ('deaths', 'NOUN'), ('among', 'ADP'), ('a', 'DET'), ('group', 'NOUN'), ('of', 'ADP'), ('workers', 'NOUN'), ('exposed', 'VERB'), ('*', 'X'), ('to', 'PRT'), ('it', 'PRON'), ('more', 'ADV'), ('than', 'ADP'), ('30', 'NUM'), ('years', 'NOUN'), ('ago', 'ADP'), (',', '.'), ('researchers', 'NOUN'), ('reported', 'VERB'), ('0', 'X'), ('*T*-1', 'X'), ('.', '.')], [('The', 'DET'), ('asbestos', 'NOUN'), ('fiber', 'NOUN'), (',', '.'), ('crocidolite', 'NOUN'), (',', '.'), ('is', 'VERB'), ('unusually', 'ADV'), ('resilient', 'ADJ'), ('once', 'ADP'), ('it', 'PRON'), ('enters', 'VERB'), ('the', 'DET'), ('lungs', 'NOUN'), (',', '.'), ('with', 'ADP'), ('even', 'ADV'), ('brief', 'ADJ'), ('exposures', 'NOUN'), ('to', 'PRT'), ('it', 'PRON'), ('causing', 'VERB'), ('symptoms', 'NOUN'), ('that', 'DET'), ('*T*-1', 'X'), ('show', 'VERB'), ('up', 'PRT'), ('decades', 'NOUN'), ('later', 'ADJ'), (',', '.'), ('researchers', 'NOUN'), ('said', 'VERB'), ('0', 'X'), ('*T*-2', 'X'), ('.', '.')], [('Lorillard', 'NOUN'), ('Inc.', 'NOUN'), (',', '.'), ('the', 'DET'), ('unit', 'NOUN'), ('of', 'ADP'), ('New', 'ADJ'), ('York-based', 'ADJ'), ('Loews', 'NOUN'), ('Corp.', 'NOUN'), ('that', 'DET'), ('*T*-2', 'X'), ('makes', 'VERB'), ('Kent', 'NOUN'), ('cigarettes', 'NOUN'), (',', '.'), ('stopped', 'VERB'), ('using', 'VERB'), ('crocidolite', 'NOUN'), ('in', 'ADP'), ('its', 'PRON'), ('Micronite', 'NOUN'), ('cigarette', 'NOUN'), ('filters', 'NOUN'), ('in', 'ADP'), ('1956', 'NUM'), ('.', '.')], [('Although', 'ADP'), ('preliminary', 'ADJ'), ('findings', 'NOUN'), ('were', 'VERB'), ('reported', 'VERB'), ('*-2', 'X'), ('more', 'ADV'), ('than', 'ADP'), ('a', 'DET'), ('year', 'NOUN'), ('ago', 'ADP'), (',', '.'), ('the', 'DET'), ('latest', 'ADJ'), ('results', 'NOUN'), ('appear', 'VERB'), ('in', 'ADP'), ('today', 'NOUN'), (\"'s\", 'PRT'), ('New', 'NOUN'), ('England', 'NOUN'), ('Journal', 'NOUN'), ('of', 'ADP'), ('Medicine', 'NOUN'), (',', '.'), ('a', 'DET'), ('forum', 'NOUN'), ('likely', 'ADJ'), ('*', 'X'), ('to', 'PRT'), ('bring', 'VERB'), ('new', 'ADJ'), ('attention', 'NOUN'), ('to', 'PRT'), ('the', 'DET'), ('problem', 'NOUN'), ('.', '.')], [('A', 'DET'), ('Lorillard', 'NOUN'), ('spokewoman', 'NOUN'), ('said', 'VERB'), (',', '.'), ('``', '.'), ('This', 'DET'), ('is', 'VERB'), ('an', 'DET'), ('old', 'ADJ'), ('story', 'NOUN'), ('.', '.')], [('We', 'PRON'), (\"'re\", 'VERB'), ('talking', 'VERB'), ('about', 'ADP'), ('years', 'NOUN'), ('ago', 'ADP'), ('before', 'ADP'), ('anyone', 'NOUN'), ('heard', 'VERB'), ('of', 'ADP'), ('asbestos', 'NOUN'), ('having', 'VERB'), ('any', 'DET'), ('questionable', 'ADJ'), ('properties', 'NOUN'), ('.', '.')], [('There', 'DET'), ('is', 'VERB'), ('no', 'DET'), ('asbestos', 'NOUN'), ('in', 'ADP'), ('our', 'PRON'), ('products', 'NOUN'), ('now', 'ADV'), ('.', '.'), (\"''\", '.')]]\n"
     ]
    }
   ],
   "source": [
    "print(nltk_data[:10])"
   ]
  },
  {
   "cell_type": "code",
   "execution_count": 168,
   "metadata": {},
   "outputs": [],
   "source": [
    "# split data into train test with a 95% train and 5% test size\n",
    "train_data, test_data = train_test_split(nltk_data,train_size=0.95, test_size=0.05, random_state=101)"
   ]
  },
  {
   "cell_type": "code",
   "execution_count": 169,
   "metadata": {},
   "outputs": [
    {
     "name": "stdout",
     "output_type": "stream",
     "text": [
      "3718 196\n"
     ]
    }
   ],
   "source": [
    "print(len(train_data), len(test_data))"
   ]
  },
  {
   "cell_type": "code",
   "execution_count": 170,
   "metadata": {},
   "outputs": [
    {
     "name": "stdout",
     "output_type": "stream",
     "text": [
      "95547\n",
      "5129\n"
     ]
    }
   ],
   "source": [
    "# taking out the tagged words from the training and testing sets\n",
    "\n",
    "train_tag = []\n",
    "test_tag = []\n",
    "for words in train_data:\n",
    "    for word in words:\n",
    "        train_tag.append(word)\n",
    "        \n",
    "for words in test_data:\n",
    "    for word in words:\n",
    "        test_tag.append(word)\n",
    "        \n",
    "        \n",
    "print(len(train_tag))\n",
    "print(len(test_tag))"
   ]
  },
  {
   "cell_type": "code",
   "execution_count": 171,
   "metadata": {},
   "outputs": [
    {
     "name": "stdout",
     "output_type": "stream",
     "text": [
      "[('Encouraging', 'VERB'), ('long-term', 'ADJ'), ('investing', 'NOUN'), ('.', '.'), ('Because', 'ADP')]\n",
      "[('*', 'X'), ('phasing', 'VERB'), ('out', 'PRT'), ('John', 'NOUN'), ('Deere', 'NOUN')]\n"
     ]
    }
   ],
   "source": [
    "# tagged words\n",
    "print(train_tag[10:15])\n",
    "print(test_tag[10:15])\n"
   ]
  },
  {
   "cell_type": "code",
   "execution_count": 172,
   "metadata": {},
   "outputs": [
    {
     "name": "stdout",
     "output_type": "stream",
     "text": [
      "{'*T*-55', 'pockets', '14.', 'bonds', 'efforts', '2.07', '396,000', 'piece', 'Mercantile', 'acknowledge', 'befell', 'change', 'Alysia', 'thrift', 'newspaper', 'Commerce', '1.9', 'summer', 'provisions', 'off-off', 'bonuses', 'counterattack', 'Winning', 'abortions', 'CERTIFICATES', 'limbo', 'Sol', 'theological', 'Sidak', 'Laura', 'unfunded', 'plaintiffs', 'best-selling', 'affiliates', 'receipts', 'denies', 'listed', 'revolves', 'disagree', '*-71', '*-46', 'insolvency', 'Austrian', 'regret', 'stellar', '228', 'hunted', 'films', 'contributed', 'wonder', 'Borge', 'Organizations', 'similarity', '992,000', 'Miller', 'finalized', 'established', 'privacy', 'judgments', 'life', 'Greenville', '28.36', 'DNA', 'infusion', 'defeat', 'Hopwood', 'Marcus', 'result', 'government', 'vacant', '226,570,380', '120-a-share', 'editing', 'contesting', 'mortgage-backed', 'boilers', 'violate', 'execute', 'firm', 'Competes', 'minutes', 'hopefully', 'contacts', '@', 'guarding', 'Monopolies', 'sales', 'spirits', 'Terrence', 'Electronics', '*T*-208', ';', 'language-housekeeper', 'needing', 'NBC', 'proprietor', 'Worksheets', 'ordered', '*-122', 'Simmons', '340,000', 'broker', 'city-owned', 'Trump', 'shrinks', 'weapon', 'Newsweek', 'Rather', 'expunged', 'heavy-truck', 'overpaying', 'pillow', 'improbable', 'reference', '1969', 'Salon', '570', 'non-core', 'worsening', 'diluted', 'Tenn.', 'DeFazio', 'gross', 'Countries', 'deputy', 'laws', 'Antitrust', 'guy', 'Abbey', 'Yamamoto', 'assuming', 'Cara', 'intense', 'Rudolph', 'Rieslings', 'Edwin', 'electronics', 'estimate', 'scrupulously', 'expert', 'skittishness', '*T*-200', 'tip', 'fetal-tissue', 'five', '38.3', 'Wamre', 'pasta', 'Prosecutors', 'side-crash', 'beyond', 'indexers', 'architecture', 'affair', 'political', 'Walters', 'skyward', 'Still', 'relied', 'Brazilian', 'unfair', 'congressman', 'protection', 'Woodcliff', 'Emile', '89.7', 'car', 'homes', 'tapes', 'awfully', '0.99', 'smoke', 'Optical', 'disputes', 'fastest', 'charging', 'INTER-TEL', 'water', 'value', 'invented', 'corruption', 'regardless', 'Sigmund', 'sink', 'Viacom', 'Unitholders', 'fallen', 'Conn', 'passing', 'large-scale', '6,799', 'attending', 'times', 'otherwise', '5.82', 'politically', '352.9', 'cells', 'tracking', 'profit', 'environmental', 'recently', 'senate', 'oldest', 'Urban', 'interest-bearing', 'professors', 'amid', 'kit', '2,500', 'Landonne', 'Ohio-based', 'Pamela', '*T*-23', '77.6', 'Osaka', 'Mitchell', 'accrue', 'Diamond', 'Because', 'BTR', 'High-grade', 'lousy', 'rejected', 'search', 'Aktiebolaget', 'ropes', 'quashing', 'life-insurance', 'Billings', 'as', 'sweatshirts', 'listing', 'subtraction', '*-127', 'Brownell', 'discount', 'ministers', 'holiday', 'tissue', 'Roof', 'bitter', 'population', 'paying', 'differences', 'Law', 'incurred', '2.44', 'sauce', 'dissemination', 'representative', 'mother', 'above', 'TIRED', 'Americana', 'Federalist', 'writing', 'Barfield', 'Suisse', 'intensity', '271,124', 'driver', 'offerings', 'victims', 'equally', 'someone', 'harshly', 'predictably', 'gradual', 'prescient', 'prostitute', 'Garbage', 'entertain', 'crashes', 'deals', 'Glaxo', 'Companies', 'No.', 'root', 'tunes', 'resort', 'fair', 'Bonnell', 'premiums', 'most-likely-successor', 'scripts', 'Ariz.', 'requires', 'initiatives', '30.6', 'dumbfounded', 'TEXAS', 'Some', 'As', 'harder', 'bold', 'reduced', 'deterring', 'Propaganda', 'papers', 'baby', 'hangs', 'expansion', 'Bennett', 'specializes', 'witnesses', 'Robert', 'unlikely', 'strict', 'Seoul', '1967', 'Gottlieb', 'makers', 'Hamilton', 'stress', 'Seed', 'Most', '5.435', '420', 'Basham', 'careful', 'learning', 'picking', 'distant', 'burdens', 'urging', 'century', 'propose', 'did', 'high-tech', 'controversy', 'decision', 'odd-sounding', 'energy', 'seasonally', 'increases', 'fluent', 'believed', '11.95', 'Times-Stock', 'FEDERAL', 'Estate', '*T*-7', 'front-seat', 'continuously', 'examinations', 'Chafic', 'Linda', 'governor', 'Darkhorse', 'experienced', '*T*-223', 'chairman', 'erudite', 'opinion', 'anytime', 'numerous', 'halls', 'Being', 'Sachs', 'wrong', 'AG', 'Backe', 'Takuma', 'Marie-Louise', 'Phoenix', 'rising', 'fault', 'Superdome', 'obvious', '*U*', 'used', 'planners', 'requiring', 'corporations', '*-60', 'racket', 'slowly', 'seemed', 'reversed', 'dolls', 'commitment', 'Arizona', 'basket', 'landfill', '*T*-207', 'feelings', 'casts', 'manage', 'Trustco', 'winter', '28.53', 'prohibiting', 'underwriter', '235', 'year-to-year', 'pre-1933', 'mailed', 'defendants', 'clarified', 'surpluses', 'Sayers', '*T*-56', 'On', 'gubernatorial', 'secede', 'flagrant', 'more', '500-stock', 'Sandberg', 'department', 'ordinary', 'everything', 'Junk-bond', 'counterparts', 'muffled', 'chance', 'tickets', 'castle', 'How', 'charged', 'Mitsui', 'domination', '*T*-21', 'entered', '*-8', 'Opportunity', 'jam', 'lawsuits', 'operational', 'NTG', 'sociology', 'scaring', 'botched', 'peddling', 'BMP-1', 'Donoghue', 'Charlotte', 'Also', '1990', 'exchanging', 'investment-grade', 'defends', 'Underwoods', 'Power', 'four-year', 'RULING', 'April', 'noodles', 'successful', 'north', '142.84', 'finance', '250,000', '*-75', 'minted', 'G.', 'surprising', 'Shokubai', 'Rhone', 'unproductive', 'afterwards', 'AIDS', 'holder', 'article', 'daughters', 'Stern', 'Barney', 'Other', 'enabled', 'selected', 'cornerstones', 'games', '10', 'Seattle', 'disruptive', 'designers', '*-61', 'acceptance', 'deadline', 'Droz', 'host', 'warn', 'install', 'doctors', 'Smelting', 'cushion', '3.42', 'My', 'reputation', 'Rated', 'deluxe', 'emerging', 'Dec.', 'approximately', 'Yesterday', 'claimed', 'reached', 'snaking', 'taper', 'arrived', 'monopoly', 'humans', 'believe', 'negatives', '*-32', 'locations', 'Shrum', 'allow', 'copyright', 'numeral', 'practical', 'Preston', 'grade', 'blow', 'risen', 'harbinger', 'reflect', 'rumors', '28', 'primary', 'restructures', 'influencing', 'Lead', 'portrayed', 'operators', 'compassion', 'playing', 'Confidence', 'sharper', 'precedent', 'scenario', 'differential', 'Angier', '7.63', 'accountant', 'auctions', 'COMMERCIAL', 'Brooks', '142.85', '967,809', 'Ackerman', 'Voters', '*T*-10', 'Shearson', 'fuller', 'Nipponese', 'flush', 'performers', 'fast-growing', 'prefecture', 'Berliner', 'plants', 'jointly', 'churches', 'tells', 'privileged', 'unrestricted', 'Edelman', 'perfectly', 'refuses', 'started', 'floating-rate', 'F', 'tens', 'events', '0', 'B-1B', 'affairs', 'Colo.', 'queers', 'IBM', 'Harris', 'remain', 'admits', 'silicon', 'romanticized', 'Who', 'DOONESBURY', '3.19', 'jockeys', '*-86', 'fumes', 'Spain', 'Soho', 'pressures', 'anticipated', 'Cathryn', 'Kennedy', 'viewed', 'Reddington', 'hitting', '3\\\\/4', 'ranged', 'relevance', 'COLLECTING', 'suspended', 'reorganization', 'data', 'senses', '*T*-15', 'bone', 'Mexican', 'beauty', '*-39', 'bribed', 'two-week', 'training', 'departments', 'sense', 'Larry', 'out', 'absolutely', 'remaining', 'establishing', 'states', 'Vichy', '1997', 'Protection', 'modems', 'impending', '1:30', 'Wilcox', '1937-40', 'Tassinari', '63-year-old', 'complains', 'founded', '1986', 'French', 'accurately', 'generated', 'Richebourg', 'three', 'North', '*-36', 'Centers', 'Irwin', 'persons', 'expects', 'Dakota', 'supplies', 'caustic', 'unavailability', 'Small', 'Guffey', 'caveat', 'affecting', 'wallowing', 'entirely', '13.73', '16.05', 'spectacular', 'sweetened', '*T*-25', 'Luce', 'freedom', 'enters', 'branch', 'stirrings', 'distributable', 'headquarters', 'sparing', 'lofty', 'Traficant', 'no-confidence', 'arbs', 'Fundamentalists', 'he', '*-134', 'Siegal', 'Fewer', 'mutual', 'errors', 'liberal', 'quarter', 'Ratner', 'becoming', 'Brian', 'Hartford', 'amended', 'BMP', 'steep', 'Shugart', '278.7', 'issuers', 'transaction', 'education', '244,000', 'stalemate', 'architects', 'Crum', 'starters', 'university', 'good', 'surplus', 'initiate', 'advocating', 'NIH-appointed', 'mechanically', 'Lilly', 'financial', 'Discos', '778', 'team', '734.9', 'outranks', 'GOODY', 'sell-offs', '472', 'inflationary', 'capture', 'computer-aided', 'preface', 'considerably', 'Teikoku', 'railings', 'Pacific', '2.50', '8300s', 'Restaurant', 'passers-by', 'surgery', 'Glenn', 'find', 'Neil', '1.125', 'tabloid', 'Cotran', 'nervousness', '26', 'Pressures', 'Remember', 'empire', 'breed', 'Sen.', 'binders', 'School', 'acid-rain', '1,100', 'Chamber', 'depend', 'character', 'project', 'blank', 'Sandifer', 'electric', 'duo', 'ships', 'Lufkin', 'yield', 'floors', 'Sauvignon', 'penetration', 'backlogs', 'abounding', 'Turkey', 'lore', 'auction', 'American-style', 'employs', 'mushy', '82,389', 'peculiar', 'break', 'Ad', 'strategic', 'entrenched', 'Further', 'clamped', 'filings', 'front', 'DD', 'employed', 'Burgundy', 'warranties', 'notion', 'scholars', 'Gasoline', '*T*-217', 'instruments', '170,000', 'quantitive', 'ASSETS', 'upsetting', 'Operations', 'shelter', 'cardiovascular', 'milk', 'copies', 'intoxication', 'hailed', 'Grace', 'extend', 'exporters', '*-146', 'Wayland', 'LSI', 'Partnership', 'Orchestra', 'R.', 'workers', 'JUDICIAL', 'Duluth', 'check', 'Citizen', 'GenCorp', 'unpleasant', '*-63', '45.2', 'unpopularity', '*T*-166', 'blindfold', 'shortage', 'prospectively', 'play', 'nonexecutive', 'smokers', 'tiny', '295', 'sheepskin', 'boyfriends', 'arsenide', 'acquired', 'labor-backed', 'Preliminary', '550,000', 'pie', '13.50', 'sensitivity', 'harms', 'notwithstanding', '58-year-old', '26,000', 'microwave', '34.625', 'Party', '1st', '84-month', 'walkout', 'empowered', 'antitrust-law', 'player', 'exhaust', 'red-carpet', 'Fla.', 'embroiled', 'Keehn', 'Sun', 'rumored', 'structural', 'understanding', '*T*-151', 'time', 'secured', 'high-risk', 'Pitcher', 'Santa', 'S&L', 'perform', 'material', 'surfaced', 'active', '200,000', 'Wall', 'Television', 'Civilization', '64-year-old', 'hair', 'afford', 'implicit', 'flightiness', 'somewhat', 'Kane', 'Prater', '68', 'periods', 'according', 'factoring', 'imposes', 'industrial-production', 'passion', 'favored', 'some', '2.25', 'local', 'semiconductor', 'BANKERS', 'contributions', 'Tramp', 'revival', 'unions', 'symmetry', 'combat', 'details', 'Chateau', 'whichever', 'Hungary', 'Knapp', 'reported', 'unenthusiastic', 'Sotheby', 'conditions', 'abating', 'began', 'fire', 'massacre', 'so', '*T*-109', 'tenure', 'Educational', 'apple', 'OFFERED', 'sweeten', '1,880', '*T*-122', 'Braidwood', 'ready', 'earlier', 'divided', '55-a-share', 'anyone', 'Moleculon', 'dormitory', 'sleeping', 'use', 'doubt', 'caused', '6\\\\/2', 'suggest', 'Nasty', 'voice', '321', 'example', '0.54', 'composting', 'Ravenswood', 'every', 'worry', 'Graham', 'Garrison', 'Czech', 'embassy', 'expanding', 'municipal', 'Seagate', 'Energy', 'Ringing', 'chaired', 'Unfortunately', 'carbon', 'matter', 'four', 'world-wide', 'fears', 'Valhi', 'freshman', 'gasoline', 'accidents', 'Buckhead', 'terrine', 'adults', 'aide', 'gambling', 'curriculum', 'drearier', 'apply', 'leaves', '*-110', 'tricky', 'removal', '18,444', 'broad-based', 'since', 'nonetheless', 'quarterly', 'early-retirement', 'employers', 'Institutes', 'Died', 'Schweiz', '1987-88', 'gloomy', 'Mindy', 'lately', 'disseminating', 'strength', 'virtue', 'pain', 'predict', 'returning', 'privately', 'promoting', 'Nagano', 'school-improvement', 'opportunity', 'Kenneth', 'packed', 'neighborhoods', 'headrests', 'unlike', 'C-90', 'increased', 'criticism', 'insisted', 'Georgetown', 'Employment', 'meanwhile', 'asbestos', 'gain', '*T*-138', 'bright', 'liquidation', 'comparable', 'Supreme', 'Republicans', 'cheaper', 'Kathryn', 'Her', 'ruled', 'Clairton', 'receivers', 'Messrs.', 'Prices', 'citation', 'OVER', 'Sable', 'Survey', 'Midvale', '*-87', 'disasters', 'Rusty', 'Since', 'Washington', 'Venture', 'takeover', '38.375', 'son', 'Mason', 'Lawyers', '*T*-61', 'lent', '750,000', '2.2', 'speculate', 'pre-cooked', 'second-largest', 'disappointed', 'conducting', 'Equitable', 'tempted', 'plane', 'reporters', 'marks', 'observers', 'discharge', 'restructuring', '33', '4.5', '1,000', 'FreudToy', 'tidily', 'safeguarding', 'reversal', 'growth', 'single', 'Broken', 'districts', 'Taurus', 'Filmed', 'Adam', '40,000', 'penny', 'Designated', '176', 'reminded', 'buys', 'Bridgeville', 'Mortimer', 'Food', 'merged', 'notes', 'studying', 'except', 'signaling', '100-megabyte', '*-5', 'subjecting', '3.35', 'God', 'Scandinavian', 'dressed', 'build', 'Anglian', 'mistakes', 'Partners', '35', 'trimming', 'revolt', 'drastically', 'transition', 'subpoenaed', 'recalling', 'multitude', 'movies', 'Klein', 'English-speaking', 'GM', 'argues', 'bakery', 'shopped', '3.8', 'holidays', 'stood', 'Mike', '11-month-old', 'complaints', 'fuels', 'Atlantic', 'escrow', '45.75', 'distributor', 'rain', 'painting', '*ICH*-4', 'sees', 'Weil', 'train', 'Valrico', 'Possible', 'thumbing', 'childish', 'incident', 'who', 'earned', 'keeping', 'Van', 'plight', '*T*-141', 'become', 'attend', 'empowers', 'control', 'pursued', 'ShareData', '18.6', 'notified', 'earns', '*PPA*-2', 'Philippines', 'access', 'agreements', 'receptive', '42-year', 'CDs', 'environment', 'ancestry', 'Zurich', 'Virtually', 'Utsumi', 'P.', 'Stock-index', 'regulation', 'rushed', \"O'Connor\", 'Housing', '2.75', '*T*-155', 'fits', 'bushel', '266', 'Chilean', 'aftermath', '*T*-156', 'important', 'depressions', 'turns', 'been', 'Cru', '1.75', 'Jack', 'Steinberg', '*-62', 'beneficial', 'frozen', 'Herrington', '0.4', 'region', 'upside', 'delivering', 'Packages', 'Malta', 'Talcott', 'flag', 'electricity', 'charm', 'lotter', 'picks', 'Gulf', 'respite', 'maintain', 'striking', '70', 'cultivated', '*-43', 'profession', 'word-processing', 'Sea', '*-21', '5\\\\/8', 'Ruth', 'panel', 'Rick', 'hospital', 'capsules', 'Attorneys', 'cars', 'When', '3.253', '*T*-192', '*T*-163', 'Nomenklatura', 'beginning', 'Fujitsu', 'generous', 'USX', 'personal', 'prayer', 'Nations', 'Antonio', '*T*-250', 'recovered', 'suspensions', 'toll', 'rivals', '*-47', '2.80', 'lottery', 'traditionalists', 'inventiveness', '150.00', 'chalk', 'unchanged', 'Theodore', '1.49', 'carried', '*T*-69', 'building', 'enforcement', '0.50', '*-133', 'Off-Track', 'joy', 'wealthy', 'collective', 'celebrity', 'limited-partnership', 'Hoosier', 'stock-index', 'editorial', 'Tarwhine', 'polluters', 'realestate', 'limited', 'furor', 'Blackstone', 'Carla', 'Marder', 'provides', 'struggling', 'Peninsula', 'Fifteen', 'Brazil', 'rally', 'bit', 'navigation', 'car-safety', '*T*-241', 'youthful', 'Employers', 'Zealand', 'creditors', 'ban', 'universities', 'Bendectin', 'lower', 'scenes', 'cautious', 'lasted', '1.2', 'child', 'claims', 'viewpoints', 'stable', 'painted', 'wholesaler', 'warming', 'encourages', 'Philippine', 'sagging', 'questions', 'fixtures', '14\\\\/32', 'spends', 'disclosed', '*-16', 'Activity', 'APPEARS', 'Aerospace', 'battered', 'markup', '*T*-134', '387.8', 'zoomed', 'acceleration', 'No-Smoking', 'seized', '40', '43', 'amphobiles', 'Next', 'Series', 'Productions', 'bygone', 'glory', 'credit', '456.64', '497.34', 'heart', 'quipped', 'temporary', 'preserving', 'pick-up', 'sustained', 'GRAINS', 'Nikkei', '187', 'Lane', 'kits', 'perfection', 'indexes', 'plans', '*T*-242', 'knight', 'disregard', 'Hill', 'Commissions', 'awareness', 'beforehand', 'stem', 'sports', 'hero', 'Midland', 'spectrum', 'trends', 'Story', 'Kean', 'Kendrick', 'lives', 'bloc', 'prosecutors', 'an', 'high-stakes', 'relation', 'galvanized', 'Citizens', '4.1', 'helps', 'mark', 'worried', 'spirit', 'played', 'co-author', 'investments', 'Destinations', 'unrealized', 'McGraw-Hill', 'Ana', 'prints', 'consultant', 'Highway', 'contains', '14.6', 'illegal', 'superior', 'garbage', 'valuations', '1.64', 'least', 'searching', 'Except', 'test-prep', 'wines', 'reduce', 'Carolina', 'machine', 'A.D.', 'quantities', 'purchasing', 'administrations', 'Artist', 'remainder', 'name', '23,403', '46', 'Broadcasting', 'plan', 'Russel', 'uncanny', 'eat', 'killing', 'described', 'school', 'touted', 'greedy', 'depleted', 'Hospital', 'band', 'repaired', 'Coincident', 'Hammond', 'spackle', 'cited', 'Funding', '609', 'merger-related', 'eighth', 'numbers', 'tied', 'would-be', 'Florio', 'means', 'squad', 'depended', 'there', '8.06', 'X', 'consumer-driven', '107', 'engineering', 'appointment', 'try', 'realized', '30-point', 'kidney', '90-cent-an-hour', 'proving', 'battery-operated', 'imply', 'dancing', 'satisfaction', 'Islamic', '*T*-120', 'brilliant', 'reservations', 'Dakotas', 'ended', 'Negotiable', 'labor-management', 'Rico', 'Kensington', 'insane', '4.898', 'Regal', 'ai', 'calling', 'introducing', 'One', 'blackjack', 'replacement-car', 'survive', 'signs', 'ITC', 'delete', 'Cask', 'spilling', 'volatility', 'away', 'main', 'foreign', 'tanked', 'one-day', 'Davies', 'prosecute', 'rope-sight', 'projections', 'departures', 'poorly', 'natural', 'swaps', 'school-sponsored', 'Safety', 'well-known', 'bin', 'land-idling', 'targets', 'offense', 'Spreads', 'Hampton', 'appeal', 'materialized', 'convert', 'bidder', 'appeared', 'bronze', '2.4', 'Ford', 'announce', 'assertions', '170,262', 'Shuxian', 'Michael', '*-145', 'countless', '1994', 'buildup', 'diagnosed', 'H.N.', 'Monetary', 'taught', 'Bordeaux', 'corkscrews', 'fundraising', 'AT&T', 'tenfold', 'anti-drug', 'up', 'linked', 'public-relations', 'practice', 'image', 'section', 'rated', '*-73', 'serious', 'reassuring', 'Strategic', 'implied', 'driving', 'elections', 'Spiegel', 'clean-up', 'grandstander', 'rate', 'subskills', '*-79', 'tooth', 'argued', 'agrees', 'joint-venture', 'passbook', 'recombinant', '54', 'shadows', 'Economy', 'Jackson', 'Delwin', 'They', 'stadiums', 'banks', 'Dow', 'hopes', 'billing', 'index-related', 'lackluster', 'bull', 'Bowes', 'coordinator', 'subcontractor', 'perpetuates', 'Mo.-based', 'rider', 'drive', '6.25', 'decisive', 'cheating', 'workbooks', 'reform', 'feudal', 'attended', 'enraged', \"'50s\", '4.7', 'shelf', 'meaning', 'Revolution', 'Moon', 'Agnew', 'Albuquerque', '*T*-48', 'fabricate', 'enhanced', 'Irvine', 'job', 'semiconductors', 'planner', 'Subcontractors', 'Intel', 'Cabernets', 'Facilities', 'start-up', '2019', 'Buick', 'anybody', 'sell-off', '12-year', '8.04', '0.7', 'slump', 'Continued', 'Contras', 'preset', 'N.M.', 'winner', 'begun', 'billings', 'Trettien', 'buoyed', 'damages', 'Among', 'advertisements', 'retired', 'unless', 'Takes', 'co-developers', 'parishioners', 'Dreyfus', 'logistical', 'cheerleading', 'improving', 'corn', 'Pencil', 'words', 'office', 'expired', 'Sundays', 'two-thirds', 'tenth', 'electorate', 'documented', 'magnetic', 'scrutinizing', 'systematic', 'Morita', 'Nielsen', 'Karl', 'cents-a-unit', 'taking', 'Nationwide', 'Dominus', 'male-dominated', 'Advice', 'quiet', 'ventilated', 'load', 'advertise', 'Roederer', 'misdemeanor', 'spark', 'People', 'facility', 'I', 'Hurley', 'Economics', 'reader', 'R', 'peaked', 'stakes', 'Xiaoping', 'telephone', 'Ranger', '326', '*T*-247', 'severe', 'managements', 'Natural', 'facilitate', 'remarked', 'brokers', 'Powers', 'Markets', 'peace', 'most', 'accounts', 'payment', 'bust', 'texts', 'completion', 'augment', '*-35', 'knowns', 'drawing', 'Salomon', 'contacted', 'hung', 'further', 'rewarding', 'Indexing', 'evil', 'paperback', 'disagreed', 'originally', 'Elco', 'well', 'upset', 'costs', 'End', 'inkling', 'MEDICINE', 'cadmium', 'void', 'responded', 'Mossman', 'perceives', 'reserved', 'diplomatic', 'Revenue', 'luxury', 'FT', 'aerospace', 'counter', 'prying', 'Contel', 'get-out-the-vote', '7\\\\/16', '*T*-50', 'Symphony', 'Savin', 'Senior', 'Trading', 'THAT', 'instrument', 'clarify', '14.28', 'confidence', 'Social', 'aggravated', 'tire', 'appliance', 'Aloha', 'current-carrying', 'revelations', 'subscribe', 'Either', 'alcohol', 'rise', 'Cooper', 'Bon', 'Rubicam', 'fared', 'pine', 'bags', 'S.p', 'scale', 'rash', 'Default', 'Bonds', 'areas', 'backed', 'hurdles', 'supermarket', 'India', 'midtown', 'decline', 'competitions', 'lung', 'Eggers', 'lesser', 'later', 'complexes', 'entering', 'Think', '2.87', 'flow', 'Md.', '31', 'feels', 'ambitions', 'abroad', '58', 'voting', 'cow', 'town', 'gallon', 'de', 'reflects', 'relative', 'speech', 'Fang', 'academics', 'unspecified', 'promise', 'saying', 'margins', 'disclose', 'plunging', 'regions', 'killings', 'spaces', 'cues', 'beleaguered', 'month', '190-point', 'White', 'momentary', 'INGERSOLL-RAND', 'rancor', '25-year-old', 'fibers', 'Orange', 'Mortgage', 'burned', 'pitting', 'rung', 'Guber', 'instances', 'girl', 'peaceful', 'fastest-growing', '877,663', 'costly', 'Manufacturing', \"'ll\", 'tend', 'appearing', 'advanced', 'Writers', 'Calder', 'excited', 'record-keeping', 'packaging', 'Under', 'unauthorized', 'Much', 'Gotta', 'homosexual', 'Elsewhere', 'Wine', 'Johnson', 'Fields', 'tubular', 'step', 'murdered', 'officer', 'Gayle', 'coal-fired', 'tormentors', 'advertisers', 'Linden', 'them', 'cartoonist', 'troop', 'map', 'exists', '27.1', 'big', '*T*-150', 'Fair', 'much', 'home-market', 'indicator', 'jobs', '*T*-117', 'capacity', 'tariff', '*-28', 'vary', 'moderated', '8.2', 'approve', 'base', 'stepped', 'unjustified', '2029', 'fanfare', 'profitable', 'from', 'Scypher', 'Three', '*T*-30', 'closeness', '*T*-22', 'door', 'deserving', 'marriages', 'candidate', 'radically', '*T*-14', 'consomme', 'involve', 'reap', 'cross-border', 'administration', '8.55', 'sweater', 'Sure', 'understood', 'incomes', 'Stieglitz', 'Wa', 'monitor', 'closely', 'passenger', 'cleanliness', 'C.J.B.', 'CBS', 'Simon', 'declines', 'exposed', 'Avenue', 'society', 'wanted', 'suffer', '1920s', 'DEFENSE', 'Lurgi', 'scared', 'cattle', 'focus', '1.01', 'Fuji', 'audience', 'summons', 'Hawaiian', 'sent', 'Pauline', 'touchy', 'YMCA', 'neoprene', 'part', 'headline', '0.05', 'alumni', 'platinum', 'generators', 'enough', 'Runkel', 'ranging', 'columns', '4.4', '*RNR*-1', 'yen-support', 'multibillion-dollar', '*-152', 'Hills', 'Redevelopment', 'books', 'matching', 'goodwill', 'workforce', 'Finland', 'Week', 'elected', '494.50', '*T*-35', 'devise', 'manager', '139', 'mininum-wage', 'vicious', 'GOP', 'Labouisse', 'sleep', 'degrees', 'pride', 'applications', '415.8', 'pointed', 'Dallas', 'page-one', 'exceeded', 'be', '3.43', 'attractions', 'trust', 'integration', 'pulled', '*T*-171', 'Pierre', 'Spoon', 'real-estate', 'prison', 'balloon', '47.5', 'overdone', 'Thomas', 'slippery', 'mentally', 'attempt', 'mature', 'meeting', 'Denver', 'demographic', '388', 'rocket', 'swap', 'Chicago-style', 'tolerate', 'Grant', 'St.', 'Great', 'refitting', 'major', 'witness', '*-55', 'copied', 'chary', 'Californian', 'president', 'emerge', 'Erbamont', 'hamstrung', 'unsuccessful', 'war-rationed', 'proceedings', 'spooked', 'program-trading', 'Muzzling', 'mousseline', 'centimeter', 'boom', 'Irving', '3,500', 'clothes', '*T*-148', 'five-inch', '15-day', 'Waertsilae', 'PaineWebber', 'ROGERS', 'Calif', 'emotions', 'PRODUCTS', 'application', 'pretax', '*-120', '*-123', '10,000', 'dawn', 'sunlight', 'Mont', \"'86\", '230-215', 'badly', 'precisely', 'turmoil', 'perceived', 'alone', 'incorporated', 'advertised', 'grown', 'stigma', 'fill', 'Invariably', 'figure', 'hitter', 'bless', '*T*-94', 'Assets', 'fought', '19-month-old', 'enact', 'civilization', '*-138', '380', 'Mattress', 'Tokio', 'Walkman', 'images', 'answers', 'Bernstein', 'undisclosed', 'Acceptance', 'Stockholders', 'Arabian', '2005', '169.9', 'Surrey', 'unheard', 'start', 'accord', 'Miami-based', 'officials', '1.76', 'Payments', '*T*-64', 'invention', 'Hammerschmidt', 'nonrecurring', 'violated', 'scientific', 'know', 'wrenching', 'Materials', 'cereal', 'required', 'Shorter', 'virtues', 'expressing', 'attendance', 'biannual', 'location', 'Lawmakers', 'Betting', 'immediately', 'upstream', 'Committee', 'comfortable', 'confrontational', 'test', 'asserts', 'LIBOR', 'became', 'degree', 'Kerensky', 'helm', 'adviser', 'Judie', 'Getting', 'Altair', 'booming', 'George', 'Phi', 'enlarged', 'violations', 'wide', 'fractionally', 'beneficiaries', 'U.S.A', 'staff-reduction', 'Danville', 'strongly', 'punitive', 'powder', 'banker', 'co-owner', 'defensive', 'Mission', 'author', 'Corporations', 'simply', 'gotten', 'buy', 'pushing', 'cents', 'Far', 'reserves', 'Danforth', 'Tokyo', 'renovation', 'below', 'Dover', 'typically', 'hidden', 'Fidelity', 'stemmed', 'San', 'mediocre', 'Force', 'harm', 'Judge', 'Burt', 'capitalist', '*T*-115', 'dilemma', 'Copperweld', 'Austin', 'Often', 'resubmit', 'stiffer', '51.6', 'problems', 'ASSOCIATES', 'cautioned', 'Net', 'native', 'vital', 'cash', 'camera', 'populated', 'Virginians', 'planned', 'aimed', 'currently', 'assured', 'Jim', 'signed', 'Paper', 'Output', 'rechargeable', 'Miles', '*T*-180', 'AGREES', 'Assistant', 'Earnings', 'Equal', 'denouncing', 'Westminster', 'Bribe', '20-point', 'A.L.', 'hub', 'merchant', 'might', 'Oshkosh', '449.04', 'Put', '*T*-16', 'enviable', 'Shapiro', 'designing', 'withdraw', 'graphics', 'junk-bond', 'Mexico', 'mobile', 'Douglas', 'stirred', '-', 'seminar', 'parallel', 'testing', 'Graduates', 'relieved', 'Topix', 'Professional', 'price-depressing', 'Lakes', '*T*-179', 'syndication', 'austere', 'A-D', 'approved', 'tubes', 'Holt', 'anti-dumping', 'subscriptions', 'resignation', 'mayor', 'date', 'double-A', 'violence', 'football', 'Any', 'CoreStates', 'tuck', 'Relations', 'Something', 'replete', 'variety', 'heirs', 'dinner', '19.50', 'predicted', 'Strong', 'achievement-test', 'South', 'projects', 'Stark', 'coordinate', 'certin', 'improvement', '111', 'discrimination', 'Cultural', 'cement', 'Arnold', 'printing-press', 'mutual-fund', 'dark', '*T*-68', 'p.m.', 'mood', 'looming', 'such', 'Plaza', 'continuous', 'Detroit', 'influenced', 'scoop', 'megabytes', 'SAT', 'get', 'Treasury', 'speaks', 'index-options', 'Friday', 'Hostess', 'exceeds', 'Stronach', 'wrongdoing', 'computer-assisted', 'READY', 'benefit', 'mistake', 'disaster', 'replacing', 'Guerrilla', 'high-rise', 'heavily', 'veto', 'nickel', 'estate', 'Alan', '*T*-29', 'destination', 'six-month', 'politely', 'triggered', 'wings', 'obtain', '*T*-60', 'entrance', 'inappropriate', 'logo', '*-161', 'Lehman', 'gelatin', 'external', 'drag-down', 'chiefly', '*T*-73', 'non-callable', 'place', 'Donald', 'Stanley', 'Bermuda-based', 'domestic', 'radio-station', 'purse', 'contradict', 'separately', 'councils', 'regulated', 'ease', 'historical', 'indications', 'miners', 'barrel', 'owns', 'Pepperdine', 'National', 'reduction', 'dismal', 'Market', 'Wood', 'Particularly', 'reluctant', '11,762', 'Dahl', 'kicked', '*T*-212', 'playwright', 'climbed', 'generally', 'Bougainville', 'outlays', 'their', 'cake', 'dissident', 'retain', 'Filter', 'legislative', 'run', 'Champion', 'Paribas', 'Fairless', 'distinct', 'rout', 'Hollingsworth', 'latter', 'autions', '*T*-90', 'attracted', 'Austria', 'profitably', 'Giants', 'milestones', 'deserve', 'borrowed', 'Related', 'Garanti', 'warnings', 'auto-safety', 'tigers', 'Reliance', 'classics', 'staying', '*T*-231', 'Today', '77.70', 'inauspicious', 'Reagan', 'imaginative', 'Mr.', 'passages', 'newer', 'behalf', 'pushed', 'Teacher', 'Risks', 'pills', '2-3', 'operation', 'journalistic', 'agreeing', 'scammers', 'likely', 'homeless', 'Long', 'diaper', 'disappear', 'mainframe', 'Holland', 'cop-killer', 'Administration', 'lawmaking', 'credits', 'foreign-stock', 'prevalance', 'mollified', 'row', 'mortgaged', 'Houghton', 'smiles', 'Environment', '9.5', 'plant', 'Bowman', '0.25', 'peak', 'marketing', 'public', 'consonant', '160', 'Industry', 'Vega', 'several-year', '*T*-12', 'named', '116.9', 'slope', 'competitor', 'career', 'Economists', '30-day', 'Psychiatry', '4.875', \"D'Amico\", 'steadily', 'owned', 'familiar', 'Beatles', 'turnover', 'Minneapolis-based', 'belonging', 'self-esteem', 'IT', 'bag', 'Judith', 'anticipates', 'they', 'slashing', 'Standing', 'conduct', 'alarmed', 'midsized', 'individual', 'Egyptian', 'stadium', '0.2', 'letting', 'machines', 'preclude', 'Concerned', 'responsive', 'Raymond', 'operate', '7.458', 'Inventories', 'Sheffield', 'subordinated', 'requirements', 'Pramual', 'Blancs', 'four-color', 'pools', 'limiting', '*-162', 'have', 'royalty', 'March', 'canine', 'comes', 'Adopting', 'colleges', 'Makato', 'Kangyo', 'Ganes', 'beheading', '66.5', 'challenge', 'science', 'plenty', 'lifted', '30', 'international', 'Observing', 'nondurable', 'entice', 'inflation', 'disposed', 'peaks', 'give', 'counterrevolutionary', 'examined', 'predispose', 'appropriation', '*T*-58', 'retiring', 'restriction', 'Ginnie', '*T*-81', 'moves', 'ahead', 'citizen', 'other', 'quietly', 'Mehrens', '501', 'derisively', 'Herald', 'difference', 'midnight', '7.88', 'alternatives', '50.45', '*T*-127', 'exact', 'Anything', 'improves', 'sweeping', 'seven-day', 'just', 'consecutive', 'auspices', 'troublesome', '1\\\\/2', 'Babcock', 'Wellcome', 'last', 'EST', '148.9', 'unabated', 'readings', 'Yasuda', 'CTBS', 'continental', 'smoothly', 'rape', 'Loews', 'His', 'assume', 'Left', '7.4', '*T*-258', 'Commodore', 'microprocessor', 'per-share', 'free-lance', 'preliminary', 'Traditional', 'Sr.', 'slide', 'Reached', 'Congress', 'Why', 'congressional', 'spur', '131.01', 'Instead', '5.7', 'usual', 'high-technology', 'hook', 'worthiness', 'procedures', 'silicone', '*T*-96', 'valuable', '3,600', 'screenwriters', 'Britain', 'unsecured', 'stars', 'Wilder', 'Solihull', 'McDermott', 'disapproved', 'buy-outs', 'hurting', '250', 'chocolate', 'Debt', 'devices', 'telegraph', 'balked', 'Shepperd', '*-70', 'Peng', '130.6', 'Dominion', 'illustrates', 'appoint', 'firmed', 'majority', 'Choose', 'similar', 'respectable', 'alternative', 'Sale', 'overruns', 'cites', 'humble', 'lose', '1.8500', 'it', 'fetching', 'W.D.', 'heads', 'Communication', 'Individual', '721', 'photograph', 'tense', 'sufficient', 'newsweekly', 'Lord', '120', 'rural', '-RCB-', 'fellow', 'waivers', 'Mercer', '69', 'Napolitan', 'Temple', 'Foreigners', 'lease', 'prime', 'lower-priority', 'achieve', 'subscribers', 'Unicorp', 'disturbs', 'Jones', 'significance', 'Ferdinand', 'Circle', '*T*-137', 'Practical', 'amend', 'editorially', 'troubled', 'theory', 'water-authority', 'CAMPAIGN', 'gained', 'closing', 'polled', 'Merrick', 'psychiatric', 'Beginning', 'ramparts', '600,000', 'clicked', 'Laser', '6,500', 'Mac', 'Thousands', 'regarded', 'recession-inspired', '62%-owned', 'space', 'Colonsville', 'Deng', 'acknowledges', 'benchmarks', 'timing', 'Netherlands', '*T*-157', '116.7', 'sticker-shock', 'Champagne', 'crack', 'attractive', 'annualized', 'capital', 'cultivation', \"Dunkin'\", '1960s', '4,000', 'Northeast', 'JUDGE', 'autumn', 'businesses', '*RNR*-4', 'Legend', '*T*-253', 'plea', 'Tube', 'Ore.', '8.70', 'harmful', 'admitting', 'easier', 'limits', 'Giuliani', 'counterpart', 'long-time', 'Jan.', 'boosters', 'Asia', 'happens', 'sub-segments', 'heartland', 'receive', 'discontinue', 'interference', 'delivery', 'Cedric', 'catch', 'crossing', 'Equivalents', 'loss', '*-88', 'rhythm', 'drop-in', 'Products', '79', 'upper', 'borrowers', 'solidarity', 'slowdowns', 'nominee', 'newest', 'feasible', 'impression', 'warns', 'blighted', 'having', 'promissory', 'losing', '42.5', 'About', 'Ray', 'accomplishments', 'At', 'willing', 'structure', '*T*-243', '8.467', 'income', 'idea', '1988-89', 'Dollar-yen', 'Breakey', 'participated', 'picked', 'van', 'Visa', 'revived', 'Hotel', 'scarcely', 'pretext', 'amounted', 'flexibility', 'Family', 'designation', 'Concurrent', 'several', 'sabotage', 'drinks', 'Fantasy', 'R.D.', '87-store', '39', 'Brunswick', 'Mara', 'NL', 'during', '645,000', 'widow', 'Caters', '3.20', 'watchers', '3.2', '127.03', '52-week', 'specified', 'partial', 'lawsuit', 'Cray-3', 'perceptions', 'Czechoslovakia', '*T*-167', 'conducted', 'imbalances', '8.65', 'semesters', 'onus', 'succession', 'Allied', 'propagandizes', 'mid-1970s', 'juggle', 'barking', 'wrath', 'large', '100', 'occur', 'Information', 'approach', 'shoulder', 'presented', 'fewer', 'energetic', 'crime', 'how-to', '*EXP*-1', 'Pratt', 'competing', '566.54', 'Giant', 'strengthened', 'pair', 'cult', 'apples', 'hosted', 'Winiarski', 'carry', 'specialized', 'clashed', 'Marion', 'else', '120.7', 'exercise', 'warrant', 'collateral', 'madly', 'Hubbell', 'Namibian', 'vision', 'non-encapsulating', 'lights', 'copying', 'assumed', '2.35', 'exerting', 'adding', 'Bew', 'force', '8.53', 'absurdity', 'regular', 'blue-chip', 'Securities', 'dry', 'feel', '98', 'disproportionate', 'labels', 'amazingly', 'WHAS', 'cash-and-stock', 'fines', 'justices', 'Republican', 'fan', 'Julia', 'Seattle-based', 'independent', 'cancer-causing', 'marketer', 'extremely', 'vagrant', 'Stephens', 'acquires', 'sought', 'negotiations', 'Nofzinger', 'exactly', 'affiliate', 'low-ball', 'With', 'Poor', 'repriced', 'fear', 'dominated', 'school-board', 'managed', 'prior', 'toward', '*-2', 'traders', 'drafted', 'PLC', 'discussed', 'openly', 'morale-damaging', 'Reed', 'Keidanren', 'strings', 'Ala', 'sights', '*T*-254', 'crystal-lattice', '*-42', 'Hallwood', 'Drink', 'brought', 'directionless', 'statue', '23.72', 'pulp', 'theaters', 'folks', 'psychiatrist', 'Taizo', 'sooner', 'laser', 'present', 'desires', 'exemption', 'failed', 'facing', 'Fargo', '7.80', 'switched', 'forest-product', 'station', '1933', 'cater', 'recall', '692', 'College', 'Georgia-Pacific', 'promotion', 'produces', 'after', 'with', 'seven-million-ton', 'Everyone', '*T*-154', 'PAPER', 'predicting', 'Conduct', 'twin-jet', 'wildly', 'cadet', 'Dean', 'markdown', 'diversification', 'instead', 'sugar', 'Contracts', '701', 'Chemical', 'spurred', 'chase', 'direct', 'recommendations', 'Illinois', 'unconstitutional', 'territory', 'Si', 'veal', 'notice', 'Atlanta', 'Glass', 'democracy', 'diseases', 'representatives', 'identities', 'cracks', 'PHOTOGRAPH', 'Not', 'Sutcliffe', '*-111', 'Recess', 'sued', 'stone', 'trailed', 'gains', 'opposed', 'workable', 'writer', 'Diaper', 'wish', 'apprehensive', 'preferred', 'reshaping', 'Hong', 'especially', 'cloth', 'Groups', 'microphone', 'loops', '300', 'bicameral', 'Last', 'N.J', 'classifications', 'aid', 'trial', 'signals', 'inmates', 'undesirable', '191.9', 'Southern', 'Terms', 'Novell', 'stacked', 'desire', 'depositary', 'sheep', 'compilation', '152,000', 'fund', 'Harpo', '1.65', 'journal', '62.1', 'federally', 'conventional', 'charge', 'separation', 'coupon', 'editor', '*T*-257', '19.6', 'Cost-effective', 'normal', 'review', '2.95', 'adapted', 'today', 'Estimated', 'Cigna', 'Bradford', '95.09', '3.6', 'expelled', 'offsetting', 'Mass', 'again', 'torn', 'prefer', 'healthy', 'am', 'Nearby', 'Webb', 'laurels', 'attributes', 'revenues', 'middle', 'Senate-House', 'darned', 'eyeing', 'shake', '1.56', 'indifference', 'Patients', 'Baum', 'WayMar', 'staggering', 'sale', 'resulting', 'slow', 'Ill', 'enjoying', 'results', 'full-fledged', 'bells', 'telling', 'resonate', 'newsstand', 'hauled', 'DSM', 'narrow', 'master', 'suspect', 'courage', '280', 'exhibition', 'Associates', 'Delaware', 'Pa.', 'versus', '*-81', 'squeeze', 'repair', '*-103', 'tax', 'responses', '35.2', 'T.', 'torrent', 'publication', '*T*-248', 'juggernaut', 'all-cash', 'we-Japanese', 'subsidiaries', 'frightened', 'bout', 'Times', 'rhythmically', 'controlling', 'poured', 'pub', '9.9', 'speak', 'Derek', 'creation', 'funds', 'cloud', 'nose', 'Following', 'one-fifth', 'Human', 'ultimate', 'asserted', 'permissible', 'social', 'Navy', 'label', 'potential', '62.625', 'hazards', 'lacks', 'Brisk', 'customer', 'chassis', 'Primerica', 'four-year-old', 'Signs', 'Pitney', '811.9', 'formally', '*T*-199', 'efficiencies', '25', 'protracted', 'recognize', 'historic', 'impartial', 'New', '129.91', 'colleagues', 'subdued', 'deem', 'portion', 'rapid', 'S.I.', 'weight', 'another', 'securities', 'ongoing', 'melt-textured', 'healing', 'surrounding', 'Oxnard', 'doubts', 'titans', 'whereby', 'benevolent', '397', 'avenues', 'brightened', 'Tiphook', '*-15', 'carrying', 'Tiger', '8.19', 'matches', 'keep', 'dashes', 'communications', 'sheet', 'struggled', 'Jr', 'core', 'Card', 'lend-lease', 'relentlessly', 'Adds', 'nonprofit', 'Do', 'Until', 'Fishman', 'accused', '*T*-183', 'utterly', 'simple', 'nine-year', 'dismissed', 'Joni', 'Johnson-era', 'Unico', 'Chapman', 'Chiodo', 'Samnick', 'Builders', 'Resistance', 'forecasts', '*T*-97', 'maturity', 'deposits', 'storm', '27', 'moment', 'afflicted', 'bolster', 'downside', 'preapproved', '80.8', 'par', '*-83', 'alleging', 'Norwest', 'blood', '1787', 'printers', 'your', 'len', 'airline-related', 'past', 'OSHA', 'six-inch', 'trading-company', 'aides', '71', 'downturn', 'reaches', '372.14', 'inverse', 'shared', '2.7', 'bearing', 'Analysts', 'trafficking', '47.125', 'receiving', 'Valley', 'inner-city', 'Fernando', 'cure', 'scenic', 'Harrison', 'met', 'perspective', 'first-time', 'Sunday', 'assaults', 'interested', 'system', 'Drew', 'unsympathetic', 'Lights', '1917', 'margin', 'incentives', 'option', 'Crash', 'minimum-wage', 'aircraft', 'Enright', 'Elizabeth', 'Regarded', 'institute', 'copyrights', 'Heatherington', 'bid', 'Sir', 'self-regulatory', 'Automobile', 'Clays', 'longstanding', '*-26', 'discordant', 'transfer', 'asset', '49.9', 'hormone', '*?*', 'unresolved', 'nationwide', 'garage', 'difficult', 'deck', 'C.', 'Charles', 'sacrifice', 'justice', 'chain', 'pay', 'Mayer', 'Biscayne', 'finding', 'speculator', '*T*-233', 'Gross', 'Carrier', 'Dolan', 'U.S.-Japanese', 'COMMUNICATIONS', 'unfair-trade', 'meetings', 'eased', 'size', 'obtaining', 'slogan', 'Obligations', 'giving', '*-49', 'Herbert', 'retires', '30-share', 'interrogation', 'Cartoonist', 'limping', '*-33', 'Campbell', '8.22', 'message', 'live', 'Sept.30', 'responsibility', 'chosen', 'Mickey', 'doctor', 'pass', 'strain', 'initially', 'supreme', 'thread', 'closer', '2.30', 'single-family', 'indication', 'arise', 'monster', 'Hale', 'McMillin', '*T*-143', 'providing', 'American-made', 'treatment', 'Salty', 'chilled', '90', 'cheat', 'lipsticks', 'lasting', 'fights', 'motor-home', 'materialize', '3.80', 'meaningful', 'code', 'engineer', 'Perritt', '605', 'rates', 'setting', 'equipment', 'dividends', 'prerogatives', 'faint', '1928-33', 'heavy', 'worries', 'mergers', 'bounce', 'hid', 'fanciful', 'compel', 'country', 'discuss', 'Institution', 'fatalities', 'weather', 'emerges', 'texture', 'applaud', 'at', 'Edison', 'Similar', 'placed', 'inevitable', 'Stag', '*-85', 'worksheets', 'complex', 'sentiment', 'boots', '282', 'Genie', 'Wedtech', 'burn', 'Brussels', 'reducing', 'predecessor', 'EEOC', 'Michaels', '1975', 'seems', 'yesterday', 'newcomer', 'eclipse', 'saving', 'scarce', 'open-end', 'connection', 'Carnegie-Mellon', 'Resources', 'duck', 'Horsham', '*-158', 'unfounded', '13.90', 'modestly', 'Nicole', 'annually', 'Steelworkers', 'highway', 'create', 'battles', 'completely', 'household', 'viewers', '50-50', '28.6', 'Its', '1940s', 'maturing', '1.35', 'breathe', 'compare', 'journalists', 'Kidder', 'oppose', 'director', '*-58', 'Circulation', 'cute', 'Containers', '*T*-42', 'shopping', 'Coleco', 'fills', 'Fax', '149.9', 'members', 'selling', 'Centerbank', 'extensive', 'loan', 'refer', 'quoted', 'Petersen', 'scandal', 'inserted', 'behind', 'strongest', 'INTERBANK', 'speculation', '2.9', 'electrical', 'Ethel', 'Thunderbird', 'murder', 'Calif.', 'satisfactorily', 'less', 'Yale', 'retorts', 'food-industry', 'post', 'Many', 'state', 'Squier', 'explore', 'aim', 'Totally', 'Japanese', 'silver', 'aboard', 'NRDC', 'abridging', 'weapons-modernization', 'stringently', 'ancient', '63', 'student', 'deficit', 'good-natured', '*-94', 'neutrons', 'lines', 'Driscoll', 'labeled', 'corn-buying', 'Kirkpatrick', 'happier', 'encourage', 'withhold', 'soared', 'almost', 'drunk', '1979', 'boast', 'judges', 'unstinting', 'privilege', '*T*-47', 'strategy', 'apart', 'mode', 'Lambert', 'advise', 'evaluating', 'published', 'playful', 'collection', 'consented', 'involved', 'Australia', 'or', 'EXCHANGE', 'livelihood', '0.9', '99', 'Waste', 'afraid', 'speculated', 'design', 'thunder', 'change-ringing', 'Municipal', 'successor', 'Huber', 'Riese', 'debentures', 'Trust', 'Soon', 'nonfinancial', '116.4', 'Gilts', 'Posted', 'notch', 'flux', 'FT-SE', 'BIRDS', 'administrators', 'ordering', '*T*-181', 'whenever', 'M.D.', 'contracted', 'unaffiliated', 'D.C.', 'occupant', 'leap', 'enforce', 'accommodations', 'Philip', 'top-selling', '3-4', '*-68', 'serial', 'execs', 'Service', 'ability', 'cavernous', 'subindustry', 'acquire', 'soul', 'standardized', 'partnership', 'connected', 'positions', 'pet', 'all', 'plays', 'invariably', 'temperature', 'overhead', 'boosting', 'Bridge', 'lot', '227', '63.79', 'announced', 'Cross', 'sad', 'Limited', 'justify', 'professionals', '700,000', 'old', 'distorted', 'companies', 'positive', 'dollars', 'nationalist', 'powwow', 'befuddled', 'emigres', 'analysts', 'crying', 'repeatedly', 'staff', 'doling', 'herald', 'Claude', 'CIA', '6.5', 'Whereas', 'habit', '1989', 'entitles', 'premiere', '20s', 'those', 'American', 'fracture', 'Treble', 'Typically', 'unbearably', 'specializing', 'donor', 'in', 'constitute', 'Unable', 'mail', 'walk', 'lobbyists', '*T*-89', 'PRECIOUS', 'Murray', 'opinions', 'condition', 'equals', 'penetrate', '37-year-old', 'Roger', 'photocopy', '1977', 'Marchese', 'incapable', '*-163', 'CHANGED', 'champions', 'rose', 'Diceon', 'release', 'referendum', '184', 'kindness', 'Jaguar', 'Heiwado', 'cards', 'possibly', ',', 'dam', 'disorders', 'Providence', '2009', 'Already', 'Farren', 'foam', 'procurement', 'advantages', 'match', 'bottom-line', 'plate', 'months', 'cooperating', '*T*-147', 'much-larger', 'Michelin', 'reclaim', 'seven-yen', 'referred', 'December', 'phase-out', 'TO', '29.4', 'rigid', '108', 'tendering', 'exhibits', 'agreement', 'Blue', 'advocated', 'booked', 'Cataracts', '700', 'liners', 'case', 'Porter', 'head', 'sharp', '*-155', 'Learning', 'Touches', '21-month', 'Hart-Scott-Rodino', 'clear', '6', 'researchers', 'heated', 'uncomfortable', '*-69', 'editors', 'array', 'wages', 'reflection', 'Cruise', '5.63', 'outlawing', 'declaring', 'Travelers', 'Act', 'short', 'satisfying', 'Health', 'denied', 'barges', 'crib', 'Gillett', 'Earle', 'letters', 'centers', 'prizes', 'Fulton', 'Fairlawn', 'Hutchinson', 'approaches', 'family-planning', 'discredit', 'savvier', 'creature', 'invested', 'recovering', 'restaurant', 'edition', 'noting', 'declaration', 'accepting', 'follow', 'non-biodegradable', 'poverty', 'examination', 'WAR', '*-107', 'wears', 'Seahorse', 'beneficiary', 'WPP', 'bullets', 'Elsevier', 'altering', 'Judicial', 'Dill', '879', '55-year-old', 'however', 'do-it-yourself', 'lacked', 'whistle', 'Loan', 'Property\\\\/casualty', '*-22', '14', 'dreadful', 'and', 'Computer', 'wine', 'targeted', 'cold', 'sensational', 'explanatory', 'tidbits', 'flows', 'bans', 'mind-boggling', 'import', 'effort', 'elusive', 'hard-hitting', 'halted', 'Wright', 'percent', '11.5', 'overall', 'marching', 'defended', 'licensing', 'Sit', 'window', 'realize', 'callers', '20.07', 'company', 'cutthroat', 'letter-writing', 'scrape', 'Wakui', '*T*-20', 'Namibia', 'zero', 'Says', 'waiving', 'impart', 'Control', 'vicars', 'begin', 'knowledgeable', 'Camilli', 'African', 'Nilson', 'Faulding', 'Intelogic', '*-164', 'Martin', 'trim', 'cocoa', '*T*-228', 'Minera', 'Michigan', 'simultaneous', '9.75', 'shoot', 'Fees', 'forgotten', 'seven', '14.00', 'reward', 'ownership', 'subcommittee', 'spoke', '*T*-6', 'chamber', 'Pace', 'assemble', 'relief', 'Malcolm', 'same', 'assurance', 'Malaysia', 'Bill', 'year-long', 'Harold', '1.25', 'rebound', 'converted', 'consent', 'stoked', 'Marine', 'hard', '1985', 'general', '149', 'converting', '93.9', 'deeds', 'highs', '271-147', 'inverted', 'disciplinary', 'high-level', 'unaware', 'industry', 'Representative', 'programmer', 'food-shop', 'co-chairman', 'disarray', 'insurance-company', 'until', 'term', 'Entertainment', 'lower-priced', 'FAMILY', 'Bells', '16,000', 'passage', 'Perpetual', 'information', 'promote', 'send', 'strapped', 'Anthony', 'Index', 'exceptionally', 'capitalism', '118', 'committing', 'qualified', 'SHAREDATA', 'indulging', 'broaden', 'aces', 'leeway', 'headcount-control', 'betrayer', 'monied', '2,410', '6.9', 'Disease', 'gift', '*T*-162', 'earnings', '360', 'bank-backed', 'Dell', 'studiously', 'nation', 'Due', '405', 'needs', 'Street', 'jurisdictional', 'Xerox', 'hits', 'kept', 'creditworthiness', 'Article', '*-24', 'ratcheting', 'consequence', 'my', '1990s', 'pace', 'unlabeled', 'Robbie', 'cut', 'men', 'implications', 'Barth', 'concentrate', 'Circulations', 'Experts', 'adverse', 'affect', 'bolstered', 'Filling', 'noble', 'vested', 'forcing', 'moderate', 'Gardner', 'hauling', 'spin-off', '767', '73', 'wanting', 'prosecuted', 'continually', 'slip', 'rusted', 'succeed', 'Coleman', 'shaded', 'things', 'processors', '286', 'bludgeon', '10.19', 'headlined', 'Skokie', 'appropriations', '*T*-108', 'draws', '*T*-118', 'arts', 'Norwegian', 'McDonald', 'six-packs', 'Lines', 'winding', 'permanent', 'cause', 'taken', 'grants', 'scrambling', 'riding', 'mounted', 'proscribes', 'warning', 'longer-term', 'Jimmy', 'device', 'coming', '*T*-37', '30.9', 'profitability', 'Norfolk', 'Jon', 'stays', 'triple-A-rated', 'disclosures', 'inventory', '1972', 'accordance', 'clock', 'unrealistically', 'Michio', 'assure', '185.9', 'wealth', 'fine', 'Nicaraguan', 'himself', 'studies', 'slew', 'Capitol', 'Strother', 'Germans', 'replicate', 'Shaw', 'Owner', '3057', '9.625', '*T*-19', 'pins', 'type', 'T-shirts', 'efficient', 'William', 'across', 'Their', 'district', 'earthquake', 'faster', 'John', 'owning', 'Carnival', 'stands', 'Miguel', 'visited', 'controlled', 'Compare', 'peal', 'scuttle', 'outlook', 'quoting', 'possessed', '4.75', 'circuit-board', 'topped', 'Vineyard', 'defense', 'handful', 'short-wave', 'liquid-nitrogen', 'Child', 'Trockenbeerenauslesen', 'preference', 'ticket', 'Russo', 'commercials', 'than', 'Factories', '260', 'phrase', '*-89', 'sections', 'Change-ringing', 'recede', '14.54', 'gold', 'infrequent', 'sticky', '1991-1999', 'partisans', 'fans', '705.6', 'unanimous', 'downright', 'cleaned', '1976', 'Ilminster', 'Otherwise', 'blinks', 'steel', 'computing', '1901', 'pool', 'martyr', 'Corp', '*-18', 'Stamford', 'classed', 'Sino-U.S.', 'mitigate', 'Solomonic', 'Soviets', 'deposit', 'properties', 'hospitable', 'Sacramento-based', 'understands', '*-92', 'Latin', 'Hudson', '12.97', 'Lucille', 'back', 'lowering', 'supply', 'index-fund', 'anyway', 'inquiry', 'sketch', 'overcapacity', 'revised', 'cups', 'Nebraska', 'auto', 'Shipments', '*-3', 'commitments', 'storage', 'jump', '*T*-229', 'parallels', 'abortion-related', 'Toledo', 'attacking', 'economic', 'Bangkok', 'N.V.', 'creates', 'software', 'which', 'Abbot', 'Milne', '*T*-227', 'informally', 'way', 'surged', 'curses', 'Judah', 'twice', 'Hubbard', 'arrangements', 'gauging', 'males', 'presumably', 'nowhere', 'feared', 'Dana-Farber', 'whipsaw', 'homelessness', \"'\", 'unmarked', 'Judges', 'Weisfield', '2', 'dismay', 'chastised', 'Wednesday', 'born', 'Without', 'friends', 'equal', 'Howard', 'F-series', 'capitalize', 'Landor', 'fell', '*-37', 'incest', 'proteins', 'POTABLES', 'Shangkun', 'Simeon', 'Salvador', 'caller', 'upheld', 'Plains', 'Barge', 'ensembles', 'Israel', 'crises', 'THREE', 'wrecking', 'equipped', 'Ross', 'shot', 'radio', 'pursuant', 'reviewed', 'Sierra', 'ballroom', 'define', 'ton', 'long', 'discos', 'interview', 'inner', 'inferences', 'Polytechnic', 'Saturday', 'Agriculture', 'harass', 'Leighton', 'gone', 'Investments', 'Recently', 'barrier', 'adopt', 'inherent', 'hope', 'thousand', 'naming', 'Bhutto', 'rebuild', 'prolonged', 'ascribe', 'Mazda', 'inspired', 'sixth', 'trade', 'evaporated', 'equivalent', 'consists', 'role', 'bundling', 'CEOs', 'zip', 'rap', 'marketed', 'solemn', 'implementation', 'Pa', 'loaded', 'merely', 'victory', 'reps', \"'s\", 'Baltimore', 'intricate', '19.95', 'introduces', 'regulations', 'Curry', 'mill', 'women', 'officers', '2.1', 'dominant', 'government-funded', 'looking', 'price-support', '275', 'introduce', 'yet', 'Purchasing', '1.5', 'clubs', 'retailer', '1970', 'Estates', 'Berman', 'Publications', 'Firms', 'promised', 'runs', 'mount', 'detailed', 'Phipps', 'remarks', 'Barrels', 'LANDOR', 'Massachusetts', 'enjoyed', 'Video', 'poignant', 'escalated', 'loved', 'Lyle', 'Auctions', 'flirted', 'provoke', 'Ranieri', '11\\\\/16', 'competed', 'covering', '1929', '5.39', 'definitely', 'containing', 'flourish', 'Post', '*T*-111', 'Science', 'viewing', 'say', 'assault', 'move', 'rewrite', 'triple-C', '1925', 'hunker', 'factor', 'Chevrolet', 'caught', 'Hammersmith', 'Association', 'strip', 'resist', 'motives', 'stairs', 'text', 'creativity', 'conversations', 'doubted', 'financing', 'Stocks', 'TWO', 'dead', 'Only', \"C'mon\", 'NBI', '*-100', 'simultaneously', 'improved', '*T*-160', 'Robertson', 'sentencing', 'Torrington', 'Kathleen', 'openings', 'Fuentes', 'enticed', 'Taipei', 'newly', 'counts', 'Investor', 'Appropriations', 'terrorists', 'hear', 'manmade-fiber', 'becomes', 'rebuilding', 'intentioned', 'old-fashioned', 'discretion', '0.5', 'adds', '118.6', '0.95', 'newspaper-printing', 'trivial', 'impact', 'Bumkins', 'film', 'innuendoes', 'McAuley', 'Marshall', 'personnel', 'softening', 'Allendale', 'auctioned', 'She', 'superconductor', 'defying', 'arms', 'Fracturing', 'wait', 'Matthew', 'underwriters', 'Bankers', 'psychology', 'impetuous', 'Clara', 'intelligent', 'farm', 'generalizations', '65', '1.457', 'pre-Communist', 'debate', 'purposes', 'show', 'memory', 'actor', '36-store', 'nature', '55', 'Riserva', 'Key', 'bunches', 'command', 'saved', 'Genetics', 'fifth-largest', 'hefty', 'Singapore', 'Characters', 'exceed', 'reciting', 'language', 'Different', 'Madison', '*ICH*-1', 'resolution', 'Freddie', 'depressed', 'Nelson', 'campaigner', 'Drobnick', 'machine-gun-toting', 'Grandsire', 'petition', 'campaigning', 'liquid', 'plot', 'lifes', 'protections', 'citing', 'Ramirez', 'gut-wrenching', 'unsuccessfully', 'grows', '47.6', 'fight', 'Triton', 'sorry', 'Muramatsu', 'Guarantee', 'nearby', 'indefinitely', 'sponsor', 'boomers', '618.1', 'also', 'trillion', 'Joe', '*T*-53', '1.1', 'resources', 'presence', 'Swiss', 'mailing', 'alike', 'belong', 'expand', 'Tulane', 'return', 'stifle', '%', 'hoopla', 'lieutenant', 'Arighi', 'households', 'socialism', 'research', 'inviting', 'David', 'spend', '18.3', 'execution', 'Boeing', 'chefs', 'rulings', 'set', 'prepared', 'merger', 'study', 'stake', 'assessed', 'follows', 'supportive', 'exit', 'feed', 'Pharaoh', 'vehicles', 'preclinical', 'facts', 'ads', 'addresses', 'Louis', 'field', '600', 'Lake', 'skills', 'altered', 'surrendered', 'queuing', 'Genel', '18,000', 'DIALING', 'Homebrew', 'enable', '56', '*-53', 'issuer', \"'82\", 'Chaplin', 'Longwood', 'intellectual', 'likeness', 'accompany', 'oriented', 'Huntsville', '*T*-44', 'entertainment', 'minister', 'Mutual', '234.4', 'waiver', 'Rexinger', '42', 'about', '*T*-206', 'Democrats', 'intraday', 'chunk', 'sulfur-dioxide', 'Peoria', 'scream', 'Polish', '4.55', 'executive', 'hold', '24.95', 'magicians', 'joys', 'frequency', 'rock', 'mortgage', '*-12', 'offending', 'spectacularly', 'bought', 'Marchand', 'side', 'durable', 'sew', 'Assuming', 'line', 'Business', '*-131', '23.5', 'defines', 'Uncertainty', 'Italy', 'neighborhood', 'Your', 'curly', 'drifted', 'removed', 'rises', '51-year-old', 'comparison', 'market', 'controls', 'do', 'devised', 'fifth-grade', 'Moving', 'Vermont', 'per', 'vacancy', 'measurement', 'sending', 'Amin', 'sprawling', 'Barrett', 'liberals', '7.50', 'offering', 'unexpected', 'Excluding', 'easy-to-read', 'Adams', 'Leroy', 'Steven', '*T*-121', 'Tatsunori', 'context', '*T*-170', 'establishment', 'intention', 'deliberating', 'ceramic', 'Criminal', 'depends', 'Aquino', 'derivative', 'sexy', 'absurd', 'Taccetta', '300-113', 'lack', 'Springfield', 'detail', 'known', 'admitted', 'conflicts', 'W.', 'crossed', 'Dai-Ichi', 'transferring', 'subsidiary', 'behaving', 'soured', 'alerts', 'Feb.', '140', 'compositions', 'sites', 'pact', 'fires', 'tours', 'nor', '*T*-182', '198', 'regard', '*T*-114', 'explains', 'Chile', '620', 'speculators', 'ACQUISITION', '306', '*-41', 'Ideas', 'examples', 'small', 'parlors', 'high-rolling', '&', 'Felten', 'intervention', 'weeks', 'debut', 'pirates', 'claim', 'skirmishes', 'Jacob', 'aghast', 'Sterling', 'Landrieu', 'clean', 'eight-month', 'FUNDS', 'YWCA', 'prescribe', 'smoking', 'entrants', 'Brace', 'invent', 'foldable', 'invests', 'deregulation', 'merchandising', 'Hoylake', 'opposition', '*-105', 'Fulham', 'ensure', 'actively', '21,000', 'Lowe', '*T*-107', 'male', 'globe', 'realization', 'hired', 'pre-existing', 'bread-and-butter', 'resent', 'work', 'dealings', '*T*-72', '3.4', 'Scoring', 'unloaded', '2-8', 'News', 'Donuts', 'making', '0.56', 'Mulford', '7.45', 'tightened', 'spotted', 'keeps', 'mind', '89.9', 'Neuberger', 'Determining', '*-121', 'Kentucky', 'Division', 'heard', 'assistance', 'Tribe', 'damaging', \"O'Neill\", 'Register', 'cruise', 'won', 'bottom', 'checks', 'Design', '*T*-144', 'history', 'slightly', 'eye', 'succeeding', 'disclosing', '58.64', 'print', 'Roukema', 'drift', 'Russian', 'pension-fund', \"'re\", 'Cambridge', 'prices', '51', 'essentially', 'You', 'high-balance', 'pit', 'helpful', 'security', 'interim', 'subminimum', 'multiples', 'Yeargin', '53-year-old', 'links', 'opened', 'Bond', 'redeploy', 'vote', 'Mrs.', 'hard-drinking', 'Moslem', 'achieving', 'state-supervised', 'divisions', 'too', 'Gaithersburg', 'expectations', '3.04', 'McFall', 'social-studies', 'bills', 'timely', 'reallocate', '*-9', '36', '238,000-circulation', 'Germany-based', 'impudent', 'Plans', 'pulling', 'Dugdale', 'Ridgefield', '7\\\\/8', 'There', 'Illuminating', 'lion', 'wake', 'parishes', 'estimation', 'Nagymaros', '3.61', 'lift', 'teacher-cadet', 'motors', 'are', 'Review', 'list', 'Futures', 'movements', '6.4', 'racing', 'metric', 'importance', 'inaccurately', 'Stearn', 'Corps', 'Controls', 'down', '*T*-203', '*T*-210', 'consistently', '1950s', 'protein', 'surgeon', 'fielded', 'outlets', 'roughly', 'pence', 'currency', 'Orders', 'possible', 'CTB', 'technique', 'Interpublic', '*-119', '*T*-49', 'Dolphins', 'basic', 'Journals', '.', 'deliberately', 'Fire', 'Always', 'cosmetic', 'Red-blooded', 'demonstrators', 'nightmare', '5.1', 'Sebastian', 'recorded', 'arguing', 'ward', 'asbestos-related', '8.575', 'Soviet', 'cooled', '1.18', 'prospects', 'inefficiencies', 'Source', 'investing', 'Moscow', '26.2', 'easing', '*T*-259', 'spurring', 'cost', 'Fourteen', 'regrettable', 'interest', 'Jeremy', 'Wohlstetter', 'luck', 'convey', 'elite', 'around', 'scheduled', 'acknowledging', 'Teddy', '`', 'raised', 'segments', 'disadvantage', 'solutions', 'kicker', 'progress', 'phony', 'Candlestick', 'stores', 'owed', '1.24', 'three-quarters', 'require', 'excellence', 'Romanee-Conti', 'people', 'Wells', 'robustly', '*-95', 'founder', 'Traditionally', 'chrysotile', 'management', 'sweepstakes', 'bulldozers', 'thinking', 'red', 'Japan', 'Joanne', 'Dom', 'fledgling', 'corporate', 'Total', 'architectural', 'formerly', '220', 'shareholder-rights', 'including', 'roof-crush', '*T*-98', 'weddings', 'Mayor', 'practitioners', 'hint', 'led', 'credentials', 'unwashed', 'patents', 'rebounding', 'Chairman', 'mundane', 'stopped', 'Laurence', 'regime', 'fluctuation', 'executive-office', 'haul', 'NIH', 'Commodity', 'pretty', '21.1', 'box', 'Heidelberg', '*T*-174', 'book', 'protecting', 'Abrupt', 'Sept.', 'Rozell', 'containers', 'addition', 'happy', 'sneaked', 'ankle', '1.92', 'lawyers', 'overleveraged', 'Later', 'Random', 'writers', 'proponent', '7.74', 'increase', 'economies', 'obsessed', 'Leming', 'Embassy', '2691.19', 'trading', 'reclaimed', 'merchandise', 'union', 'apparently', 'popularly', 'short-lived', 'omitted', 'contribute', '1993', 'diming', 'incisions', 'exceedingly', 'regenerate', 'Serial', 'replacement', 'security-type', '5.6', 'analysis', 'Macmillan\\\\/McGraw', 'conviction', 'magazine', 'practicing', '176.1', '132,000', 'What', 'Producers', 'Frenzy', 'thin', 'Public', 'Arlington', 'unfairly', 'profess', 'temporarily', 'arbitrager', 'larger', 'answer', '*T*-186', 'clause', '1992', 'obtained', 'WFRR', 'FTC', 'reformers', 'Morrison', 'solved', 'area', 'visitors', 'Program', 'stock', 'Every', 'rampage', 'commit', '50\\\\/50', 'litigation', '7.5', 'school-research', 'executed', 'gives', 'quota', 'rigors', 'Medicine', 'acid', 'therefore', 'administrator', 'programs', 'guide', 'maintained', 'sitting', 'English', 'implements', 'failures', 'free', '4.8', 'voluntary', 'Barbados', 'more-efficient', 'money-center', 'minivans', 'Burgundies', 'complain', 'examine', 'convinced', 'dozen', 'Einhorn', 'stature', 'said', 'underwent', 'layer', '*T*-92', 'refused', 'lungs', 'Big', '*T*-104', 'high', 'Adolph', 'authorizing', 'Bureau', 'forecasting', '*-10', 'raises', 'courtroom', 'dealing', 'Needham', '62', 'choice', 'bombers', '*T*-131', 'ex-dividend', 'Geneva', 'Borough', '8.5', '*T*-133', 'He', 'shop', 'natural-gas', 'No', 'Tyre', 'Is', 'repeals', '*-51', 'presidential', 'bottles', 'iota', 'Guild', 'drawn', '*T*-77', '106', 'blood-cell', 'VOA', 'Charities', 'dollar', 'property', 'consulting', 'importer', 'municipality', 'Panama', 'evolved', 'Marty', 'accelerated', '1.637', '8.30', 'old-style', 'France', 'maintaining', 'truth-in-lending', 'registration', 'financial-services', '*T*-140', 'Tower', 'moratorium', 'TRIMMING', 'competition', 'cared', 'metal', 'hospitals', 'product-design', 'Spitler', 'persuasive', '45.3', 'belts', 'new-home', 'profited', 'balls', '*T*-225', 'Mehta', 'Greece', 'session', '*-4', 'demands', 'construed', 'program', 'growers', '236.79', 'children', 'age', 'Christopher', 'Chicago', 'drug', 'nobody', 'Ill.', 'irrelevant', '*T*-59', 'payoff', 'leaders', 'waif', 'treat', 'basically', 'Schwab', 'tentatively', 'cancellation', 'protests', 'Rock', 'inches', 'Funded', 'Hawke', 'kidnapping', 'drove', 'avenge', 'lookee-loos', 'minority', 'handles', 'third-quarter', 'FAX', 'higher', 'feeds', '11.72', '100,980', 'downgraded', 'strictly', 'Telerate', 'Lafite-Rothschild', 'outside', 'Bowery', 'jolts', '*-72', 'injuring', 'checking', 'wrists', 'disappointing', 'slaying', 'optimism', 'O.', 'directors', 'undersecretary', 'recognition', 'double-C', 'airplane', 'versions', 'is', 'black-and-white', 'Hahn', 'Planters', 'mirror', 'inquiries', 'specialists', 'housewife', 'deducting', 'stones', 'growing', 'fueling', 'Kligman', 'Cup-Tote', 'Perestroika', 'Pat', 'installment', 'Svenska', 'walking', 'Angels', 'Rockwell', 'proposals', 'due', 'protect', 'referral', 'heebie-jeebies', 'Courts', 'considerable', 'dividend', '225,000', 'Media', 'Light', 'Glenham', 'teachers', 'diminish', 'wisdom', 'U.S.A.', 'unitholders', 'service', 'ranked', 'stunned', 'servicing', 'supplemental', 'overtime', 'insist', 'sells', 'Aslacton', 'address', 'father-in-law', 'body', 'skepticism', 'sacked', 'speed', 'weighing', 'Montgomery', 'pending', '8.25', 'Warren', 'characterized', 'dismayed', '12.09', 'Yorker', 'Pont', '*-132', 'Richmond', 'users', 'acquisition', 'acquisitions', 'Baker', 'Camille', '*-114', 'exceptional', 'thrifts', 'Prior', 'Nature', 'distasteful', 'escape', 'solicitous', 'severance', '*T*-52', 'tires', '29.3', 'Oy', 'Hormats', 'slate', 'wo', 'roofs', 'hardware', '203', 'M.', '130', 'resentment', 'publicized', 'arrangement', 'anywhere', 'permitting', 'largely', 'moments', 'independence', 'supposedly', 'conceivable', 'provide', 'Man', 'considering', 'Literacy', '*-135', 'remarkable', 'association', 'Crew', 'FBI', 'Ga.', 'Jefferson', '3.5', 'anything', 'stuff', 'enables', 'shipping', 'dairy', 'neat', 'Northampton', 'tailor-made', 'suppliers', 'source', '103', 'development', 'clouds', 'lobbyist', 'contends', 'Sauternes', 'Imhoff', 'grain', 'aspect', 'Alexander', 'good-hearted', 'perception', 'mean', 'quotas', 'institution', '*T*-237', 'Steve', 'covers', 'Coors', 'guilty', '35564.43', 'nurtured', 'likelihood', 'video-viewing', 'Russell', 'chaotic', 'More', '-RRB-', 'two-year-old', 'card-member', 'railing', 'Yang', 'tea', 'hurt', 'aspires', 'Asada', 'pumping', '37-a-share', 'drivers', 'Corp.', 'end', 'September', 'sizable', 'assembled', 'Spiro', '2\\\\/32', 'Publishers', 'vertically', 'Economic', 'Petroleum', 'Boone', 'Bronx', 'Princeton', 'occurrences', 'level', 'ambassadors', 'Stevenson', 'above-market', 'disk', 'drugs', 'categories', 'goods', 'table', 'benign', 'Almost', 'retard', 'division', 'Fund', 'confirms', 'confined', 'Unlike', 'plastic', 'substantial', 'goal', 'imminent', 'Share', 'mostly', 'search-and-seizure', 'Four', '52', 'Industries', 'U.K.', 'attributed', '*ICH*-2', 'lure', '2,700', 'high-flying', 'assess', 'Karns', 'handling', 'unsolicited', 'photographic', 'attack', 'clearing', 'campus', '3.23', 'discussions', 'contests', '15', 'watches', 'Prof.', 'proceeds', 'Maytag', 'Philadelphia', 'elaborate', 'financier', 'widget', 'attitude', 'Blanchard', 'chemicals', '179', 'implement', 'utility', 'crookery', 'struggle', 'NCR', 'breakfast', 'disputed', 'told', 'supports', 'Basin', 'Kingdom', 'intrusion', 'Hiroshi', 'maze', 'Sidewalk', 'mandates', 'duty', 'challenging', 'Commission', 'ACCEPTANCES', 'war', 'curled', 'ASSOCIATION', 'resolve', 'implicitly', 'Brownstein', 'church-goers', '2017', 'takes', 'sub-markets', 'Ms.', 'include', 'aggressive', 'barometer', 'interstate', 'decided', 'Alfred', 'treated', 'overnight', 'Mercedes', 'mix', 'freedoms', 'plagued', 'scandals', 'Courter', 'Watson', '1,400', 'ECONOMIC', 'see', '1.55', '55.1', 'transplant', 'news', 'decide', 'unofficial', 'heavy-duty', 'knife', 'Charter', 'Dunkin', 'received', 'Osborn', 'However', 'developer', 'Goode', 'Finnish', '150', '*-101', '1998', 'Absorbed', 'Instruments', 'Monticello', 'tight', 'decorated', 'deemed', 'Giraud', 'Norwalk', 'retentive', 'Forster', 'survival', 'whipping', '135', 'treating', 'conforms', 'futures', 'attention', 'computers', 'applicable', 'pressured', 'assert', '78', 'rhetoric', 'MONEY', 'summary', 'paltry', 'disgorge', 'Ames', 'intent', 'compiled', 'evident', 'Crude', 'retaliation', 'combined', 'Nestor', 'near', 'Los', '*T*-99', 'full-length', '*T*-78', 'eliminating', 'actual', 'Negus', 'convince', 'combination', 'everywhere', 'Coniston', 'teach', 'single-lot', 'actually', '70.7', 'continuingly', 'recorder', 'fronts', 'cautiously', 'bankrupt', 'takeover-stock', 'morass', 'dashed', 'enormously', 'pose', 'Dallara', 'Defense', '1970s', 'sentimental', '9.32', 'punishment', '5.3', 'concept', 'advocates', 'travelers', 'targeting', 'savers\\\\/investors', 'resembles', 'pattern', 'borders', 'products', '11.6', '*T*-194', 'attorney', 'adjustments', 'together', 'Elmhurst', '*T*-11', 'protective', 'accepted', 'routine', 'computer', 'N.Y.', 'after-tax', 'astronomical', 'University', 'Given', 'Scotland', '520-lawyer', 'Nevertheless', 'Germany', 'success', 'friendship', 'Lynch', 'held', 'Takashima', 'lyrics', 'expensive', 'before', 'enormous', 'dealers', 'Phelan', 'systems', 'pack', 'Reducing', 'favor', 'Apple', 'transacting', 'Kuala', '8.64', 'Fellowship', 'sassy', '11', 'Leo', 'oblivion', 'bar', '500', '3.75', \"CREATOR'S\", 'amendment', 'travel', 'three-year', '57.6', 'lover', '*T*-246', '*-108', 'right', 'worker', 'Audit', 'seduce', 'Malizia', 'climbing', 'wary', '*T*-102', 'Insurance', 'It', 'indicators', 'cycles', 'skidded', 'fond', 'ideological', '1.5755', 'environments', 'Marina', '*-29', 'ACCOUNT', 'chopped', 'Department', '*T*-103', 'write-downs', '1984', 'explain', 'death', 'hang', 'refunding', 'predictable', 'partly', 'AND', 'Wick', 'captive', 'glass', '*T*-110', 'Maryland', 'thanks', 'Sternberg', 'squeezed', '5.8', 'filing', 'Daily', 'services', '20,000', 'superimposed', '*T*-221', 'lesions', '3.375', 'abandon', 'Chadha', 'home', 'primarily', 'allegedly', 'represented', 'Airways', '*T*-177', 'literature', 'analyze', 'Coxon', 'harmony', 'Petersburg', 'banned', 'Anderson', 'Landis', 'Island', 'millionaires', 'chip', 'Year', 'dating', 'rebellion', 'Patch', 'behavior', 'memorize', 'ratepayers', 'running', 'imported', 'Mather', 'rate-sensitive', 'incentive-bonus', 'dust', 'container', 'adjustment', 'eliminate', 'hampered', 'sends', 'pages', '1,200', 'Stadiums', 'Varying', 'Ricken', 'Hours', 'Truck', 'never', '*T*-41', '*T*-95', 'discontinued', 'behemoth', '1.8', 'stronger', 'farms', 'hysteria', 'Brunello', 'intimidate', 'bars', '143.80', 'mechanisms', '3\\\\/8', 'harsh', 'nothing', '1987', 'complete', 'Offering', '*T*-245', 'stuck', '32.8', 'Beijing', 'imposed', 'investigating', 'suppression', 'into', 'Zicklin', 'Troubled', 'Nylev', 'rapprochement', 'consisting', 'Speculation', 'modify', 'graders', '*T*-214', 'capital-gains', 'Puerto', 'reflecting', 'hardest-hit', 'Paso', 'gangs', 'tool', 'interrogated', 'deter', 'announcer', 'proposing', 'greatly', '214', 'derivatives', 'designated', 'considers', 'broadened', 'mulling', 'Ortega', 'Beth', 'June', 'Klauser', 'beds', 'year-earlier', 'of', 'useful', 'Mergers', 'Gartner', 'negotiated', 'elimination', 'jostle', 'UAL', 'occurred', 'Though', 'liability', 'fragile', '23,000', 'moderately', 'declare', 'ounces', 'mathematical', 'brilliantly', 'After', 'ago', 'occupying', 'Altogether', 'multinationals', 'disclosure', 'troubles', 'tire-kickers', 'Monitor', 'Jail', 'Just', 'consistent', '8.35', 'unjust', 'ignoring', 'Raul', 'arrows', 'N.H.', 'sanctions', 'LTV', 'notable', 'Killeen', 'delivered', 'nice', 'Bramalea', 'installing', 'leash', 'featured', 'log', 'makes', 'minus', 'Eagleton', 'honor', 'unusually', 'grand', 'unusual', 'bothered', 'expedited', 'Auditors', 'chips', 'retained', 'HOME', 'Group', 'Ann', 'Advance', 'request', 'Arafat', '47.1', 'Gary', '1980', 'acquiring', 'Trinity', 'Rice', 'short-term', '2.3', '2163.2', 'refunded', 'Chilver', 'fetal', 'None', 'newsstands', 'put', 'nations', 'determined', 'alcoholism', 'Lonski', 'acquirers', 'war-damaged', 'web', 'beautiful', 'sex', 'democratic', 'noted', 'banking', 'Rolling', 'harvested', 'Moody', 'Research', 'sudden', '*-11', 'Women', 'la', 'Dealers', 'string', '7', '50.1', 'PhacoFlex', 'savings', '*-91', 'IMSAI', 'overseas', 'backyard', 'lawmakers', '30-minute', '5.5', 'Another', 'valuation', 'Ellis', 'posing', '114', 'sticking', 'Chinchon', 'uncertainty', 'pediatrician', 'minimal', 'that', 'Pickens', 'cry', 'Mining', 'sufficiently', 'Heritage', 'discussing', 'budget', 'awarded', 'ON', '430', 'abortion', 'CALL', 'Lt.', 'Tiny', '116.3', 'Right', 'topics', 'Metropolitan', 'five-year', 'develops', 'Manchester', 'older', 'bankroll', 'composite', 'erodes', 'Sandoz', 'vans', 'apartment', 'crackdown', 'joining', 'gentle', 'locked', 'Miss.', 'ground', 'Court', 'Hayes', 'bias', 'ballot', 'fixes', 'leather', 'methods', 'Telegraph', 'structurally', 'filters', 'foldability', 'Chabrol', '10.2', '19', 'advised', 'shudders', '830,000', 'Reames', 'stalls', 'Graduate', 'died', 'market-oriented', 'robotic', 'surreptitiously', 'touched', 'automotive', 'vice', '4,645', 'Superconductors', 'urge', 'length', 'Stoll', 'demise', '48', 'captivating', 'Mayland', 'slowdown', 'motion', 'Toronto', '*-139', 'Separately', 'economics', '0.28', 'attempts', 'skip', 'publishes', 'altruistic', 'ChemPlus', 'frequently', 'Kingsbridge', 'W.N.', 'N.C', 'universally', 'Dogs', 'China', 'bids', '59.6', 'commenting', 'Hayne', 'Paris', 'Failure', '210', 'Fannie', 'hours', 'repayment', 'Veraldi', 'tracked', 'eating', '*-76', 'Here', 'Kuvin', 'Stephen', 'farmers', 'rare', 'summer\\\\/winter', 'Silicon', 'punishable', 'yourself', 'although', 'high-yield', 'standing', 'California', 'Ky.', 'Scotia', 'living', 'negotiating', 'portions', 'traitor', '7.20', 'seize', '1973', 'where', 'periodontal', '*-149', 'confirmed', 'different', 'bellringers', 'Davis', '11th', 'noticing', 'sheets', 'flap', 'unreasonable', 'sue', 'Sacramento', '30s', '*T*-2', 'Argentine', '*T*-24', '1999', 'pick', 'everyone', 'lens', 'shipyards', 'III', 'HHS', 'Upjohn', 'duty-free', 'Tom', 'intriguing', 'anti-morning-sickness', 'obsession', 'remove', 'Christmas', 'voted', 'Rey', 'dessert', 'diverse', 'Shortly', 'ratings', 'implies', 'innovative', 'drops', 'horoscopes', 'Bethlehem', 'bonus', 'OTC', '*T*-213', 'Fabian', 'category', 'BRAMALEA', 'scrapped', 'payrolls', 'Security', 'average', 'rewards', 'deficiencies', 'served', 'element', 'Koizumi', 'respect', 'explained', 'Ariail', 'broad', 'THE', 'Mich.-based', 'METALS', 'unproven', '221.4', 'maker', 'procedural', 'museum', 'settle', 'existed', 'tie-in', '1\\\\/8', 'Piper', 'patented', '8.15', 'Volatility', 'Current', 'PAPERS', 'Gerald', 'economists', 'while', 'stereotyped', 'accumulated', '467', 'publicly', 'permission', '1982', 'sluggish', 'four-foot-high', 'Lezovich', 'cool', 'chauffeur', 'Aurora', 'skilled', 'leadership', 'route', 'explaining', 'occurs', 'nine-month', 'Roland', 'choose', 'palace', 'Gringo', 'red-and-white', 'If', 'activity', 'socialist', 'high-volume', 'Vanderbilt', 'paid', 'Eric', 'three-digit', '7.65', 'The', 'forced', 'pledged', 'negative', 'competes', 'downward', 'Utah', 'gunship', 'Short', '422.5', 'blender', 'annual', 'amicable', 'fails', 'mend', '3.7', 'five-day', 'students', 'Colorado', 'Judiciary', 'Data', 'refunds', 'Standardized', 'excesses', 'accounting', 'solicitor', 'exporter', 'WTD', 'liberty', 'unwary', 'how', 'throughout', 'Office', '*T*-9', 'rubber', 'Stockbrokers', 'Sigler', 'replicating', 'announcement', 'Journal', '8.48', 'batting', 'question', '492', 'sidestep', 'Voice', 'threat', 'Stephanie', 'Leinonen', 'refile', 'Federal', 'fit', 'onslaught', '*-90', 'year', 'showing', 'Community', '1966', 'sums', 'gored', '59.9', 'brutal', 'we', 'understand', 'Dompierre', '300-a-share', '*T*-224', 'turned', 'singled', 'judiciary', '37', 'Telephone', 'Ancient', 'Mesnil', 'cast-iron', 'single-handedly', 'projector', 'not', 'safety', 'walls', 'discarded', 'Traded', 'replaced', 'woman', 'suffered', 'situations', 'elevators', 'Maybe', 'pregnant', 'ballpark', 'high-quality', 'penalties', 'Cannell', '29year', 'Declining', 'Coconut', 'entitled', 'chairs', 'bell-ringing', 'sell', 'facade', 'plunge', 'speeches', 'bilingual', 'marbles', '1988', 'borrowing', '12\\\\/32', 'involves', 'rope', 'historically', 'Home', 'planning', 'purchases', 'distributes', 'S&P', 'eliminated', 'financings', 'went', '7.3', 'Purepac', 'Magna', 'specialize', 'participation', 'Akerfeldt', 'Possibly', 'prescription', 'exposures', 'presentation', 'dissolves', 'automobiles', 'edged', 'handed', 'Ferro', 'Oak', 'James', 'telecommunications', 'meant', 'rules', '*-125', 'cozy', 'backdrop', 'niches', 'particulars', 'High', '241', 'Feeding', 'E.', 'tissue-transplant', 'citizens', 'accident', 'litany', 'watch', 'lawyer', 'dominates', 'surprisingly', 'Rev.', 'prestige', 'off', '377.60', 'anxious', 'GAF', 'billionaire', 'Oh', 'House', 'purhasing', 'breach', 'Whiting', 'confuse', 'milestone', 'States', 'entrench', '14-hour', 'bomb', 'Hot', 'obligations', 'Structural', 'respondents', '672', 'asked', 'youth', 'campaigns', 'river', 'slid', 'open-top', 'Purina', 'deterioration', 'jeweler', 'briefing', 'license', 'Similarly', '85.7', 'ambassador', 'returns', 'impaired', 'Radio', '0.84', 'happen', 'declared', 'signature', 'mobilizing', 'hearing', 'Code', '*ICH*-3', 'D.', 'report', 'Baton', 'factory', 'Swearingen', 'Besides', '*T*-62', 'pep', 'Iran\\\\/Contra', 'Nesconset', 'trap', 'continues', 'Yoshihashi', 'Stirlen', 'Daniel', 'comedies', '7.95', 'entire', 'blocks', 'Reuters', 'rentals', '17.95', 'brand', 'tow', 'professional', 'voluntarily', 'Park', 'ministry', 'threatens', 'police', 'arrival', 'felt', 'artist', 'sphere', '*T*-168', 'avoid', 'battle', 'oil', 'stark', '5.92', '1989-90', 'without', 'Daniels', 'Mass.', 'fancy', 'planted', 'numbered', 'Rey\\\\/Fawcett', 'combinations', 'impressive', 'hill', 'butterfly', 'wants', 'unraveling', 'attracting', 'stresses', 'Elders', 'experience', 'contest', 'violation', 'miscarriages', 'Vitulli', '0.3', 'Board', 'Management', 'street', 'IRS', 'From', 'impose', 'built', 'lengthen', 'London-based', 'recruiting', 'Plan', 'Frank', 'Everybody', 'functioning', 'Lids', '*-112', 'Caldor', 'contingency-fee', '*T*-113', 'pharmaceuticals', 'Hara', '0.1', 'tie-breaking', 'legal', 'remodeling', 'wizards', 'concentrated', 'should', 'skeptical', 'first-half', 'EC', '94.8', 'land', 'diminished', 'zinc', 'Nigel', 'awful', 'exchange', '1.6', 'escaped', 'lap', 'debts', 'soybeans', 'renewed', 'Reupke', 'bell-ringer', 'Silverman', 'fortunes', 'spending', 'created', 'Southeast', 'places', 'Campaign', 'court', 'vague', 'Backer', 'understatement', '88.32', '*T*-74', 'Texaco', '*T*-13', 'party', 'Periods', '6.03', 'non-religious', 'parliament', 'transplantation', 'B.A.T', 'gambler', 'Scowcroft', 'blue-chips', '1961', '*T*-218', 'courts', 'low-cost', 'culprit', 'Birmingham', 'concerned', 'pre-tax', '1953', 'wedded', 'diversifying', 'cap', '*T*-187', 'goblins', 'Menem', 'nail', 'significant', 'variables', 'Amsterdam', 'look', 'bigger', 'shortages', 'year-ago', 'Hold', 'Griffin', '1983-85', 'lady', 'indirect', 'superintendent', 'Commonwealth', 'appears', 'threats', 'Brenda', 'programming', 'brings', 'Silver', 'cataract', 'recessionary', 'advertorial', 'ports', 'relieve', 'pressure', 'describe', 'teams', 'Rothschild', 'line-item', 'Bancorp', 'exclusively', '102', '273.5', 'emergencies', 'encounter', 'federal', 'range', 'commercial', 'impeding', 'Desai', 'honorably', 'Airlines', 'contribution', 'yon', 'IRAs', 'colony', 'improper', 'Baim', 'rights', 'grew', 'using', 'breaks', 'During', 'chaos', 'bread', 'mudslinging', 'little', 'triple-A', '321,000', 'positioned', '666', 'crash', 'sagged', 'City', '9.3', 'harmed', 'TRIAL', 'Foster', 'jumps', 'leader', 'evolution', 'Westport', 'Generally', 'sensitive', 'jury', 'sank', 'knew', '*-130', 'business', 'roll', 'GMAC', 'Signet', 'sit', 'monopolize', 'demonstrations', 'yielding', 'here', '*T*-128', '644', 'buses', 'VanSant', 'state-owned', 'cotton', '*T*-135', 'number', '2.65', 'tomorrow', 'fuming', 'ventures', 'leave', 'responsibilities', '1980s', '13', 'pilots', '7.272', 'Markey', 'wound', 'manufacturer', '86.12', 'Iowa', 'Freshbake', 'knowledge', 'tone', 'DOT', 'gauge', '13,056', 'Like', 'Cole', 'divest', 'Ensrud', 'yttrium-containing', 'staid', '7.2', 'assistant', 'favorite', 'Goldman', 'hedging', '6.21', 'Cote', 'Veselich', 'Arthur', 'hands', 'worth', 'Dunton', 'E.C.', 'highest', '28.5', 'textile', 'cocky', '1637', 'account', 'Dodge', 'Jacksonville', \"n't\", '*T*-79', 'Beach', 'unhappy', 'pricing', 'million-a-year', '900', 'abandoned', 'Tache', 'unworkable', '20.5', 'matched', 'Lebanon', 'furious', 'economical', 'Hanifen', 'boarding', 'double-digit', 'Strait', '598', 'Hummerstone', 'Liberation', 'stare', 'Notes', 'absorbed', 'observations', 'medium-sized', 'sold', 'Midwesco', 'preparation', 'Note', 'bundles', '44', 'ISSUES', 'associate', 'Once', 'parent', 'talk', 'MacLellan', 'stressed', 'Hitachi', 'Back', 'Grgich', 'Texas-based', 'faltered', 'units', '*-104', '331,000', 'anti-China', 'acceded', 'so-called', 'Mich.', 'partners', 'Indianapolis', 'stock-picking', 'called', 'items', '27.4', 'eligible', 'oils', 'huge', 'settlement', 'Thursday', 'Profit', 'investor', 'each', '1,460', 'limit', 'low-priced', 'angle', 'definitive', 'bushels', '6.50', 'Angeles', 'radioactivity', 'exits', 'demand', '*PPA*-1', 'entertaining', 'accurate', 'exchanges', '69-point', 'bargain', 'prior-year', '*T*-240', 'net', 'sewer', 'fret', 'granted', 'Kalamazoo', 'these', 'consensus', 'barriers', 'Spirit', 'Heavy', 'efficiency', '120,000', '5.276', 'matters', 'sickness', 'locally', 'unclear', 'mistakenly', 'penchant', 'content', 'Manila', 'previous', 'participate', 'resigning', 'Haruki', 'Bunny', 'earning', 'exclusive', 'banning', 'Follow-up', 'effects', 'cluttered', '237-seat', 'count', 'Pty.', 'Standard', 'word', 'expected', 'cost-sharing', 'buildings', 'certificate', 'Logic', 'II', 'Pasadena', 'millions', 'parties', 'inception', 'prisoners', 'eliminates', 'criminal', 'major-league', 'specifics', 'shows', 'Could', 'smattering', 'Perch', 'patients', 'withdrew', 'finally', 'let', 'Dodger', 'point', 'safe', 'gripping', 'impede', '84-year-old', 'raw', 'policies', 'offend', 'abide', 'placing', '28.4', 'Cheese', 'grains', 'profits', 'one-third', 'common', 'eclectic', 'waived', 'muzzling', 'portrayal', 'contract', 'proposition', 'goes', 'outraged', 'bombs', 'midyear', 'UPHELD', 'broader', 'arbitrage', '18', 'Water', 'unfettered', 'despise', '4.2', 'Cancer', 'clearer', 'Of', 'guerrillas', 'houses', 'common-law', '*T*-39', 'PS', 'flat', 'earn', '3,250,000', 'Zenith', 'constraints', 'fundamental', 'US', 'engineered', 'colored', 'politicians', 'prospect', 'disapprove', '1.916', 'encouraging', 'Institute', 'belfry', 'U.S.S.R.', 'salaries', 'Jews', '1.14', 'abortionist', 'studio', 'straight', 'transporting', 'inspirational', 'Moore', 'advance', '30-year', 'McLeod', 'Queen', 'stability', 'Ala.', 'fiber-optic', 'raise', 'Carl', 'decrease', 'discounts', 'shaky', 'insinuating', 'Trace', 'rusty', 'TV', 'drought', 'insert', 'swing', 'minimum', 'Andy', 'tests', 'Del', 'must', '2,050-passenger', 'deliver', '372.9', 'concrete', 'Ichiro', 'spring', 'Renee', 'Democracy', 'computer-generated', 'Imports', 'directed', '750', 'kids', 'recyclability', 'weird', '*-67', 'Candela', 'leveraging', 'nervous', 'retaining', 'direction', 'permitted', 'Des', 'Zayed', 'Noriega', 'Guard', 'reaching', 'customers', 'consequences', 'forms', 'outstanding', 'Currently', 'Ringers', 'chief', 'begins', 'done', 'defuse', '8.14', 'dropped', 'industrial', 'granting', 'ball', 'zone', 'guards', '30,537', 'CAT', 'support', 'piracy', 'Collector', 'accessories', 'balanced', 'hydraulically', '6,000', 'Scientists', 'Convention', 'McCabe', 'tried', 'vintage', 'marginally', '77', 'deprived', 'Frankly', 'overstated', 'jet', 'Private', 'devoted', 'salarymen', 'Skills', 'eight-person', 'taxes', 'page', 'Used', 'Assurance', 'biggest', 'increasingly', 'brunt', 'computerize', 'endorsed', 'buffet', 'foreign-led', 'Sheep', 'mothers', '3.1', 'deeply', 'contracts', 'Combo', 'constitutional-law', 'deadwood', 'buyers', '2160.1', 'B', 'PC', 'certain', 'losses', '8.45', 'power', 'portray', 'rough', '6.40', 'outright', 'robbed', 'ones', 'Air', 'percentage', 'able', 'Stock', 'Lee', 'magnets', 'bloods', 'waited', 'one', 'discretionary', 'reforms', 'shut', 'Income', 'TRUST', 'semiliterate', 'sticker', 'Houston', 'hierarchical', 'none', 'filed', 'sure', '*T*-125', 'vast', 'kind', 'invades', 'generation', 'reasserts', 'achieved', 'dislike', 'Dollar', 'moneymakers', 'survivor', 'ADRs', 'differ', 'POP', '415', 'biscuit', 'risk-free', 'cleaner', 'measure', 'Fischer', 'ruling', 'tracks', 'Jeffrey', 'votes', '*T*-165', 'praised', 'Integra-A', 'Younkers', 'opponents', 'Peter', 'Homeless', 'Trojan', 'ornamental', 'Warner', 'Nixon', 'bald-faced', 'Hurricane', 'LATE', '*T*-132', 'operating', 'crop', 'denominator', 'Greenwich', '*T*-193', 'involving', 'resolved', 'returned', '86', 'investors', 'Dresser', 'weekends', 'belongs', '14.99', 'ENDED', 'weekly', 'order', 'aggressively', 'him', 'metropolitan', 'few', 'Olympia', 'unrecognizable', 'style', 'internal', '119', 'identify', 'C$', 'consideration', 'codified', 'US$', '38.5', 'worst-case', 'inventories', 'Beauty', 'Kobe', 'next', 'refrigerator', 'Piscataway', '370', 'N.', '1965', 'thin-lipped', '40-year-old', '36.9', 'can', 'deal', 'couples', '84.9', 'medallions', 'lagging', '99.3', 'crops', 'sheaf', 'impressed', 'electrical-safety', 'Palisades', '1948', 'killed', 'Capital', 'item', 'voices', 'Egypt', '301', 'tasty', 'Spillane', 'Schaefer', 'contributing', 'pushes', '9.45', 'empty', 'visit', '400,000', 'NASD', 'pyramids', 'Political', 'confirm', 'immense', '*T*-219', 'necklace', 'subject', 'centennial', 'crystals', 'why', '6.1', 'self-serving', 'Thus', 'pour', \"'40s\", 'mid-afternoon', 'Helsinki', 'Justice', 'beat', 'college', 'planes', '*T*-235', 'substantially', 'greed', 'skin', '1.7', 'Magleby', 'derived', 'Impediments', 'trigger', 'capital-markets', 'decries', 'proposed', 'dailies', 'circulated', 'Gates', 'Duke', 'Dobson', 'requests', 'shoring', 'raring', 'cost-benefit', '630.9', 'underline', 'first-rate', 'block', 'Bush', 'justifying', 'coliseum', 'Higher', 'assembly-line', 'Traders', '132', 'backers', 'Gerard', 'regulators', 'Dr.', 'transformed', 'betterment', 'Coca-Cola', 'Rekindled', 'obedient', 'schoolchildren', 'Chong-sik', 'Communications', 'automation', 'obligated', 'transfers', '53', 'one-week', 'Lindner', '374.20', 'indicates', 'Typical', '*PPA*-3', 'El', 'London', 'slack', 'fare', 'egregious', 'suitors', 'current', 'everybody', 'armed', 'Henderson', 'till', '23.4', '43-year-old', '*T*-51', 'Dorothy', 'partner', 'adopted', '2645.90', 'concentration', 'prevailing', 'lucrative', 'magazines', 'expecting', 'craze', 'bloody', 'scans', 'COMPUTERS', 'Railroad', 'shareholder', 'sports-oriented', 'NESB', 'Sonny', 'spiders', 'Reserves', 'publish', 'West', 'old-time', '126.15', 'frenzy', '16.125', 'grandfather', 'Cutrer', 'Bronces', 'supplier', 'Modifications', '32', 'scant', '352.7', 'achievement', 'rings', '57.50', '12', 'associated', 'thwart', 'evaluation', 'tote', 'restructurings', 'calls', 'coffee', 'warehousing', 'wins', '*T*-66', '1\\\\/10th', 'breakers', 'initialing', '*-27', 'Baking', 'debacle', 'aspects', 'alleged', 'index-arbitrage', 'self-perpetuating', 'nominate', 'respond', 'merit', 'Disputada', 'fresh', 'Meinders', '150,000', 'Forget', 'shirts', 'illness', 'gloss', '24', 'trains', 'Eliminate', 'McCormick', 'bond', 'sole', '319.75', 'principals', 'GROWTH', 'steps', 'spurns', 'Indonesia', 'Dumpster', 'suffering', 'audit', '*-97', 'guilders', 'Haut-Brion', 'Chuck', 'Weatherly', 'FALL', 'interpretation', 'multiplying', '0.0085', 'pocket', 'Francisco', 'punish', 'Matthews', 'Merrill', '3436.58', 'aims', 'ASLACTON', 'desired', 'problem', 'polish', 'Citadel', 'Goldinger', 'save', 'railroad', 'dismiss', 'close', 'labor', 'Soup', '500,004', '1981', 'memories', 'Personal', 'disappointment', 'Brothers', 'one-time', 'loses', 'creator', 'cuvees', 'inaccurate', 'printed', 'boys', 'Sometimes', 'Mortgage-Backed', '5.9', 'willingness', 'Wilbur', 'SERVICES', 'chemical', '7.60', 'eager', 'filter', 'property\\\\/casualty', 'fingers', 'drink', 'shipyard', 'lovely', 'Bailey', 'circle', 'billion-dollar', 'appointed', 'uptick', '*-154', 'process', 'Buyers', '*T*-195', 'decades', 'Noble', 'sogo-shosha', '458', 'usurp', 'successfully', 'Ed', 'Keith', 'inhibit', 'benefits', 'persuasion', 'tough', 'Lumpur', 'hotel', 'averted', 'needed', 'fly', 'joint', 'worst', 'emerged', 'life-style', 'coated', 'SALARIES', 'allowed', 'true', 'TXO', 'second', 'throws', 'ship', 'patient', 'included', 'collecting', 'imposing', 'models', 'anecdotal', 'modest', 'looks', 'McGuigan', 'Florida', 'Lighthouse', 'currencies', 'ambitious', 'July', 'monthly', 'instituted', 'Columbus', 'talks', 'Warrenton', 'vineyard', 'bombarding', '2,099', 'appeals', 'investment', 'curtailed', 'ABORTION', 'desirable', 'sounds', 'utilities', 'client', 'produced', 'operations', 'worsen', 'necks', 'plainclothes', '90-day', 'blind', 'stayed', 'Woolworth', 'shore', '121.6', 'transforming', 'traveled', 'bidders', 'therapy', 'protected', 'Egnuss', 'IX', 'balloting', 'cooperation', 'apology', 'Order', '3.3', 'subscription', 'quick', '38', 'drinking', '*-56', 'remorse', 'Newgate', 'combines', 'rifles', 'instruction', 'BRIEFS', '1955', 'boutique', 'savings-and-loan', 'launched', 'grapple', 'unwilling', 'Investors', 'one-year', 'circuit-breaker', 'fabled', 'man', 'hearings', 'upward', 'getting', 'disaffiliation', 'female', 'whose', 'tablets', 'Deryck', 'two-time-losers', '143.08', 'drop-off', '*-78', 'intertitles', '210,000', '25,000', 'Olson', 'attached', '16.68', 'withdrawal', 'insider', 'twindam', 'B.', 'fully', 'pleaded', 'tobacco', 'Arraignments', 'amps', 'Spanish', 'Gerhard', 'within', 'sympathetic', 'prejudice', 'tailoring', 'toilet', 'publicity', 'responds', 'Berger', 'usually', 'outrage', 'policy', 'recouped', 'sake', 'emasculate', 'weighed', 'Vacancies', 'Rail', 'Jonathan', 'Yquem', 'scientists', 'Taking', '5.70', 'shareholders', 'NetWare', 'conclude', 'livestock', 'Stadium', 'SEC', 'fearful', 'Kuhns', 'outdistanced', 'middle-ground', 'reporting', 'Wheeland', '29', 'Ailes', 'stations', 'nuclear', 'stock-specialist', '9', 'avid', 'survey', 'Taiwan', 'run-down', 'Lentjes', '50', 'Conference', 'offset', 'honors', '9.8', 'many', 'sunny', 'N.Y', 'does', 'vehicle', 'rumor', 'rule', 'double', 'Red', 'Gas', 'Take', 'given', '*T*-220', 'cushioned', 'seven-year', 'introduction', 'probably', 'Walt', 'unfathomable', 'spokesman', 'billion', 'Indeed', 'accidentally', 'machinists', '*T*-5', 'big-time', '!', 'principle', 'sellers', 'tally', 'amending', 'figures', 'blames', 'panic', 'position', 'final', 'Frederick', 'telephones', 'comment', 'movement', 'Elisabeth', 'investigation', 'buy-out', 'Individuals', 'alive', 'growths', 'smothering', 'allocation', 'insanity', 'screwed', 'characterizing', 'environmentalists', 'green', 'vacations', 'surge', '1.17', '*T*-178', 'Make', 'default', 'clannish', 'custom', 'Burnham', 'join', 'downgrade', 'Davenport', 'wear', 'course', 'gyrate', 'Nissan', 'released', 'lowest', 'Berson', 'polarized', 'depository', 'degenerative', 'Bolivia', 'exhausted', 'Marathon', 'Second', 'Palestine', 'TRS-80', 'unknown', 'poor', 'crushed', 'link', 'checkbook', 'debt', '70.2', 'landing', 'difficulties', 'lying', 'refuge', 'shovels', 'cabinet', 'requested', 'tags', '128', 'policy-making', 'L.A.', 'exorbitant', 'Level', 'Lazzaroni', 'enthusiasm', 'Patrick', 'member', 'attorney-client', 'representing', 'scientist', 'controversial', 'neighboring', 'Exports', '27-year', 'Pakistan', 'Stena', 'exceeding', 'consumers', 'Napa', 'Bricklayers', 'identical', 'railcars', 'disapproval', 'booklets', '2003\\\\/2007', 'young', 'moved', 'form', 'Coche-Dury', 'following', 'possess', 'teacher', 'Government', 'music', 'period', 'Inns', 'Performing', 'Probably', 'syndrome', '31-year-old', 'late', 'government-owned', 'Midwestern', 'soliciting', 'Electric', 'calculator', 'resulted', 'against', 'laboriously', 'welcome', 'Bridges', 'lead', 'previously', 'Doak', 'consultants', '88', 'airlines', 'jurisdiction', 'minicrash', 'lucky', 'Eakle', 'resisting', 'UBS', '*-23', 'make', '*T*-28', 'Stanford', 'watching', 'money-market', 'deviant', 'newsroom', '1,620', '382-37', 'Defending', 'dexterity', 'Indiana', 'Honolulu', '77.56', 'Spielvogel', '125', \"O'Loughlin\", 'ushered', 'legislation', '28.25', 'days', 'official', 'Wilmington', 'rival', '*T*-216', 'tapping', 'recipient', 'improvements', 'packages', 'DIAPER', 'Nomura', 'Huppert', 'inheritor', '9.37', 'lender', 'Eastern', 'staffs', 'bilateral', 'carillons', 'bulls', 'featuring', 'evidence', 'Session', 'offered', 'scores', 'could', 'Marge', 'disagreeable', 'requesting', 'Orlando', 'EVERYONE', '1934', 'magnitude', 'agriculture', 'Jalaalwalikraam', 'counseling', 'agree', 'coincidental', '*T*-57', 'motor', 'tailored', 'dwindling', 'MacDonald', 'bankers', 'Interviews', 'muscling', 'generic', 'sign', 'dramatic', 'mechanical', 'Sulaiman', 'rarely', 'Icahn', 'trying', 'bill', 'suing', 'ideas', 'athletic', 'Barbara', 'corporation', 'store', 'plus', 'me', 'earliest', 'Arbitraging', 'reportedly', '9\\\\/32', 'hazardous', 'Sanderoff', 'institutions', 'outcry', 'Chapter', 'refocusing', 'employer', 'guarantees', '17', '500-Stock', 'Columbia', 'vindication', '*T*-100', 'overproduction', '8300', 'According', 'real', 'test-practice', 'seeing', 'businessman', 'concessions', 'consist', 'J.P.', 'moreover', 'three-month', 'index', 'trades', 'miles', 'Or', 'narrowly', '158,666', 'videocassette', '101', 'full-year', 'signal', 'hoped', 'establish', '*-113', 'Allergan', 'Memphis', 'plummeted', 'beg', '93.3', 'compromise', 'Several', 'furniture', 'motive', 'near-record', 'existing', 'reliance', 'technology', 'rapport', 'processes', 'long-term', 'Deposits-a', 'N.C.', '7.55', 'tendered', 'Eurobonds', 'autos', 'Lorenzo', 'stop', 'Everything', 'swapped', '188.84', '*T*-54', 'airports', '24,000', 'briefings', 'leveling', 'waterworks', 'managing', 'confused', 'Takeover', 'widgets', 'reasonably', 'episodes', 'evenly', 'appealing', 'PTA', 'skill', 'mainland', 'tour', 'Herald-American', '8.1', 'familiarization', 'advocate', 'grower', 'assigned', 'version', 'pension', 'discontinuing', 'Institutions', 'somebody', 'fattened', 'mouth-up', 'findings', 'trend', 'clipped', '*-38', 'television', 'An', '*T*-215', 'supercomputer', '*-141', 'drain', 'FERC', 'strong-willed', 'Few', 'involvement', 'warehouses', 'judicial', 'seen', 'pieces', 'Sixth', 'two-tiered', 'accountability', 'notify', 'envoy', 'half', '777', 'stages', 'secret', 'Leon', 'dominating', 'conduit', 'advances', 'mortgage-based', 'buck', '59', 'amendments', 'Koito', 'F.H.', '1971', '*-84', 'explosive', 'Citibank', 'march', 'Gorbachev', 'damage', 'November', 'Iran-Contra', 'immune', 'loveliest', '858,000', 'Haney', '*T*-136', 'terminated', 'incomplete', 'Pick', 'faithful', 'fled', 'Champagnes', 'contradictions', '*T*-106', 'Advancing', 'Myron', 'Eugene', 'automatic', 'easy', 'recovery', 'Mogavero', 'ninth', '*T*-63', 'herself', 'recyclable', 'Guinea', 'acceptances', 'small-time', 'Thrall', \"'80s\", 'diagram', 'both', 'permit', 'specialty', 'Haven', 'bowed', 'collections', 'loudest', 'regimented', 'future', 'Financing', 'engaged', 'battery', 'need', 'appropriators', 'teaching', 'Walbrecher', 'sacrificing', 'Carlton', 'Such', 'minority-owned', 'microcomputers', 'stockbrokers', 'Knowing', '177', 'decried', 'two-year', 'arising', 'burden', '1956', '26,956', '*T*-88', 'apologize', 'over-the-counter', 'Guber\\\\/Peters', 'Marietta', 'building-products', 'then-Speaker', 'expire', 'snow', 'occasionally', 'cumbersome', 'dirtiest', 'USA', 'pro-choice', '180', 'committed', 'duckling', 'drives', 'discourage', 'SDI', 'buttoned-down', 'Items', 'Where', 'Unemployment', 'hardly', 'feeling', 'overvalued', 'producer', 'anti-program', 'industry-supported', 'warrants', 'odd', 'gamut', 'criteria', 'landowners', 'relationship', 'outsiders', '2.15', 'consumption', '7.52', 'enter', 'Kansas', 'rapidly', 'Corn', 'better', 'event', '*T*-101', 'measures', 'McFarlan', 'Brean', 'widely', '*-54', 'act', 'Chatsworth', 'stretching', 'longevity', 'select', 'feet', 'formal', 'override', 'Mo', 'Glendale', 'cleaner-burning', '1206.26', 'single-A', '454', '148', 'exuded', 'Argentina', 'loathsome', 'Morgan', '15.5', 'recommended', 'rectified', 'restricting', 'chose', '4,393,237', 'Manhattan', 'screen', 'secondary', 'Persky', 'Canadian', 'still', 'Prebon', '251.2', 'PETS', 'halt', 'money-losing', 'exports', 'Hearst', '*-1', 'Harper', 'group', 'trademark', 'Polls', 'Life', 'jitters', 'reviewing', '*T*-1', 'top', 'quarters', 'TROUBLES', 'Kearny', 'failing', '141.9', 'reckless', 'export', 'pealing', 'reprove', 'standpoint', 'Citing', 'redeemed', 'Groucho', 'designed', 'stemming', 'swim', 'mine', 'insider-trading', 'quips', 'statewide', 'week', '292.32', 'denounce', 'strains', 'Seniors', 'light', 'meet', '95', 'Guigal', '*NOT*', 'emphasized', 'Buy', '18-year-old', 'Huxtable', 'Authority', 'describes', '5,699', 'lost', 'emergency', 'though', 'concerns', 'Platt', 'MERRILL', '3.18', 'atmosphere', 'experiencing', 'unconsolidated', 'ought', 'dust-up', 'portfolio', 'happened', 'transplants', 'low-altitude', 'uncharted', 'Maxwell', 'Velcro', 'gather', 'fawning', '*T*-8', 'custom-chip', 'beers', 'crude', 'hotels', 'erode', 'refuse', 'Ballot', 'gyrations', 'boosts', 'passenger-car', 'Previously', 'producers', 'seconds', 'offers', 'altogether', 'cruising', 'identity-management', 'wheel-loader', 'Huge', 'Compound', '*-48', 'screens', 'Atsushi', 'covered', 'penalty', 'redemption', 'subsidize', 'authority', 'Farm', 'toast', 'starts', 'Sullivan', 'talked', 'supported', 'unfocused', 'A', 'friend', 'jugglers', 'Sonnett', 'redeem', 'Provided', 'maintenance', 'correspondence', 'Industrial', 'now', 'suspects', '*T*-153', 'approval', 'Breeden', 'firmness', 'anti-programmers', 'works', 'jeopardizing', 'Carney', 'spenders', '1.4', 'extra', 'civil', 'money', 'needle-like', 'hay', 'reach', 'twist', 'CEO', 'contractor', 'rather', 'Average', 'great', 'restraints', 'serve', 'beverage', 'concede', '42.1', 'built-from-kit', 'dominance', 'Hatch', 'Education', 'Foreign', 'Mrs', 'Danzig', 'Volume', 'Minn.', '17.4', 'institutional', 'eight', 'finished', 'turnaround', 'bench', 'brief', '17.5', '61', 'hundreds', 'wheat', 'larger-than-normal', '1614', 'evensong', 'Lama', 'key', 'keyboards', 'spite', '71,309', 'tender', '16.7', '8.9', 'tell', '77,000', 'flies', 'Lovett', '10.5', 'Carter', 'Composite', 'raising', 'tested', '2000', 'pitches', 'conference', 'First', 'Nine', 'crews', '722', 'Mostly', 'fierce', 'pipes', 'avert', 'claiming', 'pulls', 'Rep.', '50.38', 'newspapers', 'convertible', 'Beta', 'Springs', 'Connecticut', 'mirrors', 'unveil', 'Trade', 'Funny', 'format', 'crowded', 'bargains', 'Newspapers', 'Odd-year', 'Technology', 'Sabhavasu', 'departure', 'levels', 'new', 'Turnaround', 'protest', '35.7', 'considered', '35500.64', 'halts', 'trader', 'determine', 'Proceeds', 'prosecutor', 'very', 'Both', 'patent', 'Novello', 'Tip', 'relating', 'Oct.', 'Retin-A', 'Factory', 'garden-variety', 'Toys', 'working', 'annoyed', 'Nobel', 'eventually', 'Andean', 'contained', 'fretted', 'comprehensive', 'Louisiana', 'multilevel', 'aspersions', 'pickups', 'Salmore', 'picture', 'really', '1986-87', 'cases', '490', 'taste', 'landfills', 'Wickliffe', '133.8', 'industries', 'publishing', 'Alurralde', 'Elisa', 'shipments', 'signboards', 'Mitsubishi', 'conditional', 'benefited', 'Initiative', 'Heightened', 'Cartons', 'races', 'Dutch', 'club', 'assassinated', 'reductions', 'Certainly', 'salable', '850', 'oilman', 'marketers', 'Rouge', 'engage', '500,000', '*T*-189', 'related', 'Internal', 'Constitutional', 'turf', 'pull', 'negotiate', 'Blunt', 'Canepa', 'switch', 'bearish', 'girlfriend', 'fighting', 'elsewhere', 'NCNB', 'conflict', 'latest', 'Lorillard', 'Tray', '43.875', 'grant', '*-150', 'Elliott', 'reluctance', 'Angola', 'electronic', 'reins', 'DDB', 'distributed', 'microprocessors', 'Kong', 'government-certified', '913', 'DEPOSIT', 'laid', 'guided', 'significantly', 'were', 'markdowns', 'executives', 'German', '2.875', 'venture', 'quality', 'delay', 'committees', 'President', 'Transportation', 'operates', '*-153', 'Ednie', 'Cos.', 'displays', 'sigh', 'Cab', 'instructed', 'third', 'British', 'characteristics', 'broadcasting', 'overcrowding', 'reporter', 'Encouraged', 'Timex', 'Communist', 'Bankruptcy', 'limitation', 'aisles', 'own', '*T*-76', 'News-American', 'Gordon', 'asset-sale', 'welfare', 'Co', 'Wis.', '*T*-91', 'acquisition-minded', 'essays', '12-member', 'barely', 'game', 'Those', 'Enzor', 'era', 'carefree', 'often', 'private', 'Beall', 'superiors', 'Cullowhee', 'curtail', 'Again', 'Hasbrouk', 'Title', 'upon', 'Sydney', 'tremendous', '5.57', 'restructure', 'elderly', 'Edwards', 'includes', 'Donaldson', 'Oliver', 'conspicuous', 'concern', 'Soldado', '130.7', 'releases', 'laying', 'non-U.S.', 'prospective', 'Rabia', 'Atlanta-based', 'Ind.', 'folio', 'diversify', 'spurned', 'tripled', 'Per-share', 'Haden', 'lessen', '100-share', 'District', '14.53', 'customized', 'Ballantine\\\\/Del', 'organizations', 'Alleghany', 'Americans', 'discovered', 'Tribune', 'generate', 'effectively', 'Society', 'Dennis', 'construction', '*T*-175', 'Ratings', 'Utilities', 'influence', 'Peabody', 'diplomats', 'everyday', 'guys', 'high-minded', 'Prize', 'necessary', 'corrected', '*T*-3', 'the', 'By', 'withdrawn', 'quantity', 'no', 'Bates', 'v.', 'Stores', 'Connections', '16\\\\/32', 'flights', 'heading', 'plugged', 'helped', '*T*-130', 'intellectual-property', 'troops', '23', 'Lizhi', 'approves', 'franc', 'Rosenblum', 'elementary', 'Equity', 'jumping', 'tactics', 'exciting', 'seafood', 'Rogers', 'go', 'asks', 'organization', 'Gorman', 'etc.', '21.9', '2.42', 're-thought', '154.2', 'SCI', 'for', 'board', 'Neal', 'Norwick', 'reserve', 'Friedrichs', 'U.S.-Japan', 'vinyl', 'Floyd', 'crane-safety', 'bricks', 'restructured', 'testify', 'transactions', 'Canada', '*T*-244', 'Louisiana-Pacific', '1995', 'think', 'Edward', 'Dinkins', 'cousins', 'bled', 'interests', 'subscriber', 'solely', 'reasons', 'Depending', 'movie', 'overpriced', 'outstrips', 'in-store', 'floated', '5.2180', 'employee', 'preparatives', 'instrumental', 'suggested', 'dismissal', 'Equus', 'call', 'audiocassettes', 'tower', 'holds', 'Komatsu', 'omnipresent', 'special', 'his', 'Actually', 'capability', 'morbidity', '225.6', 'RATE', 'letter', 'Wash.', 'assumption', 'anti-abortionists', 'Bell', 'recommend', 'Mo.', 'implant', 'light-truck', 'encircling', 'choosing', 'Akio', 'fourth-quarter', 'exacerbated', 'classified', 'split', 'entity', 'expires', 'Criticism', 'droughts', 'F.W.', 'Perignon', 'model', 'Colleges', 'flatulent', 'credit-rating', 'manufacture', 'forces', 'took', 'shambles', 'Rally', 'lifting', '3648.82', 'triple', 'small-company', 'expenditures', 'stance', 'face', '*T*-184', 'orders', 'Green', 'Fred', 'integrated', '60', 'Stories', 'shown', 'polystyrene', 'docile', 'January', 'slippage', 'Bugs', 'infringed', '6.6', 'Sugarman', 'Berlin', 'Yorkers', 'estimated', 'Money', 'finds', 'sector', '36-day', 'divergence', 'Australian', 'enacted', 'popular', '*T*-80', 'Trudeau', 'trucks', '0.60', 'talking', 'red-flag', 'hottest', 'Nancy', 'preventing', 'le', '*T*-40', 'sound', 'refusal', 'To', 'silent', 'features', 'flim-flammery', 'financed', 'lay', 'road', '126,000', 'unattractive', 'akin', 'submit', 'Farmers', 'Continental', 'newsworthy', 'roof', '7,500', 'agreed', 'resistance', 'Poore', 'Toronto-based', 'professor', 'rankings', 'year-end', 'car-care', 'Jenkins', 'revenue', 'council', 'stretched', 'Milan', 'Chandler', 'Free', 'sputtered', '*-160', 'defendant', 'therapies', 'person', 'excess', 'Tuesday', 'That', 'doubled', 'particular', 'mathematics', 'prominently', 'stay', 'congregation', 'foul', 'fast-food', 'hustlers', 'vintages', 'Harvard', 'providers', 'invite', 'expands', 'rollover', 'residence', 'mental', 'cheapest', 'recruit', 'Johnny', 'thieves', 'progressive', 'clothing', 'compound', '18.95', 'NATIONAL', 'bridge', 'Value', 'parched', '105', 'ends', 'pro-democracy', 'intrusions', 'harvest', 'polls', 'forecast', 'Li', 'entrepreneur', 'Chardonnays', 'framework', 'felonies', 'assertion', 'peripheral', 'promises', 'ugly', 'initial', '36-minute', 'winning', 'continue', '*', 'Despite', 'York-based', '2.46', 'ringing', 'recess', 'Medical', 'pressing', 'apparel', 'facilities', 'transportation', 'Founded', 'filled', 'available', 'steelmakers', 'advantage', '5.4', 'sources', 'Scripps', 'starting', '225', '*T*-202', '*-93', 'missiles', '436.01', 'bribe', 'Cathedral', 'unsettled', '54-year-old', 'maximum', '$', 'foot', 'crisis', 'unit', 'Huntington', 'insists', '89', 'expressly', 'Derel', 'RMS', 'push', '*T*-82', 'error', '*-165', 'hard-charging', 'overlap', 'trash', 'integrity', '4.25', 'disagrees', 'Creek', 'concentrating', 'sorts', '7.90', 'spook', 'favorable', 'Intermec', 'gauges', 'post-hearing', 'outlay', 'boosted', 'decisions', 'network', 'cancer', 'relies', 'Hammacher', 'knitted', 'Western', 'retirement', 'Jamaica', 'alternatively', 'yet-to-be-formed', 'exercised', '*T*-45', 'dusty', 'teenage', 'managers', 'bell', 'countries', 'Population', 'information-services', 'For', '1.28', 'waste', 'Francis', '451', 'Cabernet', 'businessmen', 'nutty', 'Corrigan', 'underperforming', 'attacks', 'Stewart', 'extent', 'subordinate', 'Achievement', 'twinned', 'product', 'going', 'commodity', '*T*-226', 'literary', 'clobbered', 'asset-valuation', 'seller', '*T*-239', 'vs.', 'protects', 'retraced', 'compatible', 'p.m', '7.79', 'transcribe', 'legislators', 'commerce', 'demobilize', 'weak', 'revive', 'mentioned', 'pistols', 'Meanwhile', '75-year-old', 'interventions', 'province', 'quotations', 'Show', 'employment', 'Royal', 'compared', 'reimbursed', 'Lieberman', 'UNION', '13.5', 'restore', 'Norman', 'borough', 'underscore', 'celebrate', '83,206', 'Skilled', 'Seymour', 'undercut', 'players', 'Youths', 'fold', '1992-1999', 'ordeal', 'daily', 'corners', 'striving', 'discontent', 'Andersson', 'Dolphin', 'military', 'bank', 'brokerage', 'us', 'single-handed', 'deviation', 'declining', 'stock-selection', 'Dunn', 'aware', 'yielded', 'scheme', 'Ward', 'mechanism', 'Tots', 'entangled', 'depression', 'record', 'directing', 'manipulators', 'graphs', 'gifts', 'five-cent', 'operator', 'file', 'exploration', 'Islands', 'Participants', 'Heating', 'Caribbean', 'sport-utility', 'funded', 'pennies', 'Rumors', 'technologies', 'Barron', 'Moines', 'parking', 'Vicar', 'Furillo', 'abuse', 'food', 'Tokyu', '10-lap', 'characters', 'regulatory', 'crunch', 'will', 'platitudes', 'Fremantle', 'suburban', 'revising', '40.21', 'Minister', 'Mahoney', 'Melamed', 'band-wagon', 'ethical', 'carefully', 'Clark', 'its', 'detective-story', 'insistence', 'Manufacturers', '2.5', 'Aerojet', 'Souper', 'feature', 'risk', 'health', 'values', 'objective', 'inherently', 'ratified', 'Arbitrage', 'adapting', 'hailing', 'rationed', 'Boesel', 'logic', 'idiomatic', 'focusing', 'paycheck', 'cyclical', 'exist', 'citations', 'fourth', 'Spence', 'AMR', 'energy-services', 'low-tech', 'obstacles', 'Mark', 'Saudi', 'hand', 'Belt', 'Against', 'coke', 'Along', 'AN', 'Yamaichi', 'indicate', 'relocate', 're-election', 'classical', 'friendly', 'steady', 'stage', 'vaccines', 'museums', 'Collins', 'May', 'couple', 'increasing', 'airline', 'Saitama', '10th', 'shipbuilding', 'francs', 'fairly', 'when', 'Agency', 'uses', 'crusade', 'reflected', 'breezy', 'diamond', 'provided', 'Katzenstein', 'tag', 'stabbed', 'Gregory', '*T*-139', 'slower', 'nine', 'credibility', 'McAlpine', 'Test', 'embarrassing', 'lightning-fast', 'offer', 'Del.', 'surprise', 'salary', 'nameplate', 'Latour', 'maturities', '*-40', 'binge', 'trays', 'shallow', 'reinstating', 'slated', 'Rowe', 'debenture', 'fraud', 'Heights', 'DES', 'ringer', 'competitors', 'Campeau', 'million', 'dramatically', 'Uzi-model', 'calculated', 'purchased', 'explosion', '7.15', 'Deregulation', 'additional', 'decade-long', 'Hallett', '*T*-36', 'Gray', 'riskier', 'sewing-machine', 'K.', 'prove', 'Palestinian', 'modern', 'clean-air', 'globally', 'maximize', 'Parkinson', 'inadequate', 'high-priced', 'Consent', 'believes', 'Time', 'Korea', 'Boulder', 'styles', 'Daiwa', '*-59', 'bomber', 'phone', 'Enterprise', 'genuine', '*T*-85', 'magnified', 'demanding', 'factors', 'startling', 'Sangyo', 'sets', 'Mary', 'synthetic', 'statute', 'difficulty', 'fleeting', \"O'Brien\", 'suggests', 'intimately', 'evaluated', 'calculate', 'take', 'criticized', 'diabetes', 'merchants', 'once', 'Articles', 'buy-back', 'Dan', 'identified', 'already', 'Policy', 'Rapanelli', 'Saul', 'proponents', 'Tailors', 'Najarian', 'calculations', 'guns', 'Inc', 'Conn.', 'machinery', 'razor-thin', 'wasted', 'Univest', 'proof', 'produce', 'causes', 'sketching', 'FIRST', 'response', 'Jaffray', 'story', 'prefectural', 'negotiators', 'beer', 'nameless', 'aftereffects', 'illegally', 'Meridian', '5.29', 'snapped', 'actress', 'N.J.', 'lieu', 'Bears', 'G.m.b', 'looked', '343', 'Pardus', 'stiff', 'Church', 'Middlesex', 'brightest', 'purely', 'meal', 'duties', 'warned', 'Pictures', 'cargo', '50,000', 'Late', 'scholar', 'hostility', 'carries', '17.3', 'County', 'showed', 'Whip', 'corrupt', 'Allen', 'speculating', 'itself', '12,252', 'Express-Buick', '*-74', 'Than', 'action', 'Have', '6.70', 'promotional', 'trail', 'supercomputers', 'Kalipharma', 'decorator', 'fuel', 'communication', 'reservoirs', 'goverment', 'Sherwood', 'ill', '*T*-31', 'Then', 'World-Wide', 'feline', '446.62', 'found', 'extraordinary', 'researcher', 'Prof', '*T*-159', 'any', '1.46', '963', 'accounted', '313', 'anemic', 'Biondi-Santi', '62-year-old', 'medical', 'While', 'Takeshi', 'DyDee', 'A.', 'Pro-forma', 'initiated', 'Young', 'Itoh', '257', 'creditor', 'resumes', 'ignored', 'frantic', 'agencies', 'Albert', 'Appellate', 'spokeswoman', 'reorganized', 'erasures', 'virtually', 'digs', 'slipped', '*T*-196', 'Systems', 'lunch', 'path', 'statistics', 'interbank', 'whirling', 'processing', 'evoking', 'market-share', 'fixed-price', 'full-time', 'breakdown', 'del', 'purchasers', '2.8', 'church', 'slowing', 'Charlie', 'European', '*-6', 'swapping', 'Mikhail', '19.3', 'plunged', 'individuals', 'faced', 'Center', 'Works', 'advancing', 'library', 'chest', 'publications', 'crowd', 'Place', 'Jenrette', 'husband', 'Reserve', 'prominent', 'doing', 'unleashed', 'America', 'Financial', 'reason', 'glitches', 'opening', 'Hoffman', 'Harcourt', 'PCs', '7.84', 'Hutton', '92.9', 'ENERGY', 'owners', 'Cosby', 'funding', 'appointments', 'retardation', 'sort', 'superpremiums', '4.10', '#', 'subjects', 'contrary', 'stimulating', 'screened', 'performed', 'multinational', 'Lancaster', 'cascading', 'Buying', 'standard', 'performance', 'ascendency', '8.60', 'helping', 'cutbacks', 'substance-abusing', 'day', 'Consolidated', '2,000', 'Goldsmith', 'Ltd', 'ending', 'on', 'reaped', '*-166', 'clerics', 'alert', 'pickers', 'maybe', 'Ltd.', 'enjoy', 'shortly', 'square', 'profit-taking', 'written', 'AC-130U', 'gaining', 'Alzheimer', 'acquirer', 'overriding', '70-a-share', 'white-collar', '6.84', '30,841', '41.60', 'assist', 'Dole', 'car-development', 'favors', '*-52', 'teaches', 'developments', '1903', 'extension', 'theme', 'vicissitudes', 'two-letter', '14.75', 'firings', 'Garret', 'State', '21', 'Arabia', 'structured', 'judged', 'U.S.', 'recognizing', 'marvelously', 'clearly', 'Composer', 'Democrat', '274', '8.50', '341.20', 'Stork', 'Cray', 'juvenile', 'meets', 'International', 'Old-House', 'desultory', 'Inland', 'persuade', 'Five', 'pressman', 'rigged', 'affirmative', 'mid-size', 'bottle', 'referring', '*T*-32', '16.9', 'deceptive', 'Jacobs', 'Nichol', 'Kawasaki', '*-109', 'undertaking', '*T*-4', 'anti-miscarriage', 'worship', 'yen-denominated', 'smartly', 'Byron', 'regulate', 'acetate', 'Over', 'apparent', 'truth', 'defects', 'imperative', 'carrier', 'off-year', 'leases', 'staunchly', 'onto', 'replies', 'reaffirmed', 'chat', 'Domestic', 'Rill', 'morphogenetic', 'among', 'rolled', 'b', 'speaking', 'plaintive', 'fabricator', 'Documents', 'condemned', 'complicated', 'complicate', 'concluded', 'DISCOUNT', '*T*-176', 'Boorse', 'solid', 'polyester', 'fiber-end', 'impossible', 'Photograph', 'improve', '730', 'Account', 'History', 'symbolic', 'vacation', 'yen', 'ways', 'arrest', 'Wild', 'Lefcourt', 'Aug.', 'resume', '7.422', 'Tony', '1.8415', 'careers', 'decides', 'interesting', '76', 'Marvin', 'truck', 'Raton', 'distinguished', 'coupled', 'compensate', '*T*-158', 'because', 'sophisticated', 'permits', '84.29', 'ringers', 'stocks', 'disembodied', 'protesters', 'Bridgestone\\\\/Firestone', '334.5', 'pleased', 'compliance', 'fee', 'Ronald', 'defeated', 'tramp', 'Syracuse', 'Price', 'joined', '310', 'Evans', 'Cougar', 'wife', 'DiLoreto', 'Virgin', 'via', 'Nasdaq', 'Kurland', 'specify', 'equip', 'Christie', 'Delmont', 'Africa', 'whimsical', 'foundation', 'lobster', 'faded', 'twisting', 'confident', 'proved', '*-7', '*T*-67', 'Numerous', 'threatened', 'insured', 'Junk', '*-20', 'yields', 'manufactured', 'outpaced', 'ties', 'Lobsenz', 'amass', 'expressed', 'Class', 'Signore', '*-77', 'state-appointed', 'flooded', 'Ohio', 'N.V', 'Colorliner', '109.73', 'stupid', 'voters', 'conservative', 'being', 'Oklahoma', 'super-absorbent', 'Mannix', 'generations', 'nets', 'Mifflin', 'Basic', 'S.A', '2141.7', 'decliners', 'Century', 'Baris', '*-118', 'certified', 'stated', 'bankruptcy-law', 'untrained', '81.8', 'L.P.', '29.9', 'three-lawyer', 'wine-buying', 'certificates', 'fizzled', 'settlements', 'modern-day', 'fiscal', 'York', 'air', 'smaller', 'romance', 'geography', 'advertising', 'spokewoman', 'center', 'heightened', 'INS', 'introduced', 'Ginsberg', 'Barnum', 'care', 'ultimately', 'Britta', 'Chivas', 'wires', 'buying', \"''\", 'samples', 'adequately', '*-136', 'vortex', 'Louisville', 'safe-deposit', 'strategies', 'asserting', 'undergoing', 'industrials', 'implication', 'please', 'shrank', 'fragmentation', 'best-seller', 'Chardonnay', 'Co.', 'lessening', 'We', 'Reasons', 'greater', 'urged', 'Environmental', 'floral', '*T*-256', 'equal-opportunity', 'Petrus', 'court-ordered', '*T*-86', 'resigned', 'life-of-contract', 'participant', 'Us', 'Vegas', 'PRIME', 'Nekoosa', 'note', 'forward', 'cardboard', 'Moreover', 'stock-price', 'adjustable', 'productivity', 'remains', 'giants', 'merge', '*-44', 'superconductors', '240-page', 'devastating', 'Commodities', 'truce', 'Village', 'adult', 'Cheetham', 'night', 'thousands', 'cheerleaders', 'restored', 'Pretty', 'morning', 'dividing', 'slowed', 'Kappa', 'liquidated', '415.6', 'destroy', '*-98', 'opposes', '3.16', 'Vose', 'sacks', 'putting', 'gas', '608,413', 'Catholic', 'Bass', 'activities', 'Dorrance', 'Affairs', 'she', 'chronicle', 'eternal', 'markets', 'Nuys', 'banquet', 'gets', 'doctrine', 'task', 'blurred', '37.3', 'Banque', 'only', 'Solution', 'redeeming', 'Reuter', 'astonishment', 'Fans', 'Lauderhill', 'early', 'electric-utility', 'impetus', 'shares', 'Pet', '83.4', 'college-bowl', 'alienated', '7.40', 'fall', 'Conn.based', 'complained', 'England', 'durable-goods', 'ultimatum', 'male-only', '270', 'vitriolic', 'resists', 'Section', 'partisan', 'underpin', '4.3', 'mammoth', 'totaling', 'Communists', '*T*-26', 'followed', 'tows', 'hobbyists', 'languages', 'prepayment', 'Asian', 'Joseph', '115', 'incentive-backed', 'arm', 'excision', '12.68', 'Alliance', \"'m\", 'Local', 'responsible', '*T*-34', 'securities-based', 'rating', 'Before', 'deaths', 'referrals', 'Leningrad', 'harassment', 'devote', 'executing', 'stream', 'Sandra', 'Club', '*-157', '*EXP*-2', '445', 'suspend', 'frustrating', 'press', 'Annualized', 'tad', 'punishing', 'top-yielding', 'continuing', 'Anku', 'recruited', '*-82', 'charts', 'malignant', 'odds', 'missed', 'jeopardy', 'hire', 'Zuckerman', 'cabs', 'branches', 'leasing', 'near-limit', 'expect', 'Furukawa', 'Bund', 'cost-cutting', 'ire', 'Corton-Charlemagne', 'confines', '*-66', '133', 'outlawed', 'rooted', 'Workers', 'Kill', 'passport', 'soft', '*-96', 'Chinese-American', 'records', '40-megabyte', 'Laboratories', 'changing', '5,000', 'supporters', 'sparkplugs', 'deteriorating', 'dinosaurs', 'issue', 'Seats', 'principal', 'pinning', 'uncompensated', 'largest', 'Hermitage', 'expression', '*-17', 'propelling', '15,000', 'posters', 'younger', 'forthcoming', 'basis', 'substance', 'INQUIRY', 'market-based', 'logjam', 'OF', '960', 'manner', 'CORP', 'Confronted', 'instance', 'bases', 'vitally', 'reopen', 'funny', 'namely', 'Chinese', 'spot', 'thus', 'nine-member', 'needy', 'Islamabad', '34', 'shed', 'total', 'blacks', 'accept', 'HUD', 'CDC', 'nearly-30', 'viewpoint', 'crystal', '13.15', 'restrictions', 'concession', 'quitting', 'wine-making', 'Va.', 'billions', 'always', 'Banking', '1,500', 'expectation', 'softer', 'Arbitrage-related', 'Sumitomo', 'Woodrow', 'prototype', 'price', 'equity', 'one-upsmanship', 'routes', 'offenders', 'longest', 'taxation', 'Cluff', 'Neanderthals', 'intended', 'behest', 'Bermuda', 'La.', 'add', '6.7', 'excessively', 'Portugal', '*-64', 'Cosmopolitan', 'vowed', '353', 'incentive', 'October', 'Krenz', 'Issues', 'domestically', 'Nor', '*T*-65', 'upstate', 'violating', 'Northy', 'ca', 'sinister', 'Biedermann', 'brat', 'Policies', 'booklet', 'cycle', 'experts', 'to', 'indicating', 'midrange', 'guest', '1.39', 'foundations', 'blocked', 'exploded', 'Down', 'laughing', 'angered', 'backgrounds', 'rescheduled', 'surprised', 'falsify', 'coaching', '8.12', 'disturbing', 'come', 'foreigners', 'volume', 'East', 'Blanc', 'Las', 'Senate', 'Test-preparation', '*-31', 'white', 'northern', 'acne', 'manufacturers', '14.43', 'speculative', 'campaign', 'House-Senate', 'loans', 'Central', 'Country', '1973-75', 'enhances', 'Hymowitz', 'begot', 'handle', 'proportion', 'Open', 'fundamentalist', 'Gillespie', 'Attwood', 'accountants', 'tune', 'Terrace', '7.8', 'Woodward', 'disaffected', 'circulation', 'swiftly', 'dreamt', 'appreciation', 'giant', 'foods', 'global', 'worms', 'obviously', 'filling', '?', 'Lorain', 'Asians', 'fixed', 'vetoes', '47', 'regional', '1\\\\/4', 'ran', 'S.', 'pursue', 'impatient', 'Mellon', 'Syndicate', 'Use', 'leery', 'boy', 'cleared', 'Alstyne', 'pointing', 'bureaucratic', 'undercutting', 'pounds', 'Carson', '*T*-27', '434.4', 'PLO', '93,000', 'bedding', 'Corazon', 'steal', 'Jr.', 'Hugo', 'seat', '3', '38.875', 'portfolios', 'clues', 'preferences', 'city', 'shrinking', 'inquiring', 'inflated', 'others', 'barred', 'Council', 'cartilage', 'Parent', 'listeners', '*T*-205', 'constituent', 'retaliating', 'promotions', 'one-country', 'excise', 'grapes', 'Garry', '*-147', 'Mona', 'lab', 'falls', 'respected', '30,000', 'charges', 'Sony', '11,000', 'leaky', 'surrender', '45,000', 'Coast', 'accommodate', 'pro-Iranian', 'offender', 'Secretary', '25.50', 'formed', 'Italian', 'Westborough', 'help', '8', 'closed', 'situation', 'high-speed', 'borrowings', 'Taylor', 'good-faith', 'Programs', '4.9', 'settled', 'convicted', 'types', 'Smaby', '*-140', 'sweaters', 'researching', 'Andrew', 'photos', 'conglomerate', '175', 'betting', 'fate', '1', '*T*-142', 'mines', 'black', 'Warsaw', 'remained', 'damaged', 'reeling', 'studied', 'illegality', 'intend', 'refreshing', 'Newhouse', '12.52', '12.7', 'pioneer', 'prestigious', 'Philadelphia-based', '339', 'educated', 'River', 'overcome', 'repaid', 'Professors', 'Parliament', 'Strindberg', 'six-bottle', 'marketplace', '155', 'precious', 'Minnesota', 'verbatim', 'acre', 'Gov.', 'noncompetitively', 'restricts', 'blue', 'streets', 'Driskill', 'semiannual', 'soaring', 'signing', 'administrative', 'labor-intensive', 'Smith', 'aesthetic', 'five-point', 'decade', 'attempted', 'succeeds', 'bad', 'Quant', 'arbitragers', 'Patricia', 'possessions', 'touch', 'tension', 'drop', 'computerized', 'LYNCH', 'offices', 'new-car', 'collective-bargaining', 'like', '325,000', 'third-largest', 'contain', 'lengthened', 'causing', 'Frances', 'half-hour', 'receipt', 'Orrick', 'thumbs', 'restaurants', 'Sloan', 'amortization', 'carriers', 'crashing', 'serves', 'Metallgesellschaft', 'Eaton', 'defeats', 'Macmillan\\\\/McGraw-Hill', '1.5805', 'series', 'intraocular', '1983', 'serving', 'investigate', 'Devon', 'community', 'Salinas', 'Precious', '16,072', 'exodus', 'relatively', 'Wolf', 'learned', 'either', 'mobster', 'based', 'Even', 'Pate', 'wild', 'desperately', 'practiced', 'cranked', 'defined', 'Phillips', 'Sprint', 'roadblock', 'Renaissance-style', '*T*-123', 'cover', 'solvent', 'Intecknings', '1.82', '6.79', 'articles', 'invest', 'despised', 'Sanford', 'friction', 'Maine', 'Alvin', 'hour', 'Investment', 'Jerry', 'Watanabe', 'greatest', 'posted', 'Freud', 'hit', 'implemented', 'rolling', 'Comprehensive', 'knows', 'Danube', 'metals', 'indicated', '200', 'loom', '93', 'shaken', 'Puccio', 'performing', 'compensation', 'Behind', 'Brooklyn', 'apiece', 'pathlogy', '8.75', 'round', 'unsettling', 'prosecution', 'Scannell', 'authorizes', 'doors', 'serviced', 'termed', 'Reagan-Bush', 'disagreement', '2.375', 'dreamed', 'longer', 'Purchase', 'well-connected', 'sometimes', 'beer-belly', 'loyalty', 'retailing', 'Somerset', 'human', 'Odyssey', 'Shelby', 'belt', 'C-130', '*T*-191', 'Victor', 'collapsed', 'Circuit', 'die', 'So', 'lap-shoulder', 'structures', 'ballplayers', 'unfilled', 'arched', 'broadly', 'tete-a-tete', 'scrambled', 'reallocated', 'teetering', 'Rent-A-Car', 'fasteners', 'class', 'compares', 'housing', 'Scherer', 'symbol', 'Loewi', 'issues', '*EXP*-3', 'phobias', 'Am', '11,390,000', 'Olympic', 'wheels', 'pre-approved', 'elephant', 'pricings', 'Opinion', 'authors', 'payments', 'ceiling', 'diversified', 'Send', 'relations', 'Credit', 'Two', 'oversee', 'adequate', 'approached', 'prepare', 'readership', 'Vos', 'Engineers', 'technical', 'F.', 'Hazell', 'asbestosis', 'puzzled', 'Dale', 'classmates', 'conceding', '19.94', 'bend', 'milked', 'equity-purchase', 'properly', 'United', 'McGovern', 'clients', 'swings', 'agents', 'comfort', 'stepping', 'weeklies', 'Jovanovich', 'politics', 'Muscolina', 'Pattenden', '*-144', 'Hiroshima', 'initiative', 'dubbed', 'highly', 'Otero', 'folded', 'skipped', 'Pepperidge', 'through', 'reacted', 'Organization', 'visits', '*T*-249', 'propaganda', 'attract', \"'d\", 'fees', 'Fourth', 'bang', 'Siti', 'R.I.', 'necessarily', 'Perhaps', 'Marc', 'Boston', 'industrywide', 'appropriated', 'eyes', 'INTERPUBLIC', 'excessive', 'employees', 'desktop', 'Shores', '*T*-93', 'whole', 'disappears', 'barge', 'Legal', 'acted', 'spouse', 'arrested', 'Northern', 'interior', 'Rockford', 'dispute', 'casino', 'swift', 'collaborated', 'Proponents', 'Clinton', 'narcotics', 'Hopkins', 'stockholders', 'rebels', '*-151', 'Fountain', 'Mutchin', '534', 'copper-rich', 'lapses', 'replace', 'Ten', '16', 'Wakayama', 'Continuing', 'copycats', 'bounced', '4.6', 'balance', 'lenders', 'Generalized', 'demonstrating', '14.5', 'traveling', 'sharply', 'uncertainties', 'Partly', 'ovation', 'Dividend', 'parts-engineering', 'want', 'rest', 'Greer', 'Brent', 'pipeline', 'thinks', 'clerks', 'secretary', 'Examiner', 'networks', 'developing', 'SuperDot', 'Darrell', 'Care', 'families', 'a', 'Glauber', 'track', 'correct', 'Tourism', 'ounce', 'resign', 'Cincinnati', '8.07', 'budding', 'comfortably', 'blip', 'Majority', '*T*-230', '*T*-169', 'revenue-desperate', 'semicircular', 'views', 'original', 'dynamics', 'corridors', 'negotiable', 'trouble', 'Leap', 'academic', 'world', 'payable', 'altar', 'schoolteacher', 'harped', 'display', 'visible', 'poison', 'networking', 'Montedison', '1.26', 'orchestrated', 'round-trip', 'composed', 'IBC', 'deprivation', 'ailing', '72.7', 'lauded', 'tumultuous', 'amounts', 'statutory', 'Calif.-based', 'Whether', 'These', 'treats', 'inadequacy', 'suspension', 'installed', 'LOAN', 'registered', 'unique', 'Rate', 'framers', 'blue-collar', 'pipe', 'insidious', 'clearance', 'schools', 'Wilson', 'malnutrition', 'Patents', 'Tuscany', 'Walker', 'Cleveland', 'changed', 'scams', 'Carlos', 'cigarette', 'Little', 'finite', 'declined', 'leveraged', 'Academically', 'Holdings', 'day-to-day', '2.29', 'WAFA', 'Freeport-McMoRan', '350,000', 'possibility', 'Peck', 'watched', 'score', 'chatter', 'depending', 'observed', 'rapists', 'insiders', 'Putty', 'Bellows', 'enrollment', 'watchdogs', 'unwanted', 'Outside', '22.75', 'nutrition', 'educators', 'minute', 'Above', 'Union', 'Exxon-owned', 'season', 'compelling', 'craft', '85.1', 'day-care', 'sprightly', 'Foods', 'Fahrenheit', 'unload', 'drums', 'lotions', 'speedway', 'reasoning', 'bridges', 'Banks', 'patterns', 'reinstatement', '11.10', 'exhibited', 'purrs', '22\\\\/32', 'Henry', 'migrate', 'classes', '240', 'mistrials', 'manages', 'producing', 'LaSalle', 'stockbroker', 'parents', 'trained', 'recycled', '*T*-255', 'upbeat', '14.26', 'rebuked', 'fend', '145', 'one-yen', 'premier', 'anger', 'priced', '98.3', 'easily', 'bribery', 'corporate-wide', 'seek', 'downfall', 'parts', 'substitute', 'Francisco-based', 'creating', 'stimulated', 'quote', 'sponsors', 'proven', 'Perspective', 'measured', 'emphasis', 'breaker', 'Advocates', 'win', 'Wellington', 'I.', 'wrote', 'crippled', 'manually', 'six', 'cancers', 'dances', 'committee', 'N.J.-based', 'discrepancies', 'Common', 'discouraging', 'venerable', 'retractable', 'low', '*T*-146', 'Wayne', 'would', 'loyal', '*T*-70', 'spent', 'Appeals', '16.09', 'Corporate', 'Crane', '*-102', 'residential', 'Jersey-based', 'inspection', 'jumped', 'ad', 'famed', 'commission', 'ring', 'supercilious', 'Merchant', 'Johns', 'heating', 'dozens', 'tempts', 'Insight', 'Papua-New', 'tons', 'Georgia', 'forum', 'Crime', 'recession', 'Chase', 'initiating', '*T*-234', 'photographs', 'Cabbage', 'caution', 'welcomed', 'upscale', '*-80', 'family', 'unintelligible', 'you', 'persistent', 'taxable', 'Express', 'open', 'Phillip', 'propagandize', 'completeness', 'shape', 'Holding', 'devouring', 'puts', '113.2', 'Kondo', 'Texas', 'Barclays', 'Randolph', 'Marubeni', 'weakening', 'satisfactory', 'disciplined', '320', '0.16', 'then', '400', 'Monchecourt', 'says', 'long-tenured', 'Yields', 'justified', 'Regulatory', 'big-ticket', 'Disputado', 'Langner', 'trimmed', '3.9', 'computer-system-design', 'blessing', 'workplace', 'unanticipated', 'circuit', 'Index-arbitrage', '22', '138', 'worrying', 'untrue', 'Overseas', 'Pan', 'irony', 'risks', 'disaster-assistance', 'avoiding', 'Supportive', 'educational', '2.62', 'nomination', 'Brigham', '112.9', '-LRB-', 'grader', 'flashy', 'ingredients', 'Joel', 'pianist-comedian', '*T*-145', 'Consider', 'seasoned', 'denying', 'masters', '153.3', 'seasonal', 'volatile', 'Al', '*T*-238', 'Handelsbanken', 'famous', 'massive', 'imports', 'Opus', 'demonstrates', 'this', \"'ve\", 'judgment', '51.25', 'simulates', 'multi-crystal', '62.5', 'test-coaching', 'recommendation', '*T*-188', 'phasing', 'summoned', 'delayed', 'grim', 'retailers', 'unable', 'climb', '13.625', 'faultlessly', 'Secilia', 'Midwest', 'fired', 'arrive', 'Ian', 'suddenly', 'Stuart', 'removing', 'subskill', 'licensed', 'inching', 'shrug', 'Feniger', '*T*-190', 'single-digit', 'stock-market', '361,376', 'Finmeccanica', 'authorities', 'completing', 'tinker', 'Clive', 'paper', '0.82', 'Wozniak', 'backing', 'emotional', 'designations', 'undo', '4', '45-a-share', 'partially', 'ranks', 'mining', 'Hawaii', '*-19', 'senior', '1738.1', '50-state', '13.1', 'ample', 'slash', 'Peters', 'swallow', 'fairness', 'reaction', 'exercisable', 'owner', '110', 'Friends', 'direct-investment', 'automobile', 'concedes', 'GHKM', 'standards', 'prevent', 'Critics', 'Pentagon', 'options', 'SALT', 'S.p.A.', 'Rae', 'Fears', 'balkanized', 'unneeded', 'stock-manipulation', 'Lurie', 'diethylstilbestrol', 'gradually', 'despite', 'Brunei', 'Palmer', 'licenses', 'Raleigh', 'Developed', 'port', '1968', '8.56', 'Exxon', 'temptation', '*-57', 'stand', 'Occidental', 'posts', 'indeed', 'foundering', 'Consumer', 'appear', '6.53', 'sluggishness', 'lobbies', '*-50', 'interactions', '212', 'shirt-sleeved', 'coal', '*-106', 'answered', 'fainting', 'aired', 'Stevens', 'engaging', 'Oil', 'turn', '245', 'awaits', 'firms', 'cash-flow', 'redistributing', 'stored', 'acres', 'cell', 'richer', '*-156', 'something', 'interest-rate', 'investigations', 'Washington-based', 'counterweight', 'Bromwich', ':', 'acts', 'engineers', 'intelligence', 'may', 'bellwether', '*-124', 'Nelms', 'tort', 'presidents', 'mid-1990s', 'Interleukin-3', 'Wong', 'breaking', 'interviewed', 'presumes', 'novel', 'OK', '*-34', 'Ratners', 'caretaker', 'Earns', 'vendors', 'architect', 'reds', 'faith', 'broken', 'effective', 'ancillary', 'showings', 'liquidity', 'waive', 'Marie', 'delays', 'hundred', 'made', 'Pretax', 'tissues', 'pall', 'Bretz', 'Riviera', 'La', 'Fulbright', 'Bradley', 'World', '143.93', 'ORTEGA', 'Evidence', 'Fails', 'mega-stadium', 'anti-takeover', 'tallies', 'functions', 'scrutiny', '132.9', 'CLEARS', 'outrageous', 'physical', 'sweaty', '*-13', 'Options', 'stretch', 'purpose', 'Catch-22', 'resilient', 'shaping', 'yes', 'solicitation', 'column', 'dead-eyed', 'Virginia', 'MITI', 'Mae', 'south', 'Milwaukee', 'peals', 'direct-mail', '1.61', 'cable', 'saw', '92', 'telephone-information', 'proposal', 'one-month', 'Kent', 'Kodansha', 'insurer', 'allies', '*-14', 'Consequence', 'joins', 'exclusion', 'manufacturing', 'sidewalk', 'groups', 'Bob', 'ushers', 'Cristal', 'fed', 'Jihad', 'cast', 'anticipation', 'questionable', 'shops', 'Switzerland', 'training-wage', 'continued', 'blamed', 'adjusted', 'Judging', 'necessities', 'philosophy', 'Correll', 'soon', 'varying', 'genie', 'chunks', 'rich', 'holding', 'Doerflinger', '100,000', '87.5', '*T*-198', 'withstand', 'Beverly', 'GHS', 'Du', 'Macmillan', 'effect', '*T*-149', 'allocated', 'pharmaceutical', 'infectious', 'Lawless', '*T*-43', 'presidency', '12-point', 'school-district', 'shedding', 'by', 'Longer', 'convenient', 'recommending', 'Avrett', 'victim', '13.8', 'protocols', 'curbing', 'leading', 'sparking', 'suit', 'Schlemmer', 'posting', 'municipalities', 'thirtysomething', 'lending', 'G', 'awards', 'discussion', 'Parents', 'Hackensack', 'crocidolite', 'mere', 'when-issued', '57.7', 'Team', 'media', 'ripen', 'bureaucracy', 'less-serious', 'mania', 'rim', 'high-rate', 'companion', 'developed', 'insurance', 'princely', 'Anti-Deficiency', 'estimates', 'Exchange', 'baskets', 'Boca', 'hither', 'surviving', 'extramarital', 'repay', 'Paramount', 'tired', 'money-fund', 'hypocrisy', 'applicability', 'buyer', 'Black', 'Bank', 'endless', 'Hudnut', 'industrialized', 'Lure', 'Researchers', 'far', 'if', 'recover', 'deluge', 'constantly', '45', 'hugging', 'but', 'premium', 'automotive-parts', 'retort', 'changes', '*T*-38', '*T*-161', 'objectives', 'polyproplene', 'law', 'reprint', 'breathtaking', 'Carballo', 'Hadson', 'promising', '800', 'Army', 'classic', 'Deborah', '*-25', 'curse', 'preventative', 'sparked', 'Rockefeller', 'capitalized', 'focused', 'kindergarten', 'Craftsmen', 'spinoff', 'broadcasts', 'Gates-Warren', 'Roosevelt', 'angry', 'housing-assistance', '*T*-83', 'unpublished', 'constitutional', 'perpetual', '1.19', 'Scott', 'firmly', 'Citicorp', 'volunteer', 'Bolduc', '236.74', 'Drexel', 'sterling', 'reinvestment', 'Zaharah', 'Thai', 'Harry', 'benchmark', 'alleviate', 'whether', 'breathed', 'unveiled', 'outbid', 'quantitative', 'Guaranteed', 'rebuffed', 'participants', 'non-farm', 'Major', 'acute', 'membership', '*T*-112', 'worthy', '*-142', 'sounded', 'Crown', 'got', 'NEC', '72', 'Bodner', 'PAP', '41', 'cent', 'peculiarities', 'holdings', 'pill', '*T*-17', 'Stung', 'particularly', 'expenses', 'J.', 'Jennison', '2.19', 'Mead', 'potentially', 'classroom', '*-116', 'Impact', 'Wu', 'qualify', '*T*-75', '300-day', '188', 'fined', 'moving', 'Rotie', 'anti-abortion', 'reruns', 'sympathy', 'Machines', 'Asked', 'afternoon', 'Backseat', 'talk-show', 'markkaa', 'futures-related', 'conversion', 'reaping', 'Isabelle', 'disparate', 'decay', '386', '--', 'Plantation', 'equaling', 'issued', 'Root', 'enabling', 'wherewithal', 'C.D.s', 'muster', 'rallying', '512', 'pressed', '1991-2000', 'powerhouse', 'wrestling', 'proviso', 'ABA', '*-45', 'Compromises', 'Explorer', 'surely', 'inched', 'Labor', 'Tandy', 'Samuel', 'fast', 'wooing', '*T*-251', 'Mercury', 'seeks', 'NEW', 'Underwood', 'frankly', 'Cellar', 'Olsen', 'target', 'fraction', 'questioned', 'cutting', '*T*-87', 'Williams', 'petulant', 'Amendment', 'governors', 'Orville', 'nearly', 'arguments', 'seeking', 'Metal', 'bidding', 'consider', 'Cerf', 'Cellars', 'payouts', 'forest-products', '1.20', 'judge', 'wholesale', 'former', 'diversionary', 'loading', '220.45', 'purchase', 'Too', 'Ports', 'strike', 'RATES', 'Services', 'But', 'specific', '14,821', 'giveaways', 'LONDON', 'Ordnance', 'evening', 'anxieties', 'Groton', 'candidates', 'accrued', 'argue', 'SWITCHING', 'Trotter', 'dollar-denominated', 'ingenuity', 'mindful', '80.50', 'crook', 'toy', 'faces', 'yellow', 'years', 'taxpayers', 'echoed', 'one-newspaper', 'star', 'Preferences', '576', 'setback', 'nominated', '3.55', 'circumstances', 'liable', 'seats', 'gallium', '10-day', 'Baldwin', 'expense', 'U.S.-backed', 'falling', 'technically', 'expanded', 'bulk', 'Dynamics', 'civics', 'backlog', 'Occupational', 'Townes', 'Europe', 'normally', 'postponed', 'Leigh', 'Kelli', 'assets', '*T*-201', 'Jonas', '49', 'hole', 'materialistic', '26.5', 'picket', 'Monday', 'central', 'one-hour', 'narrowed', 'additions', 'aiming', 'Claire', 'exempt', 'den', 'left', 'compete', 'Sasaki', 'various', 'loser', 'worked', 'barrels', 'antitrust', 'goodies', '*-126', 'traded', 'Jersey', 'prohibited', 'Traverse', 'themselves', 'her', 'Areas', '1.50', 'strong', 'father', 'Nonetheless', 'bickering', '450', 'moons', 'obligation', 'critics', 'Federation', 'legislature', 'mesothelioma', 'sliding', 'close-up', 'centerpiece', 'Confederation', 'Sweden', 'collected', 'our', 'industry-wide', 'cease-fire', 'abuzz', 'trials', 'Close', 'medicine', 'Now', 'perhaps', 'lock', 'thing', 'August', 'hypothetical', 'FOREIGN', 'stockpiles', 'Steel', 'read', 'Knopf', 'Mariotta', 'relegated', 'Soups', 'accusing', 'L.', 'appetite', 'documents', 'amount', 'specialist', 'comments', \"'S\", '*T*-33', '9,118', 'Civil', 'youngsters', 'shipped', 'evoke', 'compressed', 'handled', 'rulers', '8.47', 'mention', 'Vinken', 'lowered', 'disposal', 'objectionable', 'Upham', 'requirement', 'Nederlanden', 'weaker', 'lesson', 'guarantee', '*-159', 'prompts', 'analyst', '``', 'underlying', 'Ogilvy', 'System', 'Pamplin', 'exception', 'Neither', 'cuts', 'Gold', 'Intermediate', 'under', 'mating', 'Uptick', 'Motor', 'diplomacy', 'reject', 'passed', 'agenda', 'two', 'hegemony', '753', 'Report', 'lynch-mob', 'imagine', 'cities', 'guests', 'even', 'PORTING', 'agency', 'Domaine', 'galling', 'climate', 'sensation', 'Merc', 'Whelen', 'Having', 'Yasser', 'inoperative', 'sometimes-tawdry', 'Financially', 'Budget', 'recent', 'Encouraging', 'regarding', 'prevents', 'perpetuate', '154,240,000', 'IOUs', 'weaken', 'Named', 'kinds', 'finest', 'Miami', '263.07', '*T*-173', 'national', 'besuboru', '107.03', 'Deane', 'Scholastic', 'morale', '890', 'Rita', 'bat', 'casting', 'guild', 'advent', 'art', '350', 'Chrysler', 'sight', 'Foot', 'Acquisition', 'fringe', 'Inouye', 'financially', 'raspberry', 'H.', 'share', 'stressing', 'Orleans', 'injury', 'bringing', 'commodities', 'Missouri', 'Unless', 'applied', 'cigarettes', 'Earlier', 'creams', 'baseball', 'exploit', 'Nissho-Iwai', 'acting', 'Sales', 'Anne', 'pound', 'Grain', 'physicist', 'auditor', 'Rankin', 'opportunities', 'ask', 'Pennsylvania', '300,000', '14.13', 'stoppage', 'golden', 'Nev.', 'Image', 'package', 'TRANSPLANT', 'interjects', 'agreed-upon', 'Lewis', '847', 'rendering', 'Publishing', 'Barnett', 'Grange', 'Dingell', 'censorship', 'R.P.', 'Colony', 'bottlenecks', '144', 'hostile', 'Integra', 'color', '18-a-share', 'certainly', 'referenda', 'Macheski', \"'30s\", '*T*-152', 'denial', 'Brooke', 'Christian', 'undertone', 'less-than-brilliant', '3,040,000', 'Bowl', 'innovation', 'doctorate', 'symptoms', '12.5', 'favorably', '190', 'deny', 'waters', 'Foundation', 'tree', 'recalls', 'mid-October', 'Esso', 'renew', 'Goodman', 'thugs', 'on-campus', 'prosecuting', 'This', 'commissions', 'floor', 'Micronite', 'worse', 'billed', 'copy', 'fact', 'production', 'curb', 'neither', '1991', 'Ralston', 'Poland', 'Premier', 'fat', 'combine', 'photocopying', 'outnumbered', 'steelmaker', 'Grand', '6.20', 'injuries', 'February', 'Hanover', 'unwind', 'Rubinfien', 'segmenting', 'Avon', 'somehow', 'addiction', 'EURODOLLARS', 'congressmen', 'fields', 'Stockholm', 'gut', 'Minneapolis', 'view', 'gave', 'contrast', '13\\\\/16', 'addressing', '*T*-84', 'completed', 'extending', 'All', 'Officials', '*T*-119', 'Hammerton', 'unemployment', 'disease', 'develop', 'Yet', 'Democratic', 'located', 'comeback', 'leaving', 'Photography', 'reality', 'varied', 'A.C.', 'formula', 'valued', 'yearly', 'paint', 'guaranteed', 'apologizing', 'fighters', '...', 'knell', 'contingent', 'procedure', 'full', 'asking', 'sidelines', 'dumped', 'cash-rich', 'lighter', 'coverage', 'Aptitude', 'And', 'Paul', 'reports', 'wafers', 'nominees', 'house', 'Hans', 'bankruptcy', '60,000', 'low-ability', 'prohibits', 'regulating', 'equities', '5', 'tumbled', 'associates', 'thought', 'novelist', 'appliances', 'gilt', '1996', 'responding', 'modification', 'Brown', 'negotiator', 'cue', '3:15', '*T*-197', 'Can', 'premises', 'tools', 'disposables', 'In', 'weakness', 'Kaminski', 'contractors', 'tradition', 'Motors', 'signifying', 'damn', 'nonfat', 'assembly', 'adjusting', 'stick', 'free-enterprise', 'redistribute', 'soldiers', 'Fed', 'Don', 'Butler', 'spreads', 'Derchin', 'Jobs', 'RBC', 'copper', 'economy', 'one-house', 'inform', 'scrounge', 'collapse', 'myriad', 'sweat', 'mainly', 'dirty', 'Thailand', 'amusing', 'points', 'felony', 'cope', 'fail', 'contemporary', 'fashioned', 'Internatonal', 'espouse', 'Mississippi', 'cost-control', 'Susan', 'neighbors', 'Jerritts', 'added', 'evolve', 'placement', 'retail', '6.44', 'holders', 'Savings', 'resistant', 'represents', 'sides', 'E.W.', 'confidant', '59-year-old', '9.82', 'administer', 'Schmidt', 'Vargas', 'SOYBEANS', 'Orleans-based', 'duly', 'Hampshire', 'materials', 'Gunmen', 'directorship', 'agricultural', 'directly', 'along', 'best', 'cite', 'Frankfurt', 'commanded', 'minor', 'deteriorated', 'stereo', 'spun', 'mignon', 'Wilfred', 'shipboard', 'collar', 'Wadsworth', 'Transamerica', 'dialogue', '16.5', 'bitterness', 'officially', 'takings', 'sectors', 'widespread', 'scoffs', 'noticed', 'buckle', 'vow', 'Inc.', 'entrusted', '150-point', 'injecting', 'physics', 'freeway', 'geometrical', 'unitary', 'J.L.', 'tall', 'write-off', 'rang', 'towns', 'quite', 'fifth', 'underprivileged', '85', '57', '*-99', 'powerful', '13.65', 'renewal', 'organized', 'Prudential-Bache', 'ethics', 'brakes', 'visiting', 'clippings', 'succeeded', 'kilobytes', 'Riyadh', 'Trans', 'had', '*T*-71', 'mired', 'Lyn', 'U.N.-supervised', '1990-91', 'burlap', 'seem', 'mixed', 'cleanup', 'distribution', 'economist', '3.28', '2.47', 'traditional', 'arranged', 'uttering', 'four-day', 'test-drive', '1,050,000', 'fueled', 'came', 'Pinocchio', 'election', 'Constitution', '75', '*T*-46', 'Duchossois', 'test-preparation', 'co-founded', 'allegations', 'Richard', 'cohesive', 'stacking', 'CS', 'confidential', 'headed', 'immediate', 'curbed', 'fluctuations', 'attracts', 'automated', 'precedes', 'turning', '*RNR*-2', 'more-advanced', 'Nationale', 'quickly', 'eases', 'names', 'beaten', 'Retail', 'junk', 'chooses', 'slides', 'priority', 'pre-emptive', 'launch', 'W.R.', '80', 'sweet', 'travel-related', 'Pennview', 'priciest', 'Maughan', 'statement', 'closed-end', 'Murakami', 'prompted', 'differently', 'Ark', 'competitive', 'operated', 'USIA', 'notably', 'Synergistics', '*T*-204', 'Growth', 'Nippon', 'leapt', 'disconnect', '361.8', 'loose', 'Satrum', 'Earlham', 'rear', 'conferees', '95,142', 'trip', 'General', 'advisory', '25.6', '64.5', 'over', 'kidnapper', 'emigrate', 'weigh', 'powers', 'segment', 'skyrocketed', 'techniques', 'pains', 'automotive-lighting', 'syndicate', 'attorneys', 'longtime', 'brain', 'influential', 'downtown', 'promptly', '1.1650', 'incredible', 'Improvement', 'smooth', 'what', 'Roman', 'anticipating', 'precise', 'bass', 'traditionally', 'meals', 'pollution', '3,288,453', 'consumer', 'Hollis', 'aids', 'Skinner', 'marrow', 'uncomplaining', 'clouding', 'alcoholics', 'Each', 'mortgages', 'terms', 'enclosed', 'advice', '195', 'reading', 'Z.', 'prize-fighter', 'whom', 'viewership', 'crucial', 'seriously', 'spread', 'predicts', 'renovated', 'roughhewn', 'jail', 'Pretoria', 'argument', 'rear-seat', '64', 'dummies', 'kill', 'wage', 'represent', '*T*-129', 'windfall', '*T*-116', 'forgiven', 'extended', '-LCB-', 'student-test', 'tilt', 'Rust', 'first', 'capped', 'Beirut', 'sorting', 'publisher', 'Old', 'Prime', 'issuing', '*-117', 'COPPER', 'draw', 'surveyed', '*T*-18', 'card', 'modernization', 'separate', 'self-aggrandizing', 'provision', 'BALLOT', '20', 'Edge', 'bring', 'pegged', 'computer-driven', 'hostage', 'Development', '37.5', '10-year', '*T*-124', 'has', 'Inventor', 'upturn', 'truthful', 'MORTGAGE', 'genes', 'practices', 'War', 'Ministry', 'fixed-rate', 'exposure', 'Although', '917', 'market-makers', 'complaint', 'tackle', 'greenmailer', 'stripped', 'Long-term', 'rarefied', 'Millis', 'brokering', 'status', 'severable', 'ever', 'boost', 'race', '*-137', 'Fe', 'Closes', 'Drug', 'faculty', 'emissions', '3.625', 'winners', 'smallest', 'replicated', 'ushering', 'between', 'graduated', 'Legislating', 'Legg', 'Jay', '26.8', 'steeper', 'vicar', 'waiting', 'inherited', '*-30', 'write', 'ritual', 'manpower', 'designer', 'Wilton', 'park', 'Nov.', 'Finance', 'export-oriented', 'awarding', 'veteran', 'totaled', '374.19', 'cluster', 'fiber', 'attempting', 'Waterloo', 'scattered', 'shall', 'was', 'slab', '*T*-105', 'refund', 'shame', 'Part', 'actions', 'catch-up', 'dean'}\n"
     ]
    }
   ],
   "source": [
    "# check the number of words in the training set\n",
    "words = {i for i, j in train_tag}\n",
    "print(words)"
   ]
  },
  {
   "cell_type": "code",
   "execution_count": 173,
   "metadata": {},
   "outputs": [
    {
     "name": "stdout",
     "output_type": "stream",
     "text": [
      "12100\n"
     ]
    }
   ],
   "source": [
    "print(len(words))"
   ]
  },
  {
   "cell_type": "code",
   "execution_count": 174,
   "metadata": {},
   "outputs": [
    {
     "name": "stdout",
     "output_type": "stream",
     "text": [
      "12\n"
     ]
    }
   ],
   "source": [
    "# check the number of unique tags in training\n",
    "unique_tags = {j for i,j in train_tag}\n",
    "print(len(unique_tags))"
   ]
  },
  {
   "cell_type": "code",
   "execution_count": 175,
   "metadata": {},
   "outputs": [
    {
     "name": "stdout",
     "output_type": "stream",
     "text": [
      "{'PRON', 'ADV', 'ADP', 'NUM', 'CONJ', 'DET', 'ADJ', 'PRT', 'NOUN', 'VERB', '.', 'X'}\n"
     ]
    }
   ],
   "source": [
    "print(unique_tags)"
   ]
  },
  {
   "cell_type": "code",
   "execution_count": 176,
   "metadata": {},
   "outputs": [
    {
     "data": {
      "text/plain": [
       "['Reliance',\n",
       " 'confirmed',\n",
       " 'the',\n",
       " 'filing',\n",
       " 'but',\n",
       " 'would',\n",
       " \"n't\",\n",
       " 'elaborate',\n",
       " '.',\n",
       " '*']"
      ]
     },
     "execution_count": 176,
     "metadata": {},
     "output_type": "execute_result"
    }
   ],
   "source": [
    "# tokens - (from the lecture videos)\n",
    "tokens = [pair[0] for pair in train_tag]\n",
    "tokens[:10]"
   ]
  },
  {
   "cell_type": "code",
   "execution_count": 177,
   "metadata": {},
   "outputs": [
    {
     "name": "stdout",
     "output_type": "stream",
     "text": [
      "12100\n"
     ]
    }
   ],
   "source": [
    "# vocabulary\n",
    "V = set(tokens)\n",
    "print(len(V))"
   ]
  },
  {
   "cell_type": "code",
   "execution_count": 178,
   "metadata": {},
   "outputs": [
    {
     "name": "stdout",
     "output_type": "stream",
     "text": [
      "12\n"
     ]
    }
   ],
   "source": [
    "T = set([pair[1] for pair in train_tag])\n",
    "print(len(T))"
   ]
  },
  {
   "cell_type": "code",
   "execution_count": 179,
   "metadata": {},
   "outputs": [
    {
     "name": "stdout",
     "output_type": "stream",
     "text": [
      "{'PRON', 'ADV', 'ADP', 'NUM', 'CONJ', 'DET', 'ADJ', 'PRT', 'NOUN', 'VERB', '.', 'X'}\n"
     ]
    }
   ],
   "source": [
    "print(T)"
   ]
  },
  {
   "cell_type": "code",
   "execution_count": 180,
   "metadata": {},
   "outputs": [],
   "source": [
    "# computing P(w/t) and sotring in T x V matrix (from the video lectures)\n",
    "t = len(T)\n",
    "v = len(V)\n",
    "w_given_t = np.zeros((t, v))"
   ]
  },
  {
   "cell_type": "code",
   "execution_count": 181,
   "metadata": {},
   "outputs": [],
   "source": [
    "# compute word given tag: Emission Probability (from the video lectures)\n",
    "def word_given_tag(word, tag, train_bag = train_tag):\n",
    "    tag_list = [pair for pair in train_bag if pair[1]==tag]\n",
    "    count_tag = len(tag_list)\n",
    "    w_given_tag_list = [pair[0] for pair in tag_list if pair[0]==word]\n",
    "    count_w_given_tag = len(w_given_tag_list)\n",
    "    \n",
    "    return (count_w_given_tag, count_tag)"
   ]
  },
  {
   "cell_type": "code",
   "execution_count": 182,
   "metadata": {},
   "outputs": [
    {
     "name": "stdout",
     "output_type": "stream",
     "text": [
      "\n",
      " large\n",
      "(28, 6069)\n",
      "(0, 12910)\n",
      "(0, 27352) \n",
      "\n",
      "\n",
      " will\n",
      "(272, 12910)\n",
      "(1, 27352)\n",
      "\n",
      " book\n",
      "(7, 27352)\n",
      "(1, 12910)\n"
     ]
    }
   ],
   "source": [
    "# examples\n",
    "\n",
    "# large\n",
    "print(\"\\n\", \"large\")\n",
    "print(word_given_tag('large', 'ADJ'))\n",
    "print(word_given_tag('large', 'VERB'))\n",
    "print(word_given_tag('large', 'NOUN'), \"\\n\")\n",
    "\n",
    "# will\n",
    "print(\"\\n\", \"will\")\n",
    "print(word_given_tag('will', 'VERB'))\n",
    "print(word_given_tag('will', 'NOUN'))\n",
    "\n",
    "# book\n",
    "print(\"\\n\", \"book\")\n",
    "print(word_given_tag('book', 'NOUN'))\n",
    "print(word_given_tag('book', 'VERB'))\n"
   ]
  },
  {
   "cell_type": "markdown",
   "metadata": {},
   "source": [
    "### Transition Probabilities"
   ]
  },
  {
   "cell_type": "code",
   "execution_count": 183,
   "metadata": {},
   "outputs": [],
   "source": [
    "#compute tag given tag: tag2(t2) given tag1 (t1), i.e. Transition Probability (source: video lectures)\n",
    "\n",
    "def t2_given_t1(t2, t1, train_bag = train_tag):\n",
    "    tags = [pair[1] for pair in train_bag]\n",
    "    count_t1 = len([t for t in tags if t==t1])\n",
    "    count_t2_t1 = 0\n",
    "    for index in range(len(tags)-1):\n",
    "        if tags[index]==t1 and tags[index+1] == t2:\n",
    "            count_t2_t1 += 1\n",
    "    return (count_t2_t1, count_t1)"
   ]
  },
  {
   "cell_type": "code",
   "execution_count": 184,
   "metadata": {},
   "outputs": [
    {
     "name": "stdout",
     "output_type": "stream",
     "text": [
      "(4246, 6069)\n",
      "(5284, 8281)\n",
      "(1421, 12910)\n",
      "(6581, 27352)\n",
      "(4039, 27352)\n"
     ]
    }
   ],
   "source": [
    "# examples\n",
    "print(t2_given_t1(t2='NOUN', t1='ADJ'))\n",
    "print(t2_given_t1('NOUN', 'DET'))\n",
    "print(t2_given_t1('NOUN', 'VERB'))\n",
    "print(t2_given_t1('.', 'NOUN'))\n",
    "print(t2_given_t1('VERB', 'NOUN'))"
   ]
  },
  {
   "cell_type": "code",
   "execution_count": 185,
   "metadata": {},
   "outputs": [
    {
     "name": "stdout",
     "output_type": "stream",
     "text": [
      "(1928, 11123)\n",
      "(991, 11123)\n",
      "(2472, 11123)\n"
     ]
    }
   ],
   "source": [
    "#Please note P(tag|start) is same as P(tag|'.') (source: video lectures)\n",
    "print(t2_given_t1('DET', '.'))\n",
    "print(t2_given_t1('VERB', '.'))\n",
    "print(t2_given_t1('NOUN', '.'))"
   ]
  },
  {
   "cell_type": "code",
   "execution_count": 186,
   "metadata": {},
   "outputs": [
    {
     "data": {
      "text/plain": [
       "array([[7.65696773e-03, 3.40735056e-02, 2.29709037e-02, 6.50842255e-03,\n",
       "        5.35987737e-03, 9.95405857e-03, 7.31240436e-02, 1.30168451e-02,\n",
       "        2.10949466e-01, 4.85451758e-01, 4.09647785e-02, 8.99693742e-02],\n",
       "       [1.49055980e-02, 8.04902315e-02, 1.18582316e-01, 3.04736663e-02,\n",
       "        6.95594586e-03, 6.98906928e-02, 1.29181847e-01, 1.42431268e-02,\n",
       "        3.14673744e-02, 3.43491226e-01, 1.37131497e-01, 2.31864862e-02],\n",
       "       [7.00310096e-02, 1.40062012e-02, 1.68929752e-02, 6.22260235e-02,\n",
       "        9.62258084e-04, 3.24708641e-01, 1.07024483e-01, 1.38992839e-03,\n",
       "        3.20966542e-01, 8.33956990e-03, 3.90249118e-02, 3.44274566e-02],\n",
       "       [1.48898154e-03, 2.97796307e-03, 3.60333547e-02, 1.84931502e-01,\n",
       "        1.36986300e-02, 3.27575929e-03, 3.42465751e-02, 2.65038721e-02,\n",
       "        3.50208461e-01, 1.87611673e-02, 1.17331743e-01, 2.10541993e-01],\n",
       "       [5.81125058e-02, 5.53231053e-02, 5.25337048e-02, 3.99814025e-02,\n",
       "        4.64900048e-04, 1.21338911e-01, 1.18084610e-01, 4.64900024e-03,\n",
       "        3.49139929e-01, 1.56671315e-01, 3.48675027e-02, 8.83310102e-03],\n",
       "       [3.74350930e-03, 1.24381110e-02, 9.53991059e-03, 2.22195387e-02,\n",
       "        4.83033451e-04, 5.67564322e-03, 2.04323143e-01, 2.41516726e-04,\n",
       "        6.38087213e-01, 3.98502611e-02, 1.79929957e-02, 4.54051457e-02],\n",
       "       [3.29543574e-04, 4.77838190e-03, 7.82665983e-02, 2.12555602e-02,\n",
       "        1.69714950e-02, 4.94315382e-03, 6.64030313e-02, 1.07101668e-02,\n",
       "        6.99621022e-01, 1.16987973e-02, 6.39314577e-02, 2.10907888e-02],\n",
       "       [1.77924223e-02, 1.02141676e-02, 2.00988464e-02, 5.66721596e-02,\n",
       "        2.30642501e-03, 9.78583172e-02, 8.30313042e-02, 1.64744642e-03,\n",
       "        2.47775942e-01, 4.05271828e-01, 4.38220762e-02, 1.35090612e-02],\n",
       "       [4.60661016e-03, 1.70737058e-02, 1.76513597e-01, 9.54226404e-03,\n",
       "        4.26659845e-02, 1.29423812e-02, 1.22477328e-02, 4.33971919e-02,\n",
       "        2.63563901e-01, 1.47667453e-01, 2.40603983e-01, 2.91751977e-02],\n",
       "       [3.57862115e-02, 8.19519758e-02, 9.20216888e-02, 2.28505041e-02,\n",
       "        5.57707204e-03, 1.34391949e-01, 6.49883822e-02, 3.06738969e-02,\n",
       "        1.10069714e-01, 1.69248641e-01, 3.49341594e-02, 2.17505813e-01],\n",
       "       [6.63490072e-02, 5.23240119e-02, 9.13422629e-02, 8.10033232e-02,\n",
       "        5.75384349e-02, 1.73334539e-01, 4.39629592e-02, 2.42740265e-03,\n",
       "        2.22242206e-01, 8.90946686e-02, 9.33201462e-02, 2.69711409e-02],\n",
       "       [5.55378757e-02, 2.49840859e-02, 1.42584339e-01, 2.86441762e-03,\n",
       "        1.06619988e-02, 5.47422022e-02, 1.71865057e-02, 1.85232341e-01,\n",
       "        6.23806491e-02, 2.03851044e-01, 1.63590074e-01, 7.63844699e-02]],\n",
       "      dtype=float32)"
      ]
     },
     "execution_count": 186,
     "metadata": {},
     "output_type": "execute_result"
    }
   ],
   "source": [
    "# creating t x t transition matrix of tags\n",
    "# each column is t2, each row is t1\n",
    "# thus M(i, j) represents P(tj given ti)\n",
    "\n",
    "tags_matrix = np.zeros((len(T), len(T)), dtype='float32')\n",
    "for i, t1 in enumerate(list(T)):\n",
    "    for j, t2 in enumerate(list(T)): \n",
    "        tags_matrix[i, j] = t2_given_t1(t2, t1)[0]/t2_given_t1(t2, t1)[1]\n",
    "\n",
    "tags_matrix"
   ]
  },
  {
   "cell_type": "code",
   "execution_count": 187,
   "metadata": {},
   "outputs": [
    {
     "data": {
      "text/html": [
       "<div>\n",
       "<style scoped>\n",
       "    .dataframe tbody tr th:only-of-type {\n",
       "        vertical-align: middle;\n",
       "    }\n",
       "\n",
       "    .dataframe tbody tr th {\n",
       "        vertical-align: top;\n",
       "    }\n",
       "\n",
       "    .dataframe thead th {\n",
       "        text-align: right;\n",
       "    }\n",
       "</style>\n",
       "<table border=\"1\" class=\"dataframe\">\n",
       "  <thead>\n",
       "    <tr style=\"text-align: right;\">\n",
       "      <th></th>\n",
       "      <th>PRON</th>\n",
       "      <th>ADV</th>\n",
       "      <th>ADP</th>\n",
       "      <th>NUM</th>\n",
       "      <th>CONJ</th>\n",
       "      <th>DET</th>\n",
       "      <th>ADJ</th>\n",
       "      <th>PRT</th>\n",
       "      <th>NOUN</th>\n",
       "      <th>VERB</th>\n",
       "      <th>.</th>\n",
       "      <th>X</th>\n",
       "    </tr>\n",
       "  </thead>\n",
       "  <tbody>\n",
       "    <tr>\n",
       "      <th>PRON</th>\n",
       "      <td>0.007657</td>\n",
       "      <td>0.034074</td>\n",
       "      <td>0.022971</td>\n",
       "      <td>0.006508</td>\n",
       "      <td>0.005360</td>\n",
       "      <td>0.009954</td>\n",
       "      <td>0.073124</td>\n",
       "      <td>0.013017</td>\n",
       "      <td>0.210949</td>\n",
       "      <td>0.485452</td>\n",
       "      <td>0.040965</td>\n",
       "      <td>0.089969</td>\n",
       "    </tr>\n",
       "    <tr>\n",
       "      <th>ADV</th>\n",
       "      <td>0.014906</td>\n",
       "      <td>0.080490</td>\n",
       "      <td>0.118582</td>\n",
       "      <td>0.030474</td>\n",
       "      <td>0.006956</td>\n",
       "      <td>0.069891</td>\n",
       "      <td>0.129182</td>\n",
       "      <td>0.014243</td>\n",
       "      <td>0.031467</td>\n",
       "      <td>0.343491</td>\n",
       "      <td>0.137131</td>\n",
       "      <td>0.023186</td>\n",
       "    </tr>\n",
       "    <tr>\n",
       "      <th>ADP</th>\n",
       "      <td>0.070031</td>\n",
       "      <td>0.014006</td>\n",
       "      <td>0.016893</td>\n",
       "      <td>0.062226</td>\n",
       "      <td>0.000962</td>\n",
       "      <td>0.324709</td>\n",
       "      <td>0.107024</td>\n",
       "      <td>0.001390</td>\n",
       "      <td>0.320967</td>\n",
       "      <td>0.008340</td>\n",
       "      <td>0.039025</td>\n",
       "      <td>0.034427</td>\n",
       "    </tr>\n",
       "    <tr>\n",
       "      <th>NUM</th>\n",
       "      <td>0.001489</td>\n",
       "      <td>0.002978</td>\n",
       "      <td>0.036033</td>\n",
       "      <td>0.184932</td>\n",
       "      <td>0.013699</td>\n",
       "      <td>0.003276</td>\n",
       "      <td>0.034247</td>\n",
       "      <td>0.026504</td>\n",
       "      <td>0.350208</td>\n",
       "      <td>0.018761</td>\n",
       "      <td>0.117332</td>\n",
       "      <td>0.210542</td>\n",
       "    </tr>\n",
       "    <tr>\n",
       "      <th>CONJ</th>\n",
       "      <td>0.058113</td>\n",
       "      <td>0.055323</td>\n",
       "      <td>0.052534</td>\n",
       "      <td>0.039981</td>\n",
       "      <td>0.000465</td>\n",
       "      <td>0.121339</td>\n",
       "      <td>0.118085</td>\n",
       "      <td>0.004649</td>\n",
       "      <td>0.349140</td>\n",
       "      <td>0.156671</td>\n",
       "      <td>0.034868</td>\n",
       "      <td>0.008833</td>\n",
       "    </tr>\n",
       "    <tr>\n",
       "      <th>DET</th>\n",
       "      <td>0.003744</td>\n",
       "      <td>0.012438</td>\n",
       "      <td>0.009540</td>\n",
       "      <td>0.022220</td>\n",
       "      <td>0.000483</td>\n",
       "      <td>0.005676</td>\n",
       "      <td>0.204323</td>\n",
       "      <td>0.000242</td>\n",
       "      <td>0.638087</td>\n",
       "      <td>0.039850</td>\n",
       "      <td>0.017993</td>\n",
       "      <td>0.045405</td>\n",
       "    </tr>\n",
       "    <tr>\n",
       "      <th>ADJ</th>\n",
       "      <td>0.000330</td>\n",
       "      <td>0.004778</td>\n",
       "      <td>0.078267</td>\n",
       "      <td>0.021256</td>\n",
       "      <td>0.016971</td>\n",
       "      <td>0.004943</td>\n",
       "      <td>0.066403</td>\n",
       "      <td>0.010710</td>\n",
       "      <td>0.699621</td>\n",
       "      <td>0.011699</td>\n",
       "      <td>0.063931</td>\n",
       "      <td>0.021091</td>\n",
       "    </tr>\n",
       "    <tr>\n",
       "      <th>PRT</th>\n",
       "      <td>0.017792</td>\n",
       "      <td>0.010214</td>\n",
       "      <td>0.020099</td>\n",
       "      <td>0.056672</td>\n",
       "      <td>0.002306</td>\n",
       "      <td>0.097858</td>\n",
       "      <td>0.083031</td>\n",
       "      <td>0.001647</td>\n",
       "      <td>0.247776</td>\n",
       "      <td>0.405272</td>\n",
       "      <td>0.043822</td>\n",
       "      <td>0.013509</td>\n",
       "    </tr>\n",
       "    <tr>\n",
       "      <th>NOUN</th>\n",
       "      <td>0.004607</td>\n",
       "      <td>0.017074</td>\n",
       "      <td>0.176514</td>\n",
       "      <td>0.009542</td>\n",
       "      <td>0.042666</td>\n",
       "      <td>0.012942</td>\n",
       "      <td>0.012248</td>\n",
       "      <td>0.043397</td>\n",
       "      <td>0.263564</td>\n",
       "      <td>0.147667</td>\n",
       "      <td>0.240604</td>\n",
       "      <td>0.029175</td>\n",
       "    </tr>\n",
       "    <tr>\n",
       "      <th>VERB</th>\n",
       "      <td>0.035786</td>\n",
       "      <td>0.081952</td>\n",
       "      <td>0.092022</td>\n",
       "      <td>0.022851</td>\n",
       "      <td>0.005577</td>\n",
       "      <td>0.134392</td>\n",
       "      <td>0.064988</td>\n",
       "      <td>0.030674</td>\n",
       "      <td>0.110070</td>\n",
       "      <td>0.169249</td>\n",
       "      <td>0.034934</td>\n",
       "      <td>0.217506</td>\n",
       "    </tr>\n",
       "    <tr>\n",
       "      <th>.</th>\n",
       "      <td>0.066349</td>\n",
       "      <td>0.052324</td>\n",
       "      <td>0.091342</td>\n",
       "      <td>0.081003</td>\n",
       "      <td>0.057538</td>\n",
       "      <td>0.173335</td>\n",
       "      <td>0.043963</td>\n",
       "      <td>0.002427</td>\n",
       "      <td>0.222242</td>\n",
       "      <td>0.089095</td>\n",
       "      <td>0.093320</td>\n",
       "      <td>0.026971</td>\n",
       "    </tr>\n",
       "    <tr>\n",
       "      <th>X</th>\n",
       "      <td>0.055538</td>\n",
       "      <td>0.024984</td>\n",
       "      <td>0.142584</td>\n",
       "      <td>0.002864</td>\n",
       "      <td>0.010662</td>\n",
       "      <td>0.054742</td>\n",
       "      <td>0.017187</td>\n",
       "      <td>0.185232</td>\n",
       "      <td>0.062381</td>\n",
       "      <td>0.203851</td>\n",
       "      <td>0.163590</td>\n",
       "      <td>0.076384</td>\n",
       "    </tr>\n",
       "  </tbody>\n",
       "</table>\n",
       "</div>"
      ],
      "text/plain": [
       "          PRON       ADV       ADP       NUM      CONJ       DET       ADJ  \\\n",
       "PRON  0.007657  0.034074  0.022971  0.006508  0.005360  0.009954  0.073124   \n",
       "ADV   0.014906  0.080490  0.118582  0.030474  0.006956  0.069891  0.129182   \n",
       "ADP   0.070031  0.014006  0.016893  0.062226  0.000962  0.324709  0.107024   \n",
       "NUM   0.001489  0.002978  0.036033  0.184932  0.013699  0.003276  0.034247   \n",
       "CONJ  0.058113  0.055323  0.052534  0.039981  0.000465  0.121339  0.118085   \n",
       "DET   0.003744  0.012438  0.009540  0.022220  0.000483  0.005676  0.204323   \n",
       "ADJ   0.000330  0.004778  0.078267  0.021256  0.016971  0.004943  0.066403   \n",
       "PRT   0.017792  0.010214  0.020099  0.056672  0.002306  0.097858  0.083031   \n",
       "NOUN  0.004607  0.017074  0.176514  0.009542  0.042666  0.012942  0.012248   \n",
       "VERB  0.035786  0.081952  0.092022  0.022851  0.005577  0.134392  0.064988   \n",
       ".     0.066349  0.052324  0.091342  0.081003  0.057538  0.173335  0.043963   \n",
       "X     0.055538  0.024984  0.142584  0.002864  0.010662  0.054742  0.017187   \n",
       "\n",
       "           PRT      NOUN      VERB         .         X  \n",
       "PRON  0.013017  0.210949  0.485452  0.040965  0.089969  \n",
       "ADV   0.014243  0.031467  0.343491  0.137131  0.023186  \n",
       "ADP   0.001390  0.320967  0.008340  0.039025  0.034427  \n",
       "NUM   0.026504  0.350208  0.018761  0.117332  0.210542  \n",
       "CONJ  0.004649  0.349140  0.156671  0.034868  0.008833  \n",
       "DET   0.000242  0.638087  0.039850  0.017993  0.045405  \n",
       "ADJ   0.010710  0.699621  0.011699  0.063931  0.021091  \n",
       "PRT   0.001647  0.247776  0.405272  0.043822  0.013509  \n",
       "NOUN  0.043397  0.263564  0.147667  0.240604  0.029175  \n",
       "VERB  0.030674  0.110070  0.169249  0.034934  0.217506  \n",
       ".     0.002427  0.222242  0.089095  0.093320  0.026971  \n",
       "X     0.185232  0.062381  0.203851  0.163590  0.076384  "
      ]
     },
     "execution_count": 187,
     "metadata": {},
     "output_type": "execute_result"
    }
   ],
   "source": [
    "# convert the matrix to a df for better readability\n",
    "tags_df = pd.DataFrame(tags_matrix, columns = list(T), index=list(T))\n",
    "tags_df"
   ]
  },
  {
   "cell_type": "code",
   "execution_count": 188,
   "metadata": {},
   "outputs": [
    {
     "data": {
      "text/plain": [
       "PRON    0.066349\n",
       "ADV     0.052324\n",
       "ADP     0.091342\n",
       "NUM     0.081003\n",
       "CONJ    0.057538\n",
       "DET     0.173335\n",
       "ADJ     0.043963\n",
       "PRT     0.002427\n",
       "NOUN    0.222242\n",
       "VERB    0.089095\n",
       ".       0.093320\n",
       "X       0.026971\n",
       "Name: ., dtype: float32"
      ]
     },
     "execution_count": 188,
     "metadata": {},
     "output_type": "execute_result"
    }
   ],
   "source": [
    "\n",
    "tags_df.loc['.', :]"
   ]
  },
  {
   "cell_type": "code",
   "execution_count": 189,
   "metadata": {},
   "outputs": [
    {
     "data": {
      "image/png": "[encoded data removed]",
      "text/plain": [
       "<Figure size 1296x864 with 2 Axes>"
      ]
     },
     "metadata": {
      "needs_background": "light"
     },
     "output_type": "display_data"
    }
   ],
   "source": [
    "# heatmap of tags matrix\n",
    "# T(i, j) indicates P(tag j given tag i)\n",
    "plt.figure(figsize=(18, 12))\n",
    "sns.heatmap(tags_df)\n",
    "plt.show()"
   ]
  },
  {
   "cell_type": "code",
   "execution_count": 190,
   "metadata": {},
   "outputs": [
    {
     "data": {
      "image/png": "[encoded data removed]",
      "text/plain": [
       "<Figure size 1296x864 with 2 Axes>"
      ]
     },
     "metadata": {
      "needs_background": "light"
     },
     "output_type": "display_data"
    }
   ],
   "source": [
    "# frequent tags\n",
    "# filter the df to get P(t2, t1) > 0.5\n",
    "tags_frequent = tags_df[tags_df>0.5]\n",
    "plt.figure(figsize=(18, 12))\n",
    "sns.heatmap(tags_frequent)\n",
    "plt.show()"
   ]
  },
  {
   "cell_type": "code",
   "execution_count": null,
   "metadata": {},
   "outputs": [],
   "source": []
  },
  {
   "cell_type": "code",
   "execution_count": null,
   "metadata": {},
   "outputs": [],
   "source": []
  },
  {
   "cell_type": "code",
   "execution_count": null,
   "metadata": {},
   "outputs": [],
   "source": []
  },
  {
   "cell_type": "code",
   "execution_count": null,
   "metadata": {},
   "outputs": [],
   "source": []
  },
  {
   "cell_type": "markdown",
   "metadata": {},
   "source": [
    "### Build the vanilla Viterbi based POS tagger"
   ]
  },
  {
   "cell_type": "code",
   "execution_count": 191,
   "metadata": {},
   "outputs": [
    {
     "data": {
      "text/plain": [
       "95547"
      ]
     },
     "execution_count": 191,
     "metadata": {},
     "output_type": "execute_result"
    }
   ],
   "source": [
    "len(train_tag)"
   ]
  },
  {
   "cell_type": "code",
   "execution_count": 192,
   "metadata": {},
   "outputs": [],
   "source": [
    "# Viterbi Heuristic (lecture)\n",
    "def Viterbi(words, train_bag = train_tag):\n",
    "    state = []\n",
    "    T = list(set([pair[1] for pair in train_bag]))\n",
    "    \n",
    "    for key, word in enumerate(words):\n",
    "        #initialise list of probability column for a given observation\n",
    "        p = [] \n",
    "        for tag in T:\n",
    "            if key == 0:\n",
    "                transition_p = tags_df.loc['.', tag]\n",
    "            else:\n",
    "                transition_p = tags_df.loc[state[-1], tag]\n",
    "                \n",
    "            # compute emission and state probabilities\n",
    "            emission_p = word_given_tag(words[key], tag)[0]/word_given_tag(words[key], tag)[1]\n",
    "            state_probability = emission_p * transition_p    \n",
    "            p.append(state_probability)\n",
    "            \n",
    "        pmax = max(p)\n",
    "        # getting state for which probability is maximum\n",
    "        state_max = T[p.index(pmax)] \n",
    "        state.append(state_max)\n",
    "    return list(zip(words, state))"
   ]
  },
  {
   "cell_type": "code",
   "execution_count": 193,
   "metadata": {},
   "outputs": [
    {
     "data": {
      "text/plain": [
       "[[('This', 'DET'),\n",
       "  ('species', 'NOUN'),\n",
       "  ('of', 'ADP'),\n",
       "  ('congressional', 'ADJ'),\n",
       "  ('action', 'NOUN'),\n",
       "  ('is', 'VERB'),\n",
       "  ('predicated', 'VERB'),\n",
       "  ('*-50', 'X'),\n",
       "  ('on', 'ADP'),\n",
       "  ('an', 'DET'),\n",
       "  ('interpretation', 'NOUN'),\n",
       "  ('of', 'ADP'),\n",
       "  ('the', 'DET'),\n",
       "  ('appropriations', 'NOUN'),\n",
       "  ('clause', 'NOUN'),\n",
       "  ('that', 'DET'),\n",
       "  ('*T*-1', 'X'),\n",
       "  ('is', 'VERB'),\n",
       "  ('erroneous', 'ADJ'),\n",
       "  ('and', 'CONJ'),\n",
       "  ('unconstitutional', 'ADJ'),\n",
       "  ('.', '.')],\n",
       " [('*-1', 'X'),\n",
       "  ('Stung', 'VERB'),\n",
       "  ('by', 'ADP'),\n",
       "  ('charges', 'NOUN'),\n",
       "  ('that', 'ADP'),\n",
       "  ('their', 'PRON'),\n",
       "  ('greed', 'NOUN'),\n",
       "  ('is', 'VERB'),\n",
       "  ('turning', 'VERB'),\n",
       "  ('the', 'DET'),\n",
       "  ('stock', 'NOUN'),\n",
       "  ('market', 'NOUN'),\n",
       "  ('into', 'ADP'),\n",
       "  ('a', 'DET'),\n",
       "  ('gigantic', 'ADJ'),\n",
       "  ('crapshoot', 'NOUN'),\n",
       "  (',', '.'),\n",
       "  ('almost', 'ADV'),\n",
       "  ('all', 'DET'),\n",
       "  ('the', 'DET'),\n",
       "  ('big', 'ADJ'),\n",
       "  ('investment', 'NOUN'),\n",
       "  ('banking', 'NOUN'),\n",
       "  ('houses', 'NOUN'),\n",
       "  ('have', 'VERB'),\n",
       "  ('abandoned', 'VERB'),\n",
       "  ('index', 'NOUN'),\n",
       "  ('arbitrage', 'NOUN'),\n",
       "  (',', '.'),\n",
       "  ('a', 'DET'),\n",
       "  ('common', 'ADJ'),\n",
       "  ('form', 'NOUN'),\n",
       "  ('of', 'ADP'),\n",
       "  ('program', 'NOUN'),\n",
       "  ('trading', 'NOUN'),\n",
       "  (',', '.'),\n",
       "  ('for', 'ADP'),\n",
       "  ('their', 'PRON'),\n",
       "  ('own', 'ADJ'),\n",
       "  ('accounts', 'NOUN'),\n",
       "  ('in', 'ADP'),\n",
       "  ('the', 'DET'),\n",
       "  ('past', 'ADJ'),\n",
       "  ('few', 'ADJ'),\n",
       "  ('days', 'NOUN'),\n",
       "  ('.', '.')],\n",
       " [('Mr.', 'NOUN'),\n",
       "  ('Allen', 'NOUN'),\n",
       "  (\"'s\", 'PRT'),\n",
       "  ('Pittsburgh', 'NOUN'),\n",
       "  ('firm', 'NOUN'),\n",
       "  (',', '.'),\n",
       "  ('Advanced', 'NOUN'),\n",
       "  ('Investment', 'NOUN'),\n",
       "  ('Management', 'NOUN'),\n",
       "  ('Inc.', 'NOUN'),\n",
       "  (',', '.'),\n",
       "  ('executes', 'VERB'),\n",
       "  ('program', 'NOUN'),\n",
       "  ('trades', 'NOUN'),\n",
       "  ('for', 'ADP'),\n",
       "  ('institutions', 'NOUN'),\n",
       "  ('.', '.')],\n",
       " [('Also', 'ADV'),\n",
       "  (',', '.'),\n",
       "  ('there', 'DET'),\n",
       "  ('has', 'VERB'),\n",
       "  ('been', 'VERB'),\n",
       "  ('a', 'DET'),\n",
       "  ('switch', 'NOUN'),\n",
       "  ('*ICH*-3', 'X'),\n",
       "  ('in', 'ADP'),\n",
       "  ('the', 'DET'),\n",
       "  ('past', 'ADJ'),\n",
       "  ('decade', 'NOUN'),\n",
       "  ('to', 'PRT'),\n",
       "  ('planting', 'NOUN'),\n",
       "  ('of', 'ADP'),\n",
       "  ('orange', 'ADJ'),\n",
       "  ('trees', 'NOUN'),\n",
       "  ('in', 'ADP'),\n",
       "  ('areas', 'NOUN'),\n",
       "  ('that', 'DET'),\n",
       "  ('*T*-5', 'X'),\n",
       "  ('were', 'VERB'),\n",
       "  ('previously', 'ADV'),\n",
       "  ('used', 'VERB'),\n",
       "  ('*-1', 'X'),\n",
       "  ('for', 'ADP'),\n",
       "  ('cane', 'NOUN'),\n",
       "  (',', '.'),\n",
       "  ('and', 'CONJ'),\n",
       "  ('this', 'DET'),\n",
       "  ('change', 'NOUN'),\n",
       "  ('is', 'VERB'),\n",
       "  ('being', 'VERB'),\n",
       "  ('felt', 'VERB'),\n",
       "  ('*-4', 'X'),\n",
       "  ('now', 'ADV'),\n",
       "  (',', '.'),\n",
       "  ('she', 'PRON'),\n",
       "  ('said', 'VERB'),\n",
       "  ('0', 'X'),\n",
       "  ('*T*-2', 'X'),\n",
       "  ('.', '.')],\n",
       " [('``', '.'),\n",
       "  ('I', 'PRON'),\n",
       "  (\"'m\", 'VERB'),\n",
       "  ('starting', 'VERB'),\n",
       "  ('*-1', 'X'),\n",
       "  ('to', 'PRT'),\n",
       "  ('see', 'VERB'),\n",
       "  ('more', 'ADJ'),\n",
       "  ('business', 'NOUN'),\n",
       "  ('transactions', 'NOUN'),\n",
       "  (',', '.'),\n",
       "  (\"''\", '.'),\n",
       "  ('says', 'VERB'),\n",
       "  ('*T*-2', 'X'),\n",
       "  ('Andrea', 'NOUN'),\n",
       "  ('West', 'NOUN'),\n",
       "  ('of', 'ADP'),\n",
       "  ('American', 'NOUN'),\n",
       "  ('Telephone', 'NOUN'),\n",
       "  ('&', 'CONJ'),\n",
       "  ('Telegraph', 'NOUN'),\n",
       "  ('Co.', 'NOUN'),\n",
       "  (',', '.'),\n",
       "  ('*-3', 'X'),\n",
       "  ('noting', 'VERB'),\n",
       "  ('growing', 'VERB'),\n",
       "  ('interest', 'NOUN'),\n",
       "  ('in', 'ADP'),\n",
       "  ('use', 'NOUN'),\n",
       "  ('of', 'ADP'),\n",
       "  ('900', 'NUM'),\n",
       "  ('service', 'NOUN'),\n",
       "  ('for', 'ADP'),\n",
       "  ('stock', 'NOUN'),\n",
       "  ('sales', 'NOUN'),\n",
       "  (',', '.'),\n",
       "  ('software', 'NOUN'),\n",
       "  ('tutorials', 'NOUN'),\n",
       "  ('and', 'CONJ'),\n",
       "  ('even', 'ADV'),\n",
       "  ('service', 'NOUN'),\n",
       "  ('contracts', 'NOUN'),\n",
       "  ('.', '.')]]"
      ]
     },
     "execution_count": 193,
     "metadata": {},
     "output_type": "execute_result"
    }
   ],
   "source": [
    "# lets run the algorithm on a test dataset\n",
    "import random\n",
    "random.seed(101)\n",
    "\n",
    "# choose random 5 sents\n",
    "rndom = [random.randint(1,len(test_data)) for x in range(5)]\n",
    "\n",
    "# list of sents\n",
    "test_run = [test_data[i] for i in rndom]\n",
    "\n",
    "# list of tagged words\n",
    "test_run_base = [tup for sent in test_run for tup in sent]\n",
    "\n",
    "# list of untagged words\n",
    "test_tagged_words = [tup[0] for sent in test_run for tup in sent]\n",
    "test_run"
   ]
  },
  {
   "cell_type": "code",
   "execution_count": 194,
   "metadata": {},
   "outputs": [],
   "source": [
    "# tagging the test sentences\n",
    "import time\n",
    "start = time.time()\n",
    "tagged_seq = Viterbi(test_tagged_words)\n",
    "end = time.time()\n",
    "difference = end-start"
   ]
  },
  {
   "cell_type": "code",
   "execution_count": 195,
   "metadata": {},
   "outputs": [
    {
     "name": "stdout",
     "output_type": "stream",
     "text": [
      "Time taken in seconds:  45.51268696784973\n",
      "[('This', 'DET'), ('species', 'PRON'), ('of', 'ADP'), ('congressional', 'ADJ'), ('action', 'NOUN'), ('is', 'VERB'), ('predicated', 'PRON'), ('*-50', 'X'), ('on', 'ADP'), ('an', 'DET'), ('interpretation', 'NOUN'), ('of', 'ADP'), ('the', 'DET'), ('appropriations', 'NOUN'), ('clause', 'NOUN'), ('that', 'ADP'), ('*T*-1', 'X'), ('is', 'VERB'), ('erroneous', 'PRON'), ('and', 'CONJ'), ('unconstitutional', 'ADJ'), ('.', '.'), ('*-1', 'X'), ('Stung', 'VERB'), ('by', 'ADP'), ('charges', 'NOUN'), ('that', 'ADP'), ('their', 'PRON'), ('greed', 'NOUN'), ('is', 'VERB'), ('turning', 'VERB'), ('the', 'DET'), ('stock', 'NOUN'), ('market', 'NOUN'), ('into', 'ADP'), ('a', 'DET'), ('gigantic', 'PRON'), ('crapshoot', 'PRON'), (',', '.'), ('almost', 'ADV'), ('all', 'DET'), ('the', 'DET'), ('big', 'ADJ'), ('investment', 'NOUN'), ('banking', 'NOUN'), ('houses', 'NOUN'), ('have', 'VERB'), ('abandoned', 'VERB'), ('index', 'NOUN'), ('arbitrage', 'NOUN'), (',', '.'), ('a', 'DET'), ('common', 'ADJ'), ('form', 'NOUN'), ('of', 'ADP'), ('program', 'NOUN'), ('trading', 'NOUN'), (',', '.'), ('for', 'ADP'), ('their', 'PRON'), ('own', 'ADJ'), ('accounts', 'NOUN'), ('in', 'ADP'), ('the', 'DET'), ('past', 'ADJ'), ('few', 'ADJ'), ('days', 'NOUN'), ('.', '.'), ('Mr.', 'NOUN'), ('Allen', 'NOUN'), (\"'s\", 'PRT'), ('Pittsburgh', 'PRON'), ('firm', 'NOUN'), (',', '.'), ('Advanced', 'PRON'), ('Investment', 'NOUN'), ('Management', 'NOUN'), ('Inc.', 'NOUN'), (',', '.'), ('executes', 'PRON'), ('program', 'NOUN'), ('trades', 'NOUN'), ('for', 'ADP'), ('institutions', 'NOUN'), ('.', '.'), ('Also', 'ADV'), (',', '.'), ('there', 'DET'), ('has', 'VERB'), ('been', 'VERB'), ('a', 'DET'), ('switch', 'NOUN'), ('*ICH*-3', 'X'), ('in', 'ADP'), ('the', 'DET'), ('past', 'ADJ'), ('decade', 'NOUN'), ('to', 'PRT'), ('planting', 'PRON'), ('of', 'ADP'), ('orange', 'PRON'), ('trees', 'PRON'), ('in', 'ADP'), ('areas', 'NOUN'), ('that', 'ADP'), ('*T*-5', 'X'), ('were', 'VERB'), ('previously', 'ADV'), ('used', 'VERB'), ('*-1', 'X'), ('for', 'ADP'), ('cane', 'PRON'), (',', '.'), ('and', 'CONJ'), ('this', 'DET'), ('change', 'NOUN'), ('is', 'VERB'), ('being', 'VERB'), ('felt', 'VERB'), ('*-4', 'X'), ('now', 'ADV'), (',', '.'), ('she', 'PRON'), ('said', 'VERB'), ('0', 'X'), ('*T*-2', 'X'), ('.', '.'), ('``', '.'), ('I', 'PRON'), (\"'m\", 'VERB'), ('starting', 'VERB'), ('*-1', 'X'), ('to', 'PRT'), ('see', 'VERB'), ('more', 'ADV'), ('business', 'NOUN'), ('transactions', 'NOUN'), (',', '.'), (\"''\", '.'), ('says', 'VERB'), ('*T*-2', 'X'), ('Andrea', 'PRON'), ('West', 'NOUN'), ('of', 'ADP'), ('American', 'ADJ'), ('Telephone', 'NOUN'), ('&', 'CONJ'), ('Telegraph', 'NOUN'), ('Co.', 'NOUN'), (',', '.'), ('*-3', 'X'), ('noting', 'VERB'), ('growing', 'VERB'), ('interest', 'NOUN'), ('in', 'ADP'), ('use', 'NOUN'), ('of', 'ADP'), ('900', 'NUM'), ('service', 'NOUN'), ('for', 'ADP'), ('stock', 'NOUN'), ('sales', 'NOUN'), (',', '.'), ('software', 'NOUN'), ('tutorials', 'PRON'), ('and', 'CONJ'), ('even', 'ADV'), ('service', 'NOUN'), ('contracts', 'NOUN'), ('.', '.')]\n"
     ]
    }
   ],
   "source": [
    "print(\"Time taken in seconds: \", difference)\n",
    "print(tagged_seq)"
   ]
  },
  {
   "cell_type": "code",
   "execution_count": 196,
   "metadata": {},
   "outputs": [
    {
     "name": "stdout",
     "output_type": "stream",
     "text": [
      "Accuracy:  89.41176470588236\n"
     ]
    }
   ],
   "source": [
    "# checking the accuracy of the model\n",
    "check = [i for i, j in zip(tagged_seq, test_run_base) if i == j] \n",
    "\n",
    "accuracy = len(check)/len(tagged_seq)\n",
    "print('Accuracy: ',accuracy*100)"
   ]
  },
  {
   "cell_type": "code",
   "execution_count": 197,
   "metadata": {},
   "outputs": [
    {
     "data": {
      "text/plain": [
       "18"
      ]
     },
     "execution_count": 197,
     "metadata": {},
     "output_type": "execute_result"
    }
   ],
   "source": [
    "# find the words incorrectly tagged\n",
    "incorrect_tagged_cases =[j for i, j in enumerate(zip(tagged_seq, test_run_base)) if j[0] != j[1]]\n",
    "len(incorrect_tagged_cases)"
   ]
  },
  {
   "cell_type": "code",
   "execution_count": 198,
   "metadata": {},
   "outputs": [
    {
     "data": {
      "text/plain": [
       "[(('species', 'PRON'), ('species', 'NOUN')),\n",
       " (('predicated', 'PRON'), ('predicated', 'VERB')),\n",
       " (('that', 'ADP'), ('that', 'DET')),\n",
       " (('erroneous', 'PRON'), ('erroneous', 'ADJ')),\n",
       " (('gigantic', 'PRON'), ('gigantic', 'ADJ')),\n",
       " (('crapshoot', 'PRON'), ('crapshoot', 'NOUN')),\n",
       " (('Pittsburgh', 'PRON'), ('Pittsburgh', 'NOUN')),\n",
       " (('Advanced', 'PRON'), ('Advanced', 'NOUN')),\n",
       " (('executes', 'PRON'), ('executes', 'VERB')),\n",
       " (('planting', 'PRON'), ('planting', 'NOUN')),\n",
       " (('orange', 'PRON'), ('orange', 'ADJ')),\n",
       " (('trees', 'PRON'), ('trees', 'NOUN')),\n",
       " (('that', 'ADP'), ('that', 'DET')),\n",
       " (('cane', 'PRON'), ('cane', 'NOUN')),\n",
       " (('more', 'ADV'), ('more', 'ADJ')),\n",
       " (('Andrea', 'PRON'), ('Andrea', 'NOUN')),\n",
       " (('American', 'ADJ'), ('American', 'NOUN')),\n",
       " (('tutorials', 'PRON'), ('tutorials', 'NOUN'))]"
      ]
     },
     "execution_count": 198,
     "metadata": {},
     "output_type": "execute_result"
    }
   ],
   "source": [
    "incorrect_tagged_cases"
   ]
  },
  {
   "cell_type": "code",
   "execution_count": null,
   "metadata": {},
   "outputs": [],
   "source": []
  },
  {
   "cell_type": "code",
   "execution_count": null,
   "metadata": {},
   "outputs": [],
   "source": []
  },
  {
   "cell_type": "code",
   "execution_count": null,
   "metadata": {},
   "outputs": [],
   "source": []
  },
  {
   "cell_type": "code",
   "execution_count": null,
   "metadata": {},
   "outputs": [],
   "source": []
  },
  {
   "cell_type": "markdown",
   "metadata": {},
   "source": [
    "### Solve the problem of unknown words"
   ]
  },
  {
   "cell_type": "markdown",
   "metadata": {},
   "source": [
    "### Lexicon and Rule-Based approach for POS Tagging"
   ]
  },
  {
   "cell_type": "code",
   "execution_count": 199,
   "metadata": {},
   "outputs": [],
   "source": [
    "# approach 1\n",
    "# Modified Viterbi Heuristic- Approach I\n",
    "def Viterbi1(words, train_bag = train_tag):\n",
    "    state = []\n",
    "    \n",
    "    # Take the list of unique tags present in the corpus\n",
    "    T = sorted(list(set([pair[1] for pair in train_bag])))\n",
    "    V = [i[0] for i in train_bag]\n",
    "    \n",
    "    for key, word in enumerate(words):\n",
    "        #initialise list of probability column for a given observation\n",
    "        p = [] \n",
    "        \n",
    "        for tag in T:\n",
    "            if key == 0: #first word has key=0\n",
    "                transition_p = tags_df.loc['.', tag]\n",
    "            else:\n",
    "                transition_p = tags_df.loc[state[-1], tag]\n",
    "                \n",
    "            # compute emission and state probabilities\n",
    "            emission_p = word_given_tag(words[key], tag)[0]/word_given_tag(words[key], tag)[1]\n",
    "            \n",
    "            # modification to the original vanilla viterbi algorithm. \n",
    "            # Vocab contains the list of unique words in training dataset\n",
    "            if word not in V: \n",
    "                state_probability = transition_p\n",
    "            else:\n",
    "                state_probability = emission_p * transition_p\n",
    "                \n",
    "            p.append(state_probability)\n",
    "            \n",
    "        pmax = max(p)\n",
    "        # getting state for which probability is maximum\n",
    "        state_max = T[p.index(pmax)] \n",
    "        state.append(state_max)\n",
    "    return list(zip(words, state))"
   ]
  },
  {
   "cell_type": "code",
   "execution_count": 200,
   "metadata": {},
   "outputs": [],
   "source": [
    "# tagging the test sentences\n",
    "import time\n",
    "start = time.time()\n",
    "tagged_seq = Viterbi1(test_tagged_words)\n",
    "end = time.time()\n",
    "difference = end-start"
   ]
  },
  {
   "cell_type": "code",
   "execution_count": 201,
   "metadata": {},
   "outputs": [
    {
     "name": "stdout",
     "output_type": "stream",
     "text": [
      "Time taken in seconds:  45.09267997741699\n"
     ]
    }
   ],
   "source": [
    "print(\"Time taken in seconds: \", difference)"
   ]
  },
  {
   "cell_type": "code",
   "execution_count": 202,
   "metadata": {},
   "outputs": [
    {
     "name": "stdout",
     "output_type": "stream",
     "text": [
      "time take in this approach is slightly longer than the initial approach\n"
     ]
    }
   ],
   "source": [
    "print(\"time take in this approach is slightly longer than the initial approach\")"
   ]
  },
  {
   "cell_type": "code",
   "execution_count": 203,
   "metadata": {},
   "outputs": [
    {
     "name": "stdout",
     "output_type": "stream",
     "text": [
      "Accuracy:  92.3529411764706\n"
     ]
    }
   ],
   "source": [
    "# accuracy \n",
    "# checking the accuracy of the model\n",
    "check = [i for i, j in zip(tagged_seq, test_run_base) if i == j] \n",
    "\n",
    "accuracy = len(check)/len(tagged_seq)\n",
    "print('Accuracy: ',accuracy*100)"
   ]
  },
  {
   "cell_type": "markdown",
   "metadata": {},
   "source": [
    "### as we can see this models accuracy is slightly higher than the previous model's which was 89.4%"
   ]
  },
  {
   "cell_type": "code",
   "execution_count": 204,
   "metadata": {},
   "outputs": [
    {
     "data": {
      "text/plain": [
       "13"
      ]
     },
     "execution_count": 204,
     "metadata": {},
     "output_type": "execute_result"
    }
   ],
   "source": [
    "#incorrect tagged cases\n",
    "# find the words incorrectly tagged\n",
    "incorrect_tagged_cases1 =[j for i, j in enumerate(zip(tagged_seq, test_run_base)) if j[0] != j[1]]\n",
    "len(incorrect_tagged_cases1)"
   ]
  },
  {
   "cell_type": "markdown",
   "metadata": {},
   "source": [
    "### this time we have only 13 incorrectly tagged cases as to 18 before"
   ]
  },
  {
   "cell_type": "code",
   "execution_count": 205,
   "metadata": {},
   "outputs": [
    {
     "name": "stdout",
     "output_type": "stream",
     "text": [
      "[(('predicated', 'X'), ('predicated', 'VERB')), (('that', 'ADP'), ('that', 'DET')), (('erroneous', 'X'), ('erroneous', 'ADJ')), (('gigantic', 'NOUN'), ('gigantic', 'ADJ')), (('Pittsburgh', 'VERB'), ('Pittsburgh', 'NOUN')), (('executes', 'NOUN'), ('executes', 'VERB')), (('planting', 'VERB'), ('planting', 'NOUN')), (('orange', 'DET'), ('orange', 'ADJ')), (('that', 'ADP'), ('that', 'DET')), (('cane', 'DET'), ('cane', 'NOUN')), (('more', 'ADV'), ('more', 'ADJ')), (('Andrea', 'VERB'), ('Andrea', 'NOUN')), (('American', 'ADJ'), ('American', 'NOUN'))]\n"
     ]
    }
   ],
   "source": [
    "print(incorrect_tagged_cases1)"
   ]
  },
  {
   "cell_type": "markdown",
   "metadata": {},
   "source": []
  },
  {
   "cell_type": "code",
   "execution_count": 225,
   "metadata": {},
   "outputs": [],
   "source": [
    "# source StackOverflow\n",
    "patterns = [\n",
    "    (r'^([0-9]|[aA-zZ])+\\-([0-9]|[aA-zZ])*$','ADJ'),\n",
    "    (r'.*able$', 'ADJ'),                     \n",
    "    (r'.*ful$', 'ADJ'),                      \n",
    "    (r'.*ous$', 'ADJ'),                      \n",
    "    \n",
    "    (r'.*\\'s$', 'NOUN'),                    \n",
    "    (r'.*s$', 'NOUN'),                      \n",
    "    (r'^[aA-zZ].*[0-9]+','NOUN'),           \n",
    "    (r'.*ers$', 'NOUN'),                     \n",
    "    (r'.*ment$', 'NOUN'),                   \n",
    "    (r'.*town$', 'NOUN'),                      \n",
    "    (r'.*ness$', 'NOUN'),                   \n",
    "    (r'^[A-Z]+([a-z]{1,2})?\\.?$','NOUN'),    \n",
    "    \n",
    "    (r'[aA-zZ]+(ed|ing|es)$', 'VERB'),       \n",
    "    (r'.*ly$', 'ADV'),                       \n",
    "    \n",
    "    (r'^[0-9]+(.[0-9]+)?$', 'NUM'),                \n",
    "    (r'^(0|([*|-|$].*))','X'),                 \n",
    "    \n",
    "    (r'(The|the|A|a|An|an|That|that|This|this|Those|those|These|these)$', 'DET'),   \n",
    "    (r'.*', 'NOUN')  \n",
    "    ]\n",
    "rule_based_tagger = nltk.RegexpTagger(patterns)"
   ]
  },
  {
   "cell_type": "code",
   "execution_count": 226,
   "metadata": {},
   "outputs": [],
   "source": [
    "# approach 2\n",
    "# Modified Viterbi Heuristic- Approach 2\n",
    "def Viterbi2(words, train_bag = train_tag):\n",
    "    state = []\n",
    "    T = list(set([pair[1] for pair in train_bag]))\n",
    "    tag_probability = []\n",
    "    total_tag = len([tag for word,tag in train_tag])\n",
    "    for t in unique_tags:\n",
    "        each_tag = [tag for word,tag in train_tag if tag==t]\n",
    "        tag_probability.append((t,len(each_tag)/total_tag))\n",
    "\n",
    "    \n",
    "    for key, word in enumerate(words):\n",
    "        #initialise list of probability column for a given observation\n",
    "        p = [] \n",
    "        p_transition =[] # for storing transition probabilities\n",
    "        for tag in T:\n",
    "            if key == 0:\n",
    "                transition_p = tags_df.loc['.', tag]\n",
    "            else:\n",
    "                transition_p = tags_df.loc[state[-1], tag]\n",
    "                \n",
    "            # compute emission and state probabilities\n",
    "            emission_p = word_given_tag(words[key], tag)[0]/word_given_tag(words[key], tag)[1]\n",
    "            state_probability = emission_p * transition_p    \n",
    "            p.append(state_probability)\n",
    "            \n",
    "            # find POS probability\n",
    "            tag_p = [pair[1] for pair in tag_probability if pair[0]==tag ]\n",
    "            \n",
    "            # calculate the transition prob weighted by tag occurance probability.\n",
    "            transition_p = tag_p[0]*transition_p\n",
    "            p_transition.append(transition_p)\n",
    "            \n",
    "        pmax = max(p)\n",
    "        state_max = rule_based_tagger.tag([word])[0][1] \n",
    "        \n",
    "      \n",
    "        # getting state for which probability is maximum\n",
    "        if(pmax==0):\n",
    "            state_max = rule_based_tagger.tag([word])[0][1] # assign based on rule based tagger\n",
    "            \n",
    "            # if unknown word does not satisfy any rule, find the tag with maximum transition probability\n",
    "            if state_max == 'NN':\n",
    "                pmax = max(p_transition)\n",
    "                state_max = T[p_transition.index(pmax)]                 \n",
    "                \n",
    "        else:\n",
    "             if state_max != 'X':\n",
    "                # getting state for which probability is maximum\n",
    "                state_max = T[p.index(pmax)] \n",
    "        \n",
    "        state.append(state_max)\n",
    "    return list(zip(words, state))"
   ]
  },
  {
   "cell_type": "code",
   "execution_count": 227,
   "metadata": {},
   "outputs": [],
   "source": [
    "# tagging the test sentences\n",
    "import time\n",
    "start = time.time()\n",
    "tagged_seq = Viterbi2(test_tagged_words)\n",
    "end = time.time()\n",
    "difference = end-start"
   ]
  },
  {
   "cell_type": "code",
   "execution_count": 228,
   "metadata": {},
   "outputs": [
    {
     "name": "stdout",
     "output_type": "stream",
     "text": [
      "Time taken in seconds:  42.877297163009644\n"
     ]
    }
   ],
   "source": [
    "print(\"Time taken in seconds: \", difference)"
   ]
  },
  {
   "cell_type": "code",
   "execution_count": 229,
   "metadata": {},
   "outputs": [
    {
     "name": "stdout",
     "output_type": "stream",
     "text": [
      "Modified Viterbi_2 Accuracy:  94.70588235294117\n"
     ]
    }
   ],
   "source": [
    "# accuracy\n",
    "check = [i for i, j in zip(tagged_seq, test_run_base) if i == j] \n",
    "accuracy = len(check)/len(tagged_seq)\n",
    "print('Modified Viterbi_2 Accuracy: ',accuracy*100)"
   ]
  },
  {
   "cell_type": "code",
   "execution_count": null,
   "metadata": {},
   "outputs": [],
   "source": [
    " "
   ]
  },
  {
   "cell_type": "code",
   "execution_count": 237,
   "metadata": {},
   "outputs": [],
   "source": []
  },
  {
   "cell_type": "code",
   "execution_count": null,
   "metadata": {},
   "outputs": [],
   "source": []
  },
  {
   "cell_type": "code",
   "execution_count": null,
   "metadata": {},
   "outputs": [],
   "source": []
  },
  {
   "cell_type": "code",
   "execution_count": null,
   "metadata": {},
   "outputs": [],
   "source": []
  },
  {
   "cell_type": "code",
   "execution_count": null,
   "metadata": {},
   "outputs": [],
   "source": []
  },
  {
   "cell_type": "markdown",
   "metadata": {},
   "source": [
    "### this second approach of the algorithm sees to perform better than before, as it was 92.35% now its 93.53%"
   ]
  },
  {
   "cell_type": "code",
   "execution_count": 211,
   "metadata": {},
   "outputs": [
    {
     "data": {
      "text/plain": [
       "11"
      ]
     },
     "execution_count": 211,
     "metadata": {},
     "output_type": "execute_result"
    }
   ],
   "source": [
    "# Lets check for incorrectly tagged words\n",
    "incorrect_tagged_cases2 =[j for i, j in enumerate(zip(tagged_seq, test_run_base)) if j[0] != j[1]]\n",
    "len(incorrect_tagged_cases2)"
   ]
  },
  {
   "cell_type": "markdown",
   "metadata": {},
   "source": [
    "### this time we have only 11 incorrectly tagged cases as to 13 before"
   ]
  },
  {
   "cell_type": "code",
   "execution_count": 212,
   "metadata": {},
   "outputs": [
    {
     "name": "stdout",
     "output_type": "stream",
     "text": [
      "[(('species', 'VERB'), ('species', 'NOUN')), (('that', 'ADP'), ('that', 'DET')), (('erroneous', 'NOUN'), ('erroneous', 'ADJ')), (('gigantic', 'NOUN'), ('gigantic', 'ADJ')), (('Advanced', 'VERB'), ('Advanced', 'NOUN')), (('planting', 'VERB'), ('planting', 'NOUN')), (('orange', 'NOUN'), ('orange', 'ADJ')), (('trees', 'VERB'), ('trees', 'NOUN')), (('that', 'ADP'), ('that', 'DET')), (('more', 'ADV'), ('more', 'ADJ')), (('American', 'ADJ'), ('American', 'NOUN'))]\n"
     ]
    }
   ],
   "source": [
    "print(incorrect_tagged_cases2)"
   ]
  },
  {
   "cell_type": "markdown",
   "metadata": {},
   "source": []
  },
  {
   "cell_type": "code",
   "execution_count": null,
   "metadata": {},
   "outputs": [],
   "source": []
  },
  {
   "cell_type": "code",
   "execution_count": null,
   "metadata": {},
   "outputs": [],
   "source": []
  },
  {
   "cell_type": "markdown",
   "metadata": {},
   "source": [
    "#### Evaluating tagging accuracy most of the evaluation is done above"
   ]
  },
  {
   "cell_type": "code",
   "execution_count": 213,
   "metadata": {},
   "outputs": [],
   "source": [
    "# # well evaulate the tagging on the sample sentences\n",
    "# f = open('sample_sentences.txt')\n",
    "# text = f.read()\n",
    "# sample_line = text.splitlines()\n",
    "# f.close()\n"
   ]
  },
  {
   "cell_type": "code",
   "execution_count": 214,
   "metadata": {},
   "outputs": [],
   "source": [
    "# sample_line = sample_line[:-3]\n",
    "# sample_line"
   ]
  },
  {
   "cell_type": "code",
   "execution_count": 215,
   "metadata": {},
   "outputs": [],
   "source": [
    "# words = [word for sent in sample_line for word in sent.split()]"
   ]
  },
  {
   "cell_type": "code",
   "execution_count": 216,
   "metadata": {},
   "outputs": [],
   "source": [
    "# word"
   ]
  },
  {
   "cell_type": "code",
   "execution_count": 217,
   "metadata": {},
   "outputs": [],
   "source": [
    "sample_test_sent = ['Android is a mobile operating system developed by Google.',\n",
    " 'Android has been the best-selling OS worldwide on smartphones since 2011 and on tablets since 2013.',\n",
    " \"Google and Twitter made a deal in 2015 that gave Google access to Twitter's firehose.\",\n",
    " 'Twitter is an online news and social networking service on which users post and interact with messages known as tweets.',\n",
    " 'Before entering politics, Donald Trump was a domineering businessman and a television personality.',\n",
    " 'The 2018 FIFA World Cup is the 21st FIFA World Cup, an international football tournament contested once every four years.',\n",
    " 'This is the first World Cup to be held in Eastern Europe and the 11th time that it has been held in Europe.',\n",
    " 'Show me the cheapest round trips from Dallas to Atlanta', 'I would like to see flights from Denver to Philadelphia.',\n",
    "'Show me the price of the flights leaving Atlanta at about 3 in the afternoon and arriving in San Francisco.',\n",
    "'NASA invited social media users to experience the launch of ICESAT-2 Satellite.']"
   ]
  },
  {
   "cell_type": "code",
   "execution_count": 218,
   "metadata": {},
   "outputs": [],
   "source": [
    "words = [word for sent in sample_test_sent for word in sent.split()]"
   ]
  },
  {
   "cell_type": "code",
   "execution_count": null,
   "metadata": {},
   "outputs": [],
   "source": []
  },
  {
   "cell_type": "code",
   "execution_count": null,
   "metadata": {},
   "outputs": [],
   "source": []
  },
  {
   "cell_type": "code",
   "execution_count": 219,
   "metadata": {},
   "outputs": [
    {
     "name": "stdout",
     "output_type": "stream",
     "text": [
      "Time taken in seconds:  42.16979622840881\n"
     ]
    }
   ],
   "source": [
    "# tagging the test sentences on the original algorithm\n",
    "start = time.time()\n",
    "sample_tagged_seq = Viterbi(words)\n",
    "end = time.time()\n",
    "difference = end-start\n",
    "\n",
    "print(\"Time taken in seconds: \", difference)"
   ]
  },
  {
   "cell_type": "code",
   "execution_count": 220,
   "metadata": {},
   "outputs": [
    {
     "data": {
      "text/plain": [
       "[('Android', 'PRON'),\n",
       " ('is', 'VERB'),\n",
       " ('a', 'DET'),\n",
       " ('mobile', 'ADJ'),\n",
       " ('operating', 'NOUN'),\n",
       " ('system', 'NOUN'),\n",
       " ('developed', 'VERB'),\n",
       " ('by', 'ADP'),\n",
       " ('Google.', 'PRON'),\n",
       " ('Android', 'PRON'),\n",
       " ('has', 'VERB'),\n",
       " ('been', 'VERB'),\n",
       " ('the', 'DET'),\n",
       " ('best-selling', 'ADJ'),\n",
       " ('OS', 'PRON'),\n",
       " ('worldwide', 'PRON'),\n",
       " ('on', 'ADP'),\n",
       " ('smartphones', 'PRON'),\n",
       " ('since', 'ADP'),\n",
       " ('2011', 'PRON'),\n",
       " ('and', 'CONJ'),\n",
       " ('on', 'ADP'),\n",
       " ('tablets', 'NOUN'),\n",
       " ('since', 'ADP'),\n",
       " ('2013.', 'PRON'),\n",
       " ('Google', 'PRON'),\n",
       " ('and', 'CONJ'),\n",
       " ('Twitter', 'PRON'),\n",
       " ('made', 'VERB'),\n",
       " ('a', 'DET'),\n",
       " ('deal', 'NOUN'),\n",
       " ('in', 'ADP'),\n",
       " ('2015', 'PRON'),\n",
       " ('that', 'ADP'),\n",
       " ('gave', 'VERB'),\n",
       " ('Google', 'PRON'),\n",
       " ('access', 'NOUN'),\n",
       " ('to', 'PRT'),\n",
       " (\"Twitter's\", 'PRON'),\n",
       " ('firehose.', 'PRON'),\n",
       " ('Twitter', 'PRON'),\n",
       " ('is', 'VERB'),\n",
       " ('an', 'DET'),\n",
       " ('online', 'PRON'),\n",
       " ('news', 'NOUN'),\n",
       " ('and', 'CONJ'),\n",
       " ('social', 'ADJ'),\n",
       " ('networking', 'NOUN'),\n",
       " ('service', 'NOUN'),\n",
       " ('on', 'ADP'),\n",
       " ('which', 'DET'),\n",
       " ('users', 'NOUN'),\n",
       " ('post', 'NOUN'),\n",
       " ('and', 'CONJ'),\n",
       " ('interact', 'PRON'),\n",
       " ('with', 'ADP'),\n",
       " ('messages', 'PRON'),\n",
       " ('known', 'VERB'),\n",
       " ('as', 'ADP'),\n",
       " ('tweets.', 'PRON'),\n",
       " ('Before', 'ADP'),\n",
       " ('entering', 'VERB'),\n",
       " ('politics,', 'PRON'),\n",
       " ('Donald', 'NOUN'),\n",
       " ('Trump', 'NOUN'),\n",
       " ('was', 'VERB'),\n",
       " ('a', 'DET'),\n",
       " ('domineering', 'PRON'),\n",
       " ('businessman', 'NOUN'),\n",
       " ('and', 'CONJ'),\n",
       " ('a', 'DET'),\n",
       " ('television', 'NOUN'),\n",
       " ('personality.', 'PRON'),\n",
       " ('The', 'DET'),\n",
       " ('2018', 'PRON'),\n",
       " ('FIFA', 'PRON'),\n",
       " ('World', 'NOUN'),\n",
       " ('Cup', 'PRON'),\n",
       " ('is', 'VERB'),\n",
       " ('the', 'DET'),\n",
       " ('21st', 'PRON'),\n",
       " ('FIFA', 'PRON'),\n",
       " ('World', 'NOUN'),\n",
       " ('Cup,', 'PRON'),\n",
       " ('an', 'DET'),\n",
       " ('international', 'ADJ'),\n",
       " ('football', 'NOUN'),\n",
       " ('tournament', 'PRON'),\n",
       " ('contested', 'PRON'),\n",
       " ('once', 'ADV'),\n",
       " ('every', 'DET'),\n",
       " ('four', 'NUM'),\n",
       " ('years.', 'PRON'),\n",
       " ('This', 'DET'),\n",
       " ('is', 'VERB'),\n",
       " ('the', 'DET'),\n",
       " ('first', 'ADJ'),\n",
       " ('World', 'NOUN'),\n",
       " ('Cup', 'PRON'),\n",
       " ('to', 'PRT'),\n",
       " ('be', 'VERB'),\n",
       " ('held', 'VERB'),\n",
       " ('in', 'ADP'),\n",
       " ('Eastern', 'NOUN'),\n",
       " ('Europe', 'NOUN'),\n",
       " ('and', 'CONJ'),\n",
       " ('the', 'DET'),\n",
       " ('11th', 'ADJ'),\n",
       " ('time', 'NOUN'),\n",
       " ('that', 'ADP'),\n",
       " ('it', 'PRON'),\n",
       " ('has', 'VERB'),\n",
       " ('been', 'VERB'),\n",
       " ('held', 'VERB'),\n",
       " ('in', 'ADP'),\n",
       " ('Europe.', 'PRON'),\n",
       " ('Show', 'NOUN'),\n",
       " ('me', 'PRON'),\n",
       " ('the', 'DET'),\n",
       " ('cheapest', 'ADJ'),\n",
       " ('round', 'NOUN'),\n",
       " ('trips', 'PRON'),\n",
       " ('from', 'ADP'),\n",
       " ('Dallas', 'NOUN'),\n",
       " ('to', 'PRT'),\n",
       " ('Atlanta', 'NOUN'),\n",
       " ('I', 'PRON'),\n",
       " ('would', 'VERB'),\n",
       " ('like', 'ADP'),\n",
       " ('to', 'PRT'),\n",
       " ('see', 'VERB'),\n",
       " ('flights', 'NOUN'),\n",
       " ('from', 'ADP'),\n",
       " ('Denver', 'NOUN'),\n",
       " ('to', 'PRT'),\n",
       " ('Philadelphia.', 'PRON'),\n",
       " ('Show', 'NOUN'),\n",
       " ('me', 'PRON'),\n",
       " ('the', 'DET'),\n",
       " ('price', 'NOUN'),\n",
       " ('of', 'ADP'),\n",
       " ('the', 'DET'),\n",
       " ('flights', 'NOUN'),\n",
       " ('leaving', 'VERB'),\n",
       " ('Atlanta', 'NOUN'),\n",
       " ('at', 'ADP'),\n",
       " ('about', 'ADP'),\n",
       " ('3', 'NUM'),\n",
       " ('in', 'ADP'),\n",
       " ('the', 'DET'),\n",
       " ('afternoon', 'NOUN'),\n",
       " ('and', 'CONJ'),\n",
       " ('arriving', 'PRON'),\n",
       " ('in', 'ADP'),\n",
       " ('San', 'NOUN'),\n",
       " ('Francisco.', 'PRON'),\n",
       " ('NASA', 'PRON'),\n",
       " ('invited', 'PRON'),\n",
       " ('social', 'ADJ'),\n",
       " ('media', 'NOUN'),\n",
       " ('users', 'NOUN'),\n",
       " ('to', 'PRT'),\n",
       " ('experience', 'NOUN'),\n",
       " ('the', 'DET'),\n",
       " ('launch', 'NOUN'),\n",
       " ('of', 'ADP'),\n",
       " ('ICESAT-2', 'PRON'),\n",
       " ('Satellite.', 'PRON')]"
      ]
     },
     "execution_count": 220,
     "metadata": {},
     "output_type": "execute_result"
    }
   ],
   "source": [
    "sample_tagged_seq"
   ]
  },
  {
   "cell_type": "markdown",
   "metadata": {},
   "source": [
    "#### modified Viterbi algorithm"
   ]
  },
  {
   "cell_type": "code",
   "execution_count": 221,
   "metadata": {},
   "outputs": [
    {
     "name": "stdout",
     "output_type": "stream",
     "text": [
      "Time taken in seconds:  44.88323712348938\n"
     ]
    }
   ],
   "source": [
    "# tagging the test sentences on the modified algorithm\n",
    "start = time.time()\n",
    "sample_tagged_seq = Viterbi2(words)\n",
    "end = time.time()\n",
    "difference = end-start\n",
    "\n",
    "print(\"Time taken in seconds: \", difference)"
   ]
  },
  {
   "cell_type": "code",
   "execution_count": 222,
   "metadata": {},
   "outputs": [
    {
     "data": {
      "text/plain": [
       "[('Android', 'NOUN'),\n",
       " ('is', 'VERB'),\n",
       " ('a', 'DET'),\n",
       " ('mobile', 'ADJ'),\n",
       " ('operating', 'NOUN'),\n",
       " ('system', 'NOUN'),\n",
       " ('developed', 'VERB'),\n",
       " ('by', 'ADP'),\n",
       " ('Google.', 'NOUN'),\n",
       " ('Android', 'NOUN'),\n",
       " ('has', 'VERB'),\n",
       " ('been', 'VERB'),\n",
       " ('the', 'DET'),\n",
       " ('best-selling', 'ADJ'),\n",
       " ('OS', 'NOUN'),\n",
       " ('worldwide', 'NOUN'),\n",
       " ('on', 'ADP'),\n",
       " ('smartphones', 'VERB'),\n",
       " ('since', 'ADP'),\n",
       " ('2011', 'NUM'),\n",
       " ('and', 'CONJ'),\n",
       " ('on', 'ADP'),\n",
       " ('tablets', 'NOUN'),\n",
       " ('since', 'ADP'),\n",
       " ('2013.', 'NOUN'),\n",
       " ('Google', 'NOUN'),\n",
       " ('and', 'CONJ'),\n",
       " ('Twitter', 'NOUN'),\n",
       " ('made', 'VERB'),\n",
       " ('a', 'DET'),\n",
       " ('deal', 'NOUN'),\n",
       " ('in', 'ADP'),\n",
       " ('2015', 'NUM'),\n",
       " ('that', 'ADP'),\n",
       " ('gave', 'VERB'),\n",
       " ('Google', 'NOUN'),\n",
       " ('access', 'NOUN'),\n",
       " ('to', 'PRT'),\n",
       " (\"Twitter's\", 'NOUN'),\n",
       " ('firehose.', 'NOUN'),\n",
       " ('Twitter', 'NOUN'),\n",
       " ('is', 'VERB'),\n",
       " ('an', 'DET'),\n",
       " ('online', 'NOUN'),\n",
       " ('news', 'NOUN'),\n",
       " ('and', 'CONJ'),\n",
       " ('social', 'ADJ'),\n",
       " ('networking', 'NOUN'),\n",
       " ('service', 'NOUN'),\n",
       " ('on', 'ADP'),\n",
       " ('which', 'DET'),\n",
       " ('users', 'NOUN'),\n",
       " ('post', 'NOUN'),\n",
       " ('and', 'CONJ'),\n",
       " ('interact', 'NOUN'),\n",
       " ('with', 'ADP'),\n",
       " ('messages', 'VERB'),\n",
       " ('known', 'VERB'),\n",
       " ('as', 'ADP'),\n",
       " ('tweets.', 'NOUN'),\n",
       " ('Before', 'ADP'),\n",
       " ('entering', 'VERB'),\n",
       " ('politics,', 'NOUN'),\n",
       " ('Donald', 'NOUN'),\n",
       " ('Trump', 'NOUN'),\n",
       " ('was', 'VERB'),\n",
       " ('a', 'DET'),\n",
       " ('domineering', 'VERB'),\n",
       " ('businessman', 'NOUN'),\n",
       " ('and', 'CONJ'),\n",
       " ('a', 'DET'),\n",
       " ('television', 'NOUN'),\n",
       " ('personality.', 'NOUN'),\n",
       " ('The', 'DET'),\n",
       " ('2018', 'NUM'),\n",
       " ('FIFA', 'NOUN'),\n",
       " ('World', 'NOUN'),\n",
       " ('Cup', 'NOUN'),\n",
       " ('is', 'VERB'),\n",
       " ('the', 'DET'),\n",
       " ('21st', 'NOUN'),\n",
       " ('FIFA', 'NOUN'),\n",
       " ('World', 'NOUN'),\n",
       " ('Cup,', 'NOUN'),\n",
       " ('an', 'DET'),\n",
       " ('international', 'ADJ'),\n",
       " ('football', 'NOUN'),\n",
       " ('tournament', 'NOUN'),\n",
       " ('contested', 'VERB'),\n",
       " ('once', 'ADV'),\n",
       " ('every', 'DET'),\n",
       " ('four', 'NUM'),\n",
       " ('years.', 'NOUN'),\n",
       " ('This', 'DET'),\n",
       " ('is', 'VERB'),\n",
       " ('the', 'DET'),\n",
       " ('first', 'ADJ'),\n",
       " ('World', 'NOUN'),\n",
       " ('Cup', 'NOUN'),\n",
       " ('to', 'PRT'),\n",
       " ('be', 'VERB'),\n",
       " ('held', 'VERB'),\n",
       " ('in', 'ADP'),\n",
       " ('Eastern', 'NOUN'),\n",
       " ('Europe', 'NOUN'),\n",
       " ('and', 'CONJ'),\n",
       " ('the', 'DET'),\n",
       " ('11th', 'ADJ'),\n",
       " ('time', 'NOUN'),\n",
       " ('that', 'ADP'),\n",
       " ('it', 'PRON'),\n",
       " ('has', 'VERB'),\n",
       " ('been', 'VERB'),\n",
       " ('held', 'VERB'),\n",
       " ('in', 'ADP'),\n",
       " ('Europe.', 'NOUN'),\n",
       " ('Show', 'NOUN'),\n",
       " ('me', 'PRON'),\n",
       " ('the', 'DET'),\n",
       " ('cheapest', 'ADJ'),\n",
       " ('round', 'NOUN'),\n",
       " ('trips', 'NOUN'),\n",
       " ('from', 'ADP'),\n",
       " ('Dallas', 'NOUN'),\n",
       " ('to', 'PRT'),\n",
       " ('Atlanta', 'NOUN'),\n",
       " ('I', 'PRON'),\n",
       " ('would', 'VERB'),\n",
       " ('like', 'ADP'),\n",
       " ('to', 'PRT'),\n",
       " ('see', 'VERB'),\n",
       " ('flights', 'NOUN'),\n",
       " ('from', 'ADP'),\n",
       " ('Denver', 'NOUN'),\n",
       " ('to', 'PRT'),\n",
       " ('Philadelphia.', 'NOUN'),\n",
       " ('Show', 'NOUN'),\n",
       " ('me', 'PRON'),\n",
       " ('the', 'DET'),\n",
       " ('price', 'NOUN'),\n",
       " ('of', 'ADP'),\n",
       " ('the', 'DET'),\n",
       " ('flights', 'NOUN'),\n",
       " ('leaving', 'VERB'),\n",
       " ('Atlanta', 'NOUN'),\n",
       " ('at', 'ADP'),\n",
       " ('about', 'ADP'),\n",
       " ('3', 'NUM'),\n",
       " ('in', 'ADP'),\n",
       " ('the', 'DET'),\n",
       " ('afternoon', 'NOUN'),\n",
       " ('and', 'CONJ'),\n",
       " ('arriving', 'VERB'),\n",
       " ('in', 'ADP'),\n",
       " ('San', 'NOUN'),\n",
       " ('Francisco.', 'NOUN'),\n",
       " ('NASA', 'NOUN'),\n",
       " ('invited', 'VERB'),\n",
       " ('social', 'ADJ'),\n",
       " ('media', 'NOUN'),\n",
       " ('users', 'NOUN'),\n",
       " ('to', 'PRT'),\n",
       " ('experience', 'NOUN'),\n",
       " ('the', 'DET'),\n",
       " ('launch', 'NOUN'),\n",
       " ('of', 'ADP'),\n",
       " ('ICESAT-2', 'NOUN'),\n",
       " ('Satellite.', 'NOUN')]"
      ]
     },
     "execution_count": 222,
     "metadata": {},
     "output_type": "execute_result"
    }
   ],
   "source": [
    "sample_tagged_seq"
   ]
  },
  {
   "cell_type": "markdown",
   "metadata": {},
   "source": [
    "### Compare the tagging accuracies of the modifications with the vanilla Viterbi algorithm"
   ]
  },
  {
   "cell_type": "markdown",
   "metadata": {},
   "source": [
    "##### The accuracy of the vanilla Viterbi Algorithm was: 89.4%\n",
    "\n",
    "##### The Accuracy of the first Modified Viterbi Lexicon Tagger Algorithm is: 92.33%\n",
    "\n",
    "##### The Accuracy of the second Modified Viterbi Rule-Based Algorithm is: 94.7%\n",
    "\n",
    "##### That is about 5.3% improvement over the vanilla algorithm"
   ]
  },
  {
   "cell_type": "code",
   "execution_count": null,
   "metadata": {},
   "outputs": [],
   "source": []
  },
  {
   "cell_type": "code",
   "execution_count": null,
   "metadata": {},
   "outputs": [],
   "source": []
  },
  {
   "cell_type": "markdown",
   "metadata": {},
   "source": [
    "### List down cases which were incorrectly tagged by original POS tagger and got corrected by your modifications"
   ]
  },
  {
   "cell_type": "markdown",
   "metadata": {},
   "source": [
    "- Android: is correctly tagged as Noun, the vanilla algorithm tagged it as a PRON\n",
    "- Google: is correctly tagged as Noun, the vanilla algorithm tagged it as a PRON\n",
    "- 2011: is correctly tagged as NUM, the vanilla algorithm tagged it as a PRON\n",
    "- Twitter: is correctly tagged as Noun, the vanilla algorithm tagged it as a PRON\n",
    "- 2015, 2018: are correctly tagged as NUM, the vanilla algorithm tagged it as a PRON\n",
    "- firehose: is correctly tagged as Noun, the vanilla algorithm tagged it as a PRON\n",
    "- domineering: is correctly tagged as ADJ, the vanilla algorithm tagged it as a PRON\n",
    "- contested: is correctly tagged as Verb, the vanilla algorithm tagged it as a PRON\n",
    "- years: is correctly tagged as Noun, the vanilla algorithm tagged it as a PRON\n",
    "- arriving: is correctly tagged as Verb, the vanilla algorithm tagged it as a PRON\n",
    "- species: is correctly tagged as noun the vanilla algorithm tagged it as a PRON\n",
    "##### Seems like the vanilla algorithm tags the words it doesnt understand as PRON"
   ]
  },
  {
   "cell_type": "code",
   "execution_count": null,
   "metadata": {},
   "outputs": [],
   "source": []
  },
  {
   "cell_type": "code",
   "execution_count": null,
   "metadata": {},
   "outputs": [],
   "source": []
  }
 ],
 "metadata": {
  "kernelspec": {
   "display_name": "Python 3",
   "language": "python",
   "name": "python3"
  },
  "language_info": {
   "codemirror_mode": {
    "name": "ipython",
    "version": 3
   },
   "file_extension": ".py",
   "mimetype": "text/x-python",
   "name": "python",
   "nbconvert_exporter": "python",
   "pygments_lexer": "ipython3",
   "version": "3.8.3"
  }
 },
 "nbformat": 4,
 "nbformat_minor": 2
}
